{
  "nbformat": 4,
  "nbformat_minor": 0,
  "metadata": {
    "colab": {
      "provenance": [],
      "authorship_tag": "ABX9TyOBu2A5AHKE/J3N9nAc0X6K",
      "include_colab_link": true
    },
    "kernelspec": {
      "name": "python3",
      "display_name": "Python 3"
    },
    "language_info": {
      "name": "python"
    },
    "accelerator": "GPU",
    "gpuClass": "standard"
  },
  "cells": [
    {
      "cell_type": "markdown",
      "metadata": {
        "id": "view-in-github",
        "colab_type": "text"
      },
      "source": [
        "<a href=\"https://colab.research.google.com/github/kay-squared/PyTorchLearn/blob/main/04_pytorch_CustomDatasets_video.ipynb\" target=\"_parent\"><img src=\"https://colab.research.google.com/assets/colab-badge.svg\" alt=\"Open In Colab\"/></a>"
      ]
    },
    {
      "cell_type": "markdown",
      "source": [
        "# 04. PyTorch Custom Datsets Vidwo Notebook\n",
        "\n",
        "**Reources:**\n",
        "* Book version: https://www.learnpytorch.io/04_pytorch_custom_datasets/\n",
        "* github repo: https://github.com/mrdbourke/pytorch-deep-learning/blob/main/04_pytorch_custom_datasets.ipynb\n",
        "* Discussions on : https://github.com/mrdbourke/pytorch-deep-learning/discussions\n",
        "\n",
        "We have used some datasets on Pytorch before, but how to you get your own data into Pytorch?\n",
        "\n",
        "## Domain libraries\n",
        "Depending on your problem (test, imiages, audio...), you may want to look into each of the PyTorch existinign data loading functions and customizable data loading functions"
      ],
      "metadata": {
        "id": "ZrDJprS5PtC3"
      }
    },
    {
      "cell_type": "markdown",
      "source": [
        "# 0. Import and set up device agnostic code\n"
      ],
      "metadata": {
        "id": "3Q3p4NmXQdC7"
      }
    },
    {
      "cell_type": "code",
      "execution_count": 1,
      "metadata": {
        "colab": {
          "base_uri": "https://localhost:8080/",
          "height": 37
        },
        "id": "gh7feyYdPU3A",
        "outputId": "8e34eb2f-4e63-4740-ca49-e1fe385d6a20"
      },
      "outputs": [
        {
          "output_type": "execute_result",
          "data": {
            "text/plain": [
              "'1.13.1+cu116'"
            ],
            "application/vnd.google.colaboratory.intrinsic+json": {
              "type": "string"
            }
          },
          "metadata": {},
          "execution_count": 1
        }
      ],
      "source": [
        "import torch\n",
        "from torch import nn\n",
        "torch.__version__"
      ]
    },
    {
      "cell_type": "code",
      "source": [
        "device = \"cuda\" if torch.cuda.is_available() else \"cpu\"\n",
        "device"
      ],
      "metadata": {
        "colab": {
          "base_uri": "https://localhost:8080/",
          "height": 37
        },
        "id": "gsXy6G3RRxIJ",
        "outputId": "312e772f-5000-42b5-a358-1dac55090706"
      },
      "execution_count": 2,
      "outputs": [
        {
          "output_type": "execute_result",
          "data": {
            "text/plain": [
              "'cuda'"
            ],
            "application/vnd.google.colaboratory.intrinsic+json": {
              "type": "string"
            }
          },
          "metadata": {},
          "execution_count": 2
        }
      ]
    },
    {
      "cell_type": "markdown",
      "source": [
        "## 1. Download some data\n",
        "* We will build food vision mini. SO get food dataset. Go to torchvision and check out datasets\n",
        "* Use the Food181 data set of torchvision, but make it smaller\n",
        "* find a Notebook which does so here: https://github.com/mrdbourke/pytorch-deep-learning/blob/main/extras/04_custom_data_creation.ipynb\n",
        "* but the data are also provided on the deep learning repo of the course: https://github.com/mrdbourke/pytorch-deep-learning/tree/main/data so we will be using this\n"
      ],
      "metadata": {
        "id": "haRX8oSeUTpd"
      }
    },
    {
      "cell_type": "code",
      "source": [
        "# Get dataset from github\n",
        "import requests\n",
        "import zipfile\n",
        "from pathlib import Path \n",
        "\n",
        "# setup path to a data folder\n",
        "data_path = Path(\"data/\")\n",
        "image_path = data_path / \"pizza_steak_sushi\"\n",
        "\n",
        "# make diretory if does not exist\n",
        "if image_path.is_dir():\n",
        "  print(f\"{image_path} directory already exists ... Skipping download. \")\n",
        "else:\n",
        "  print(f\"{image_path} does not exist, creatinig path.\")\n",
        "  image_path.mkdir(parents=True, exist_ok=True)\n",
        "\n",
        "# download data into data path (raw link adress!)\n",
        "with open(data_path / \"pizza_steak_sushi.zip\",\"wb\") as f:\n",
        "  request = requests.get(\"https://github.com/mrdbourke/pytorch-deep-learning/raw/main/data/pizza_steak_sushi.zip\")\n",
        "  print(f\"Downloading Pizza Steak and Sushi data\")\n",
        "  f.write(request.content)\n",
        "\n",
        "# unzip it into image path\n",
        "with zipfile.ZipFile(data_path / \"pizza_steak_sushi.zip\",\"r\") as zip_ref:\n",
        "  print(f\"Unzipping Pizza Steak and Sushi data.\")\n",
        "  zip_ref.extractall(image_path)\n"
      ],
      "metadata": {
        "colab": {
          "base_uri": "https://localhost:8080/"
        },
        "id": "pO_odwvXR2yA",
        "outputId": "14e9a433-f4a4-468a-8619-2ccc5c471389"
      },
      "execution_count": 3,
      "outputs": [
        {
          "output_type": "stream",
          "name": "stdout",
          "text": [
            "data/pizza_steak_sushi does not exist, creatinig path.\n",
            "Downloading Pizza Steak and Sushi data\n",
            "Unzipping Pizza Steak and Sushi data.\n"
          ]
        }
      ]
    },
    {
      "cell_type": "markdown",
      "source": [
        "## 2. Data preparation and exploratioin"
      ],
      "metadata": {
        "id": "JRT0valVgVVC"
      }
    },
    {
      "cell_type": "code",
      "source": [
        "# walking through directory (standard imiage classification data)\n",
        "import os\n",
        "def walk_through_data(dir_path):\n",
        "  \"\"\" Walks through dir_path and returns its content \"\"\"\n",
        "  for dirpath, dirnames, filenames in os.walk(dir_path):\n",
        "    print(f\"There are {len(dirnames)} directories and {len(filenames)} images in {dirpath}\")"
      ],
      "metadata": {
        "id": "urqhiAX5YTDD"
      },
      "execution_count": 14,
      "outputs": []
    },
    {
      "cell_type": "code",
      "source": [
        "walk_through_data(image_path)"
      ],
      "metadata": {
        "colab": {
          "base_uri": "https://localhost:8080/"
        },
        "id": "5-3cJbjDkQS0",
        "outputId": "bac2ef77-2b67-44fc-ef67-e80bab792347"
      },
      "execution_count": 15,
      "outputs": [
        {
          "output_type": "stream",
          "name": "stdout",
          "text": [
            "There are 2 directories and 0 images in data/pizza_steak_sushi\n",
            "There are 3 directories and 0 images in data/pizza_steak_sushi/train\n",
            "There are 0 directories and 75 images in data/pizza_steak_sushi/train/steak\n",
            "There are 0 directories and 72 images in data/pizza_steak_sushi/train/sushi\n",
            "There are 0 directories and 78 images in data/pizza_steak_sushi/train/pizza\n",
            "There are 3 directories and 0 images in data/pizza_steak_sushi/test\n",
            "There are 0 directories and 19 images in data/pizza_steak_sushi/test/steak\n",
            "There are 0 directories and 31 images in data/pizza_steak_sushi/test/sushi\n",
            "There are 0 directories and 25 images in data/pizza_steak_sushi/test/pizza\n"
          ]
        }
      ]
    },
    {
      "cell_type": "code",
      "source": [
        "# Set up train and test paths - THIS IS STANDARD SETUP (there may also be a validation path)\n",
        "train_dir = image_path / \"train\"\n",
        "test_dir = image_path / \"test\""
      ],
      "metadata": {
        "id": "PQ6XeVlCkaLS"
      },
      "execution_count": 16,
      "outputs": []
    },
    {
      "cell_type": "code",
      "source": [],
      "metadata": {
        "id": "476CzGP3lXRR"
      },
      "execution_count": null,
      "outputs": []
    }
  ]
}