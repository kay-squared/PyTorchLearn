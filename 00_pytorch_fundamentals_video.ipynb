{
  "nbformat": 4,
  "nbformat_minor": 0,
  "metadata": {
    "colab": {
      "provenance": [],
      "authorship_tag": "ABX9TyOgH3G117+yJrzFwy3AZEY5",
      "include_colab_link": true
    },
    "kernelspec": {
      "name": "python3",
      "display_name": "Python 3"
    },
    "language_info": {
      "name": "python"
    },
    "gpuClass": "standard",
    "accelerator": "GPU"
  },
  "cells": [
    {
      "cell_type": "markdown",
      "metadata": {
        "id": "view-in-github",
        "colab_type": "text"
      },
      "source": [
        "<a href=\"https://colab.research.google.com/github/kay-squared/PyTorchLearn/blob/main/00_pytorch_fundamentals_video.ipynb\" target=\"_parent\"><img src=\"https://colab.research.google.com/assets/colab-badge.svg\" alt=\"Open In Colab\"/></a>"
      ]
    },
    {
      "cell_type": "markdown",
      "source": [
        "## 00. PyTorch Fundamentals\n",
        "\n",
        "Resource notebook: https://www.learnpytorch.io/00_pytorch_fundamentals/\n",
        "\n",
        "Ask questions in: https://github.com/mrdbourke/pytorch-deep-learning/discussions"
      ],
      "metadata": {
        "id": "YGmAXAHjGGlH"
      }
    },
    {
      "cell_type": "code",
      "source": [
        "import torch\n",
        "import pandas as pd\n",
        "import numpy as np\n",
        "import matplotlib.pyplot as plt\n",
        "print(torch.__version__)"
      ],
      "metadata": {
        "colab": {
          "base_uri": "https://localhost:8080/",
          "height": 0
        },
        "id": "ejcApyNZFeb3",
        "outputId": "a78bb419-1094-4bed-ce12-3080790cc84a"
      },
      "execution_count": 80,
      "outputs": [
        {
          "output_type": "stream",
          "name": "stdout",
          "text": [
            "1.13.0+cu116\n"
          ]
        }
      ]
    },
    {
      "cell_type": "markdown",
      "source": [
        "## Introduction to tensors"
      ],
      "metadata": {
        "id": "-UT27pPRXTvb"
      }
    },
    {
      "cell_type": "markdown",
      "source": [
        "### Creating tensors\n",
        "\n",
        "https://pytorch.org/docs/stable/tensors.html"
      ],
      "metadata": {
        "id": "89hszxhEXa_1"
      }
    },
    {
      "cell_type": "code",
      "source": [
        "# Scalar\n",
        "scalar = torch.tensor(7)\n",
        "scalar"
      ],
      "metadata": {
        "colab": {
          "base_uri": "https://localhost:8080/",
          "height": 0
        },
        "id": "C5xQn5QsF6NE",
        "outputId": "31e826a5-defd-4e44-be68-841fd468a90a"
      },
      "execution_count": 81,
      "outputs": [
        {
          "output_type": "execute_result",
          "data": {
            "text/plain": [
              "tensor(7)"
            ]
          },
          "metadata": {},
          "execution_count": 81
        }
      ]
    },
    {
      "cell_type": "code",
      "source": [
        "scalar.ndim\n",
        "scalar.item()   # get tensor back as python int"
      ],
      "metadata": {
        "colab": {
          "base_uri": "https://localhost:8080/",
          "height": 0
        },
        "id": "njtQ_Hb_YBpI",
        "outputId": "10de39de-91ab-4515-dfb3-b183e7052c0d"
      },
      "execution_count": 82,
      "outputs": [
        {
          "output_type": "execute_result",
          "data": {
            "text/plain": [
              "7"
            ]
          },
          "metadata": {},
          "execution_count": 82
        }
      ]
    },
    {
      "cell_type": "code",
      "source": [
        "#vector\n",
        "vector = torch.tensor([7,7])\n",
        "print(vector.ndim)\n",
        "print(vector.shape)"
      ],
      "metadata": {
        "colab": {
          "base_uri": "https://localhost:8080/",
          "height": 0
        },
        "id": "dyhYa3XTXoBo",
        "outputId": "8938a244-32b5-41b5-fec8-ba143e1b668c"
      },
      "execution_count": 83,
      "outputs": [
        {
          "output_type": "stream",
          "name": "stdout",
          "text": [
            "1\n",
            "torch.Size([2])\n"
          ]
        }
      ]
    },
    {
      "cell_type": "code",
      "source": [
        "#MATRIX\n",
        "MATRIX = torch.tensor([[7,7],[8,9]])\n",
        "print(MATRIX.ndim)\n",
        "print(MATRIX.shape)\n",
        "print(MATRIX[1])"
      ],
      "metadata": {
        "id": "JgyzVFrJZBko",
        "colab": {
          "base_uri": "https://localhost:8080/",
          "height": 0
        },
        "outputId": "7a1ba2ad-d96f-47a9-f7da-c9c19c6b11fa"
      },
      "execution_count": 84,
      "outputs": [
        {
          "output_type": "stream",
          "name": "stdout",
          "text": [
            "2\n",
            "torch.Size([2, 2])\n",
            "tensor([8, 9])\n"
          ]
        }
      ]
    },
    {
      "cell_type": "code",
      "source": [
        "# Tensor\n",
        "TENSOR = torch.tensor([[[1,2,3],[4,5,6],[7,8,9]]])\n",
        "TENSOR"
      ],
      "metadata": {
        "id": "FOPeiyF6Zoan",
        "colab": {
          "base_uri": "https://localhost:8080/",
          "height": 0
        },
        "outputId": "d4da69a6-2854-43cf-f8a8-0c7a38116425"
      },
      "execution_count": 85,
      "outputs": [
        {
          "output_type": "execute_result",
          "data": {
            "text/plain": [
              "tensor([[[1, 2, 3],\n",
              "         [4, 5, 6],\n",
              "         [7, 8, 9]]])"
            ]
          },
          "metadata": {},
          "execution_count": 85
        }
      ]
    },
    {
      "cell_type": "code",
      "source": [
        "print(TENSOR.ndim)\n",
        "print(TENSOR.shape)\n",
        "print(TENSOR)"
      ],
      "metadata": {
        "id": "y8-fP-zoaia6",
        "colab": {
          "base_uri": "https://localhost:8080/",
          "height": 0
        },
        "outputId": "053b52cc-53dd-428f-9e79-5b80d46f8805"
      },
      "execution_count": 86,
      "outputs": [
        {
          "output_type": "stream",
          "name": "stdout",
          "text": [
            "3\n",
            "torch.Size([1, 3, 3])\n",
            "tensor([[[1, 2, 3],\n",
            "         [4, 5, 6],\n",
            "         [7, 8, 9]]])\n"
          ]
        }
      ]
    },
    {
      "cell_type": "code",
      "source": [
        "TENSOR[0]   # there is 1 3by3 thing which has index 0"
      ],
      "metadata": {
        "id": "FSJDdrQia6C3",
        "colab": {
          "base_uri": "https://localhost:8080/",
          "height": 0
        },
        "outputId": "6555bb57-a39b-4ed1-92ac-398bdac7f3c6"
      },
      "execution_count": 87,
      "outputs": [
        {
          "output_type": "execute_result",
          "data": {
            "text/plain": [
              "tensor([[1, 2, 3],\n",
              "        [4, 5, 6],\n",
              "        [7, 8, 9]])"
            ]
          },
          "metadata": {},
          "execution_count": 87
        }
      ]
    },
    {
      "cell_type": "code",
      "source": [
        "TENSOR[0][0]"
      ],
      "metadata": {
        "id": "BWYQG1ZFbMCb",
        "colab": {
          "base_uri": "https://localhost:8080/",
          "height": 0
        },
        "outputId": "b6a3fe7a-f0e9-436b-a87d-bb4a75074aaa"
      },
      "execution_count": 88,
      "outputs": [
        {
          "output_type": "execute_result",
          "data": {
            "text/plain": [
              "tensor([1, 2, 3])"
            ]
          },
          "metadata": {},
          "execution_count": 88
        }
      ]
    },
    {
      "cell_type": "code",
      "source": [
        "TENSOR[0][2]"
      ],
      "metadata": {
        "id": "SZv3crPkbmq2",
        "colab": {
          "base_uri": "https://localhost:8080/",
          "height": 0
        },
        "outputId": "23b43f7f-7838-46c8-ff18-9804675520f5"
      },
      "execution_count": 89,
      "outputs": [
        {
          "output_type": "execute_result",
          "data": {
            "text/plain": [
              "tensor([7, 8, 9])"
            ]
          },
          "metadata": {},
          "execution_count": 89
        }
      ]
    },
    {
      "cell_type": "code",
      "source": [
        "TENSOR[0][1][1]"
      ],
      "metadata": {
        "id": "0XQTErdMbqqj",
        "colab": {
          "base_uri": "https://localhost:8080/",
          "height": 0
        },
        "outputId": "f09ce145-6525-4fe2-c848-e506a69c6f8a"
      },
      "execution_count": 90,
      "outputs": [
        {
          "output_type": "execute_result",
          "data": {
            "text/plain": [
              "tensor(5)"
            ]
          },
          "metadata": {},
          "execution_count": 90
        }
      ]
    },
    {
      "cell_type": "code",
      "source": [],
      "metadata": {
        "id": "VWC1365Vbuwb"
      },
      "execution_count": 90,
      "outputs": []
    },
    {
      "cell_type": "markdown",
      "source": [
        "## Random tensors\n",
        "\n",
        "Random tensors are important because the way many NN learn is that they are initialized with random tensors.\n",
        "\n",
        "https://pytorch.org/docs/stable/generated/torch.rand.html"
      ],
      "metadata": {
        "id": "apzk2QjkcSdh"
      }
    },
    {
      "cell_type": "code",
      "source": [
        "random_tensor = torch.rand(3,4)\n",
        "random_tensor"
      ],
      "metadata": {
        "id": "ukncrhWdcUs3",
        "colab": {
          "base_uri": "https://localhost:8080/",
          "height": 0
        },
        "outputId": "b7151181-2698-4d43-ed94-721e8846ee94"
      },
      "execution_count": 91,
      "outputs": [
        {
          "output_type": "execute_result",
          "data": {
            "text/plain": [
              "tensor([[0.8694, 0.5677, 0.7411, 0.4294],\n",
              "        [0.8854, 0.5739, 0.2666, 0.6274],\n",
              "        [0.2696, 0.4414, 0.2969, 0.8317]])"
            ]
          },
          "metadata": {},
          "execution_count": 91
        }
      ]
    },
    {
      "cell_type": "code",
      "source": [
        "random_tensor.ndim"
      ],
      "metadata": {
        "id": "mOM0pDqfdKPx",
        "colab": {
          "base_uri": "https://localhost:8080/",
          "height": 0
        },
        "outputId": "f7d91e27-e271-455c-e9e9-c1d159dcf1b8"
      },
      "execution_count": 92,
      "outputs": [
        {
          "output_type": "execute_result",
          "data": {
            "text/plain": [
              "2"
            ]
          },
          "metadata": {},
          "execution_count": 92
        }
      ]
    },
    {
      "cell_type": "code",
      "source": [
        "random_tensor = torch.rand(2,3,4)\n",
        "random_tensor\n",
        "random_tensor.ndim"
      ],
      "metadata": {
        "id": "Abb2ZV--dPS5",
        "colab": {
          "base_uri": "https://localhost:8080/",
          "height": 0
        },
        "outputId": "5b11490e-bba4-4d57-9289-a4d4f1068716"
      },
      "execution_count": 93,
      "outputs": [
        {
          "output_type": "execute_result",
          "data": {
            "text/plain": [
              "3"
            ]
          },
          "metadata": {},
          "execution_count": 93
        }
      ]
    },
    {
      "cell_type": "code",
      "source": [
        "# create a random tensor with similar shape to an image\n",
        "\n",
        "random_image_size_tensor = torch.rand(size=(224,224,3))\n",
        "random_image_size_tensor.shape,random_image_size_tensor.ndim\n"
      ],
      "metadata": {
        "id": "TVacGva3dX6V",
        "colab": {
          "base_uri": "https://localhost:8080/",
          "height": 0
        },
        "outputId": "7c3e6db2-9388-46d1-c0f7-66288bf71872"
      },
      "execution_count": 94,
      "outputs": [
        {
          "output_type": "execute_result",
          "data": {
            "text/plain": [
              "(torch.Size([224, 224, 3]), 3)"
            ]
          },
          "metadata": {},
          "execution_count": 94
        }
      ]
    },
    {
      "cell_type": "markdown",
      "source": [
        "## Tensor with zeros and ones"
      ],
      "metadata": {
        "id": "Ow8Dt_vfeu7U"
      }
    },
    {
      "cell_type": "code",
      "source": [
        "# Create a tensor of all zeros\n",
        "# for masking out numbers\n",
        "\n",
        "zero = torch.zeros(size=(3,4))\n",
        "zero"
      ],
      "metadata": {
        "id": "YWU97jYWdoiq",
        "colab": {
          "base_uri": "https://localhost:8080/",
          "height": 0
        },
        "outputId": "ba02c0f7-022d-44e9-cfc1-676a286795d7"
      },
      "execution_count": 95,
      "outputs": [
        {
          "output_type": "execute_result",
          "data": {
            "text/plain": [
              "tensor([[0., 0., 0., 0.],\n",
              "        [0., 0., 0., 0.],\n",
              "        [0., 0., 0., 0.]])"
            ]
          },
          "metadata": {},
          "execution_count": 95
        }
      ]
    },
    {
      "cell_type": "code",
      "source": [
        "ones = torch.ones(size=(3,4))\n",
        "ones\n",
        "ones.dtype"
      ],
      "metadata": {
        "id": "dZQ5-5_bexOa",
        "colab": {
          "base_uri": "https://localhost:8080/",
          "height": 0
        },
        "outputId": "a7a430c2-b754-4840-abf1-807282ff2365"
      },
      "execution_count": 96,
      "outputs": [
        {
          "output_type": "execute_result",
          "data": {
            "text/plain": [
              "torch.float32"
            ]
          },
          "metadata": {},
          "execution_count": 96
        }
      ]
    },
    {
      "cell_type": "markdown",
      "source": [
        "## Creating a range of tensors and tensors_like"
      ],
      "metadata": {
        "id": "5QbsX1w6fXLU"
      }
    },
    {
      "cell_type": "code",
      "source": [
        "# arange\n",
        "one_to_ten=torch.arange(1,1000,77)\n",
        "one_to_ten"
      ],
      "metadata": {
        "id": "xM_51UeBfIZq",
        "colab": {
          "base_uri": "https://localhost:8080/",
          "height": 0
        },
        "outputId": "179a32f6-1a6f-4e0f-fdb7-7db6a3486842"
      },
      "execution_count": 97,
      "outputs": [
        {
          "output_type": "execute_result",
          "data": {
            "text/plain": [
              "tensor([  1,  78, 155, 232, 309, 386, 463, 540, 617, 694, 771, 848, 925])"
            ]
          },
          "metadata": {},
          "execution_count": 97
        }
      ]
    },
    {
      "cell_type": "code",
      "source": [
        "one_to_ten=torch.arange(1,11)\n",
        "one_to_ten"
      ],
      "metadata": {
        "id": "utm3sX2MfMNI",
        "colab": {
          "base_uri": "https://localhost:8080/",
          "height": 0
        },
        "outputId": "f09e5b0e-ceb1-4f45-bd47-d5d04daecf63"
      },
      "execution_count": 98,
      "outputs": [
        {
          "output_type": "execute_result",
          "data": {
            "text/plain": [
              "tensor([ 1,  2,  3,  4,  5,  6,  7,  8,  9, 10])"
            ]
          },
          "metadata": {},
          "execution_count": 98
        }
      ]
    },
    {
      "cell_type": "code",
      "source": [
        "# like\n",
        "ten_zeros = torch.zeros_like(one_to_ten)\n",
        "ten_zeros"
      ],
      "metadata": {
        "id": "YiMcv5a2f-my",
        "colab": {
          "base_uri": "https://localhost:8080/",
          "height": 0
        },
        "outputId": "bba3cb17-c5b7-4999-ebf4-038ee2de74c4"
      },
      "execution_count": 99,
      "outputs": [
        {
          "output_type": "execute_result",
          "data": {
            "text/plain": [
              "tensor([0, 0, 0, 0, 0, 0, 0, 0, 0, 0])"
            ]
          },
          "metadata": {},
          "execution_count": 99
        }
      ]
    },
    {
      "cell_type": "markdown",
      "source": [
        "## Tensor datatypes\n",
        "\n",
        "types:\n",
        "* None (--> float 32)\n",
        "* float16\n",
        "* floate64\n",
        "* ...\n",
        "\n",
        "\n",
        "https://pytorch.org/docs/stable/tensors.html\n",
        "\n",
        "\n",
        "Dataypes give rise to one of the most common errors, the other ones being related to device adn to shape>\n",
        "\n",
        "1. Tensors dont have correct datatype\n",
        "2. tensors dont have the correct shape\n",
        "3. tensors are not on the right device (if tensors have to interact, they should live on the same device"
      ],
      "metadata": {
        "id": "pr5YuTN8z3Wf"
      }
    },
    {
      "cell_type": "code",
      "source": [
        "float_32_tensor=torch.tensor([3,6,8])\n",
        "float_32_tensor.type"
      ],
      "metadata": {
        "id": "yP0EO_3wgPjs",
        "colab": {
          "base_uri": "https://localhost:8080/",
          "height": 0
        },
        "outputId": "62dd3180-4712-42a7-f529-507c1d05686b"
      },
      "execution_count": 100,
      "outputs": [
        {
          "output_type": "execute_result",
          "data": {
            "text/plain": [
              "<function Tensor.type>"
            ]
          },
          "metadata": {},
          "execution_count": 100
        }
      ]
    },
    {
      "cell_type": "code",
      "source": [
        "float_16_tensor=torch.tensor([3,6,8],\n",
        "                             dtype=torch.float16,    # datatype of the tensor\n",
        "                             device=None,           # \"cpu\", \"cuda\"\n",
        "                             requires_grad=False  # whether or not I want torch to keep track of gradients with tensor operations\n",
        "                             )"
      ],
      "metadata": {
        "id": "IyqUWEQ4z_yp"
      },
      "execution_count": 101,
      "outputs": []
    },
    {
      "cell_type": "code",
      "source": [
        "float_16_tensor = float_32_tensor.type(torch.float16)\n",
        "float_16_tensor = float_32_tensor.type(torch.half)\n",
        "float_16_tensor"
      ],
      "metadata": {
        "id": "TbTFnkTr0j5F",
        "colab": {
          "base_uri": "https://localhost:8080/",
          "height": 0
        },
        "outputId": "5109e4df-a240-4167-9c34-f57638e54ff8"
      },
      "execution_count": 102,
      "outputs": [
        {
          "output_type": "execute_result",
          "data": {
            "text/plain": [
              "tensor([3., 6., 8.], dtype=torch.float16)"
            ]
          },
          "metadata": {},
          "execution_count": 102
        }
      ]
    },
    {
      "cell_type": "code",
      "source": [
        "# against expections, this does not result in an error, there is some background going on here, \n",
        "float_16_tensor * float_32_tensor\n"
      ],
      "metadata": {
        "id": "iO-tDxY03FlF",
        "colab": {
          "base_uri": "https://localhost:8080/",
          "height": 0
        },
        "outputId": "8ae6d484-d7a5-4a35-db6c-674507f13587"
      },
      "execution_count": 103,
      "outputs": [
        {
          "output_type": "execute_result",
          "data": {
            "text/plain": [
              "tensor([ 9., 36., 64.], dtype=torch.float16)"
            ]
          },
          "metadata": {},
          "execution_count": 103
        }
      ]
    },
    {
      "cell_type": "code",
      "source": [
        "int_32_tensor =torch.tensor([3,6,9],dtype=torch.int32)"
      ],
      "metadata": {
        "id": "6FGbGmXz3n8V"
      },
      "execution_count": 104,
      "outputs": []
    },
    {
      "cell_type": "code",
      "source": [
        "\n",
        "float_16_tensor * int_32_tensor"
      ],
      "metadata": {
        "id": "8VnP0RAE4AV2",
        "colab": {
          "base_uri": "https://localhost:8080/",
          "height": 0
        },
        "outputId": "8c2c6fb6-71b3-49a4-96ae-dc082b7f7c80"
      },
      "execution_count": 105,
      "outputs": [
        {
          "output_type": "execute_result",
          "data": {
            "text/plain": [
              "tensor([ 9., 36., 72.], dtype=torch.float16)"
            ]
          },
          "metadata": {},
          "execution_count": 105
        }
      ]
    },
    {
      "cell_type": "markdown",
      "source": [
        "Apparently we did not succeed in getting an error"
      ],
      "metadata": {
        "id": "RGjboXiS4cT7"
      }
    },
    {
      "cell_type": "markdown",
      "source": [
        "## Getting information from tensors:\n",
        "\n",
        "1. Tensors dont have correct datatype: tensor.dtype\n",
        "2. tensors dont have the correct shape: tensor.shape\n",
        "3. tensors are not on the right device (if tensors have to interact, they should live on the same device : tensor.device"
      ],
      "metadata": {
        "id": "sDN5COxD4i86"
      }
    },
    {
      "cell_type": "code",
      "source": [
        "some_tensor = torch.rand([3,4])\n",
        "some_tensor"
      ],
      "metadata": {
        "id": "WXoug17N4Gcu",
        "colab": {
          "base_uri": "https://localhost:8080/",
          "height": 0
        },
        "outputId": "54cbb359-d4c4-4243-c7d8-3fddeefa2d02"
      },
      "execution_count": 106,
      "outputs": [
        {
          "output_type": "execute_result",
          "data": {
            "text/plain": [
              "tensor([[0.4436, 0.9726, 0.5194, 0.5337],\n",
              "        [0.7050, 0.3362, 0.7891, 0.1694],\n",
              "        [0.1800, 0.7177, 0.6988, 0.5510]])"
            ]
          },
          "metadata": {},
          "execution_count": 106
        }
      ]
    },
    {
      "cell_type": "code",
      "source": [
        "print(some_tensor)\n",
        "print(f\"Datatype of tensor: {some_tensor.dtype}|\")\n",
        "print(f\"Size of tensor: {some_tensor.size()}\")\n",
        "print(f\"Shape of tensor: {some_tensor.shape}\")\n",
        "print(f\"Device of tensor: {some_tensor.device}\")\n",
        "\n",
        "\n"
      ],
      "metadata": {
        "id": "dLqkjnJu4zQv",
        "colab": {
          "base_uri": "https://localhost:8080/",
          "height": 0
        },
        "outputId": "35d6e6f9-9368-43bc-c120-df05cdcab216"
      },
      "execution_count": 107,
      "outputs": [
        {
          "output_type": "stream",
          "name": "stdout",
          "text": [
            "tensor([[0.4436, 0.9726, 0.5194, 0.5337],\n",
            "        [0.7050, 0.3362, 0.7891, 0.1694],\n",
            "        [0.1800, 0.7177, 0.6988, 0.5510]])\n",
            "Datatype of tensor: torch.float32|\n",
            "Size of tensor: torch.Size([3, 4])\n",
            "Shape of tensor: torch.Size([3, 4])\n",
            "Device of tensor: cpu\n"
          ]
        }
      ]
    },
    {
      "cell_type": "markdown",
      "source": [
        "## Manipulating tensors (tensor operation)\n",
        "\n",
        "* addition\n",
        "* subtraction\n",
        "* multiplication\n",
        "* divison\n",
        "* matrix multiplication\n",
        "\n"
      ],
      "metadata": {
        "id": "wLu5XiHf5t8x"
      }
    },
    {
      "cell_type": "markdown",
      "source": [
        "### Using python operators"
      ],
      "metadata": {
        "id": "csbgvhbs8MeC"
      }
    },
    {
      "cell_type": "code",
      "source": [
        "#addition\n",
        "\n",
        "tensor = torch.tensor([1,2,3])\n",
        "tensor+=10\n",
        "tensor"
      ],
      "metadata": {
        "id": "v33p3oPe5JsM",
        "colab": {
          "base_uri": "https://localhost:8080/",
          "height": 0
        },
        "outputId": "1cc591bc-5e18-4c70-8c93-7ffb0acf4187"
      },
      "execution_count": 108,
      "outputs": [
        {
          "output_type": "execute_result",
          "data": {
            "text/plain": [
              "tensor([11, 12, 13])"
            ]
          },
          "metadata": {},
          "execution_count": 108
        }
      ]
    },
    {
      "cell_type": "code",
      "source": [
        "tensor+torch.ones_like(tensor)"
      ],
      "metadata": {
        "id": "9hVdUQSP7NEq",
        "colab": {
          "base_uri": "https://localhost:8080/",
          "height": 0
        },
        "outputId": "a40e578e-a3bc-4da3-8015-26485be44419"
      },
      "execution_count": 109,
      "outputs": [
        {
          "output_type": "execute_result",
          "data": {
            "text/plain": [
              "tensor([12, 13, 14])"
            ]
          },
          "metadata": {},
          "execution_count": 109
        }
      ]
    },
    {
      "cell_type": "code",
      "source": [
        "# multiplication\n",
        "tensor*=10\n",
        "tensor"
      ],
      "metadata": {
        "id": "riYFkYnd7auA",
        "colab": {
          "base_uri": "https://localhost:8080/",
          "height": 0
        },
        "outputId": "7a6b8853-9459-4131-d3ab-6281f7bdf9e3"
      },
      "execution_count": 110,
      "outputs": [
        {
          "output_type": "execute_result",
          "data": {
            "text/plain": [
              "tensor([110, 120, 130])"
            ]
          },
          "metadata": {},
          "execution_count": 110
        }
      ]
    },
    {
      "cell_type": "code",
      "source": [
        "# subtract\n",
        "\n",
        "tensor-=6\n",
        "tensor"
      ],
      "metadata": {
        "id": "GzPYSZLV7rzY",
        "colab": {
          "base_uri": "https://localhost:8080/",
          "height": 0
        },
        "outputId": "1961df2f-962e-46d0-d44b-092d52a9aeba"
      },
      "execution_count": 111,
      "outputs": [
        {
          "output_type": "execute_result",
          "data": {
            "text/plain": [
              "tensor([104, 114, 124])"
            ]
          },
          "metadata": {},
          "execution_count": 111
        }
      ]
    },
    {
      "cell_type": "markdown",
      "source": [
        "### pytorch inbuilt functions"
      ],
      "metadata": {
        "id": "HAYrr8zf8Aw6"
      }
    },
    {
      "cell_type": "code",
      "source": [
        "torch.mul(tensor,14)\n",
        "torch.add(tensor,-1000)\n"
      ],
      "metadata": {
        "id": "SHDp3nRg78ll",
        "colab": {
          "base_uri": "https://localhost:8080/",
          "height": 0
        },
        "outputId": "e80c765d-725a-48d0-f378-1eb3b70c31ef"
      },
      "execution_count": 112,
      "outputs": [
        {
          "output_type": "execute_result",
          "data": {
            "text/plain": [
              "tensor([-896, -886, -876])"
            ]
          },
          "metadata": {},
          "execution_count": 112
        }
      ]
    },
    {
      "cell_type": "markdown",
      "source": [
        "### Matrix Multiplication\n",
        "\n",
        "1. Elementwise\n",
        "2. Matmult"
      ],
      "metadata": {
        "id": "_aIxE-RC8YkU"
      }
    },
    {
      "cell_type": "markdown",
      "source": [
        "#### Element wise multiplication"
      ],
      "metadata": {
        "id": "5wxJI9Nz8wLw"
      }
    },
    {
      "cell_type": "code",
      "source": [
        "torch.tensor([1,2,3])*torch.tensor([1,2,3])"
      ],
      "metadata": {
        "id": "uNzoHK4s8IJ5",
        "colab": {
          "base_uri": "https://localhost:8080/",
          "height": 0
        },
        "outputId": "eca5d3a2-417d-449c-8b4a-36c1c7a6dda7"
      },
      "execution_count": 113,
      "outputs": [
        {
          "output_type": "execute_result",
          "data": {
            "text/plain": [
              "tensor([1, 4, 9])"
            ]
          },
          "metadata": {},
          "execution_count": 113
        }
      ]
    },
    {
      "cell_type": "markdown",
      "source": [
        "#### Matrix multiplication"
      ],
      "metadata": {
        "id": "Rrp9OAbh9Geh"
      }
    },
    {
      "cell_type": "code",
      "source": [
        "# dot product\n",
        "tensor = torch.tensor([1,2,3])\n",
        "torch.matmul(tensor,tensor)"
      ],
      "metadata": {
        "id": "Qd_HLvAy85UX",
        "colab": {
          "base_uri": "https://localhost:8080/",
          "height": 0
        },
        "outputId": "ee3fbe1c-db55-4b18-eefe-4a52570d009c"
      },
      "execution_count": 114,
      "outputs": [
        {
          "output_type": "execute_result",
          "data": {
            "text/plain": [
              "tensor(14)"
            ]
          },
          "metadata": {},
          "execution_count": 114
        }
      ]
    },
    {
      "cell_type": "code",
      "source": [
        "# time issue\n",
        "%%time\n",
        "value=0\n",
        "for i in range(len(tensor)):\n",
        "  value+= tensor[i]*tensor[i]\n",
        "print(value)\n"
      ],
      "metadata": {
        "id": "qkZ251Gz9P-u",
        "colab": {
          "base_uri": "https://localhost:8080/",
          "height": 0
        },
        "outputId": "0fd40a14-bb79-4afd-ac7b-b22b33aba597"
      },
      "execution_count": 115,
      "outputs": [
        {
          "output_type": "stream",
          "name": "stdout",
          "text": [
            "tensor(14)\n",
            "CPU times: user 1.68 ms, sys: 188 µs, total: 1.87 ms\n",
            "Wall time: 2.15 ms\n"
          ]
        }
      ]
    },
    {
      "cell_type": "code",
      "source": [
        "%%time\n",
        "torch.matmul(tensor,tensor)       # this is much faster!"
      ],
      "metadata": {
        "id": "7YMSKaLE985O",
        "colab": {
          "base_uri": "https://localhost:8080/",
          "height": 0
        },
        "outputId": "0e4dcf0e-aa6d-484f-cebd-c2c5932dc4f3"
      },
      "execution_count": 116,
      "outputs": [
        {
          "output_type": "stream",
          "name": "stdout",
          "text": [
            "CPU times: user 32 µs, sys: 9 µs, total: 41 µs\n",
            "Wall time: 44.8 µs\n"
          ]
        },
        {
          "output_type": "execute_result",
          "data": {
            "text/plain": [
              "tensor(14)"
            ]
          },
          "metadata": {},
          "execution_count": 116
        }
      ]
    },
    {
      "cell_type": "code",
      "source": [
        "tensor@tensor"
      ],
      "metadata": {
        "id": "IvW2TcL6_EAT",
        "colab": {
          "base_uri": "https://localhost:8080/",
          "height": 0
        },
        "outputId": "8b416ca2-9083-4fdf-c9bd-e82be47f6e87"
      },
      "execution_count": 117,
      "outputs": [
        {
          "output_type": "execute_result",
          "data": {
            "text/plain": [
              "tensor(14)"
            ]
          },
          "metadata": {},
          "execution_count": 117
        }
      ]
    },
    {
      "cell_type": "markdown",
      "source": [
        "### One of the most common errors in deep learning:  Shape errors!\n",
        "\n",
        "There are two main rules for matrix multiplications:\n",
        "1. the inner dimensions must match: (3,2) @ (2,3)\n",
        "2. the resultign matrix has the shape of the outer dimensions"
      ],
      "metadata": {
        "id": "ljweqf_v-vgj"
      }
    },
    {
      "cell_type": "code",
      "source": [
        "# will not work\n",
        "# torch.matmul(torch.rand(3,2),torch.rand(3,2))"
      ],
      "metadata": {
        "id": "rQ3bZKaz-GMm"
      },
      "execution_count": 118,
      "outputs": []
    },
    {
      "cell_type": "code",
      "source": [
        "# will work\n",
        "torch.matmul(torch.rand(3,2),torch.rand(2,3))\n",
        "#torch.mm is an alias for matmul"
      ],
      "metadata": {
        "id": "-zaaNpWR_d0Q",
        "colab": {
          "base_uri": "https://localhost:8080/",
          "height": 0
        },
        "outputId": "a8412229-2567-442b-80cf-bf4d01e681ed"
      },
      "execution_count": 119,
      "outputs": [
        {
          "output_type": "execute_result",
          "data": {
            "text/plain": [
              "tensor([[0.4275, 0.5550, 0.6655],\n",
              "        [0.1185, 0.1079, 0.1145],\n",
              "        [0.3934, 0.4346, 0.4964]])"
            ]
          },
          "metadata": {},
          "execution_count": 119
        }
      ]
    },
    {
      "cell_type": "code",
      "source": [
        "tensor_A = torch.tensor([[1,2],[2,3],[3,4]])\n",
        "tensor_B = torch.tensor([[7,8],[9,10],[11,12]])\n",
        "\n",
        "tensor_A.shape, tensor_B.shape"
      ],
      "metadata": {
        "id": "Ued31Gek_nny",
        "colab": {
          "base_uri": "https://localhost:8080/",
          "height": 0
        },
        "outputId": "af7c9e6e-12ed-480c-f627-1a38a672f36e"
      },
      "execution_count": 120,
      "outputs": [
        {
          "output_type": "execute_result",
          "data": {
            "text/plain": [
              "(torch.Size([3, 2]), torch.Size([3, 2]))"
            ]
          },
          "metadata": {},
          "execution_count": 120
        }
      ]
    },
    {
      "cell_type": "markdown",
      "source": [
        "### Transpose"
      ],
      "metadata": {
        "id": "WDUiS2jND_J5"
      }
    },
    {
      "cell_type": "code",
      "source": [
        "print(torch.mm(tensor_A,tensor_B.T))\n",
        "\n",
        "print(torch.mm(tensor_A,tensor_B.T).size())\n"
      ],
      "metadata": {
        "id": "j7xBoMojDmHL",
        "colab": {
          "base_uri": "https://localhost:8080/",
          "height": 0
        },
        "outputId": "17808e07-e20a-43f4-bb6c-44425cec957a"
      },
      "execution_count": 121,
      "outputs": [
        {
          "output_type": "stream",
          "name": "stdout",
          "text": [
            "tensor([[23, 29, 35],\n",
            "        [38, 48, 58],\n",
            "        [53, 67, 81]])\n",
            "torch.Size([3, 3])\n"
          ]
        }
      ]
    },
    {
      "cell_type": "markdown",
      "source": [
        "## Tensor Aggregation\n",
        "\n",
        "* mean\n",
        "* max, min\n",
        "* sum\n",
        "* ..."
      ],
      "metadata": {
        "id": "j-ABZ8sdEqMD"
      }
    },
    {
      "cell_type": "code",
      "source": [
        "x = torch.arange(0,100,10)\n",
        "print(x,x.dtype)"
      ],
      "metadata": {
        "id": "cHDoZAAwEDwA",
        "colab": {
          "base_uri": "https://localhost:8080/",
          "height": 0
        },
        "outputId": "522fbad2-beff-4222-8ec4-6dd5a06bc5f3"
      },
      "execution_count": 122,
      "outputs": [
        {
          "output_type": "stream",
          "name": "stdout",
          "text": [
            "tensor([ 0, 10, 20, 30, 40, 50, 60, 70, 80, 90]) torch.int64\n"
          ]
        }
      ]
    },
    {
      "cell_type": "code",
      "source": [
        "print(torch.min(x))\n",
        "x.min()\n",
        "x.max()\n",
        "torch.sum(x), x.sum()"
      ],
      "metadata": {
        "id": "w_Fmx7xqE8Zy",
        "colab": {
          "base_uri": "https://localhost:8080/",
          "height": 0
        },
        "outputId": "830927a2-1157-418e-ef9e-684d145b333f"
      },
      "execution_count": 123,
      "outputs": [
        {
          "output_type": "stream",
          "name": "stdout",
          "text": [
            "tensor(0)\n"
          ]
        },
        {
          "output_type": "execute_result",
          "data": {
            "text/plain": [
              "(tensor(450), tensor(450))"
            ]
          },
          "metadata": {},
          "execution_count": 123
        }
      ]
    },
    {
      "cell_type": "code",
      "source": [
        "# torch.mean and x.mean() do not work on data type long!!!\n",
        "# will not work:\n",
        "#torch.mean(x)\n",
        "\n",
        "print(torch.mean(x.type(torch.float32)))\n",
        "print(x.type(torch.float32).mean())\n"
      ],
      "metadata": {
        "id": "mPci8vGcE-_K",
        "colab": {
          "base_uri": "https://localhost:8080/",
          "height": 0
        },
        "outputId": "f5b36319-cea2-4ea5-f093-a9f73c2c826f"
      },
      "execution_count": 124,
      "outputs": [
        {
          "output_type": "stream",
          "name": "stdout",
          "text": [
            "tensor(45.)\n",
            "tensor(45.)\n"
          ]
        }
      ]
    },
    {
      "cell_type": "code",
      "source": [],
      "metadata": {
        "id": "Aumu30UqFnBs"
      },
      "execution_count": 124,
      "outputs": []
    },
    {
      "cell_type": "markdown",
      "source": [
        "## Argmax and argmin (positional max and min)"
      ],
      "metadata": {
        "id": "tlhH7vZXGyPE"
      }
    },
    {
      "cell_type": "code",
      "source": [
        "x,x.argmin(), x.argmax()\n"
      ],
      "metadata": {
        "id": "zL4jz_2pGoOR",
        "colab": {
          "base_uri": "https://localhost:8080/",
          "height": 0
        },
        "outputId": "4300d5c9-c9a2-4661-d285-e62d42b76cf3"
      },
      "execution_count": 125,
      "outputs": [
        {
          "output_type": "execute_result",
          "data": {
            "text/plain": [
              "(tensor([ 0, 10, 20, 30, 40, 50, 60, 70, 80, 90]), tensor(0), tensor(9))"
            ]
          },
          "metadata": {},
          "execution_count": 125
        }
      ]
    },
    {
      "cell_type": "markdown",
      "source": [
        "## Reshaping, squeezing, unsqueezing\n",
        "\n",
        "* torch.reshape: reshpae an input tensor to defined shape (the number of elements has to stay the same!)\n",
        "* torch.view: return a view of an input tensor of certain shape but keep the same memory as the origional tensor\n",
        "* torch.stack, torch.vstack, torch.hstack: combine multiple tensors on top of eacxh other (vertical) or side by side (h stack)\n",
        "* torch.squeeze: removes of 1-dimensions from a tensor\n",
        "* torch.unsqueeze: add a 1 dimension\n",
        "* torch.permute: returns a view with dimensions permuted\n",
        "\n",
        "\n"
      ],
      "metadata": {
        "id": "ilAxVw0vHm3_"
      }
    },
    {
      "cell_type": "code",
      "source": [
        "\n",
        "x = torch.arange(1.,11.)\n",
        "x,x.shape\n"
      ],
      "metadata": {
        "id": "NNBL_KqXHHgO",
        "colab": {
          "base_uri": "https://localhost:8080/",
          "height": 0
        },
        "outputId": "262b1d95-d729-4c2b-a1a6-2751bbb8e8f5"
      },
      "execution_count": 126,
      "outputs": [
        {
          "output_type": "execute_result",
          "data": {
            "text/plain": [
              "(tensor([ 1.,  2.,  3.,  4.,  5.,  6.,  7.,  8.,  9., 10.]), torch.Size([10]))"
            ]
          },
          "metadata": {},
          "execution_count": 126
        }
      ]
    },
    {
      "cell_type": "code",
      "source": [
        "# add an extra dimension\n",
        "# the shape has to be in accordance with the original dimensions\n",
        "# will not work\n",
        "#x_reshaped = x.reshape(1,7)\n",
        "# will work:\n",
        "x_reshaped = x.reshape(1,10)\n",
        "x.shape,x,x_reshaped, x_reshaped.shape"
      ],
      "metadata": {
        "id": "Z4mE_ygiJCYy",
        "colab": {
          "base_uri": "https://localhost:8080/",
          "height": 0
        },
        "outputId": "d42b7a48-0f67-42e2-9f62-63620b87508c"
      },
      "execution_count": 127,
      "outputs": [
        {
          "output_type": "execute_result",
          "data": {
            "text/plain": [
              "(torch.Size([10]),\n",
              " tensor([ 1.,  2.,  3.,  4.,  5.,  6.,  7.,  8.,  9., 10.]),\n",
              " tensor([[ 1.,  2.,  3.,  4.,  5.,  6.,  7.,  8.,  9., 10.]]),\n",
              " torch.Size([1, 10]))"
            ]
          },
          "metadata": {},
          "execution_count": 127
        }
      ]
    },
    {
      "cell_type": "code",
      "source": [
        "# both ways work\n",
        "x_reshaped = x.reshape(10,1)\n",
        "x.shape,x_reshaped, x_reshaped.shape"
      ],
      "metadata": {
        "id": "WvNv6s4GJCJl",
        "colab": {
          "base_uri": "https://localhost:8080/",
          "height": 0
        },
        "outputId": "85c125b7-e496-4453-951a-ff4608704be9"
      },
      "execution_count": 128,
      "outputs": [
        {
          "output_type": "execute_result",
          "data": {
            "text/plain": [
              "(torch.Size([10]), tensor([[ 1.],\n",
              "         [ 2.],\n",
              "         [ 3.],\n",
              "         [ 4.],\n",
              "         [ 5.],\n",
              "         [ 6.],\n",
              "         [ 7.],\n",
              "         [ 8.],\n",
              "         [ 9.],\n",
              "         [10.]]), torch.Size([10, 1]))"
            ]
          },
          "metadata": {},
          "execution_count": 128
        }
      ]
    },
    {
      "cell_type": "code",
      "source": [
        "\n",
        "x.reshape(2,5),x.reshape(5,2) "
      ],
      "metadata": {
        "id": "6RlpPkNrJB2I",
        "colab": {
          "base_uri": "https://localhost:8080/",
          "height": 0
        },
        "outputId": "3b01e767-75c2-4652-b8af-2a0c5a1e42cd"
      },
      "execution_count": 129,
      "outputs": [
        {
          "output_type": "execute_result",
          "data": {
            "text/plain": [
              "(tensor([[ 1.,  2.,  3.,  4.,  5.],\n",
              "         [ 6.,  7.,  8.,  9., 10.]]), tensor([[ 1.,  2.],\n",
              "         [ 3.,  4.],\n",
              "         [ 5.,  6.],\n",
              "         [ 7.,  8.],\n",
              "         [ 9., 10.]]))"
            ]
          },
          "metadata": {},
          "execution_count": 129
        }
      ]
    },
    {
      "cell_type": "code",
      "source": [
        "# changing the view:\n",
        "# note that changing z changes x also, as typical in pythons\n",
        "z=x.view(1,10)\n",
        "print(x)\n",
        "z[:,0]=20\n",
        "print(x)"
      ],
      "metadata": {
        "id": "OF8yP2e4JArG",
        "colab": {
          "base_uri": "https://localhost:8080/",
          "height": 0
        },
        "outputId": "78e49466-3766-4530-e733-6051d9245717"
      },
      "execution_count": 130,
      "outputs": [
        {
          "output_type": "stream",
          "name": "stdout",
          "text": [
            "tensor([ 1.,  2.,  3.,  4.,  5.,  6.,  7.,  8.,  9., 10.])\n",
            "tensor([20.,  2.,  3.,  4.,  5.,  6.,  7.,  8.,  9., 10.])\n"
          ]
        }
      ]
    },
    {
      "cell_type": "code",
      "source": [
        "# Stacking tensors on top of each other\n",
        "# dim =0 is the default = vstack\n",
        "x_stacked = torch.stack([x,x,x,x])\n",
        "x_stacked, x_stacked.shape\n",
        "\n"
      ],
      "metadata": {
        "id": "uYCWirsPIBmV",
        "colab": {
          "base_uri": "https://localhost:8080/",
          "height": 0
        },
        "outputId": "9dac8f8d-177f-44d7-a6f2-4d1653bbda6d"
      },
      "execution_count": 131,
      "outputs": [
        {
          "output_type": "execute_result",
          "data": {
            "text/plain": [
              "(tensor([[20.,  2.,  3.,  4.,  5.,  6.,  7.,  8.,  9., 10.],\n",
              "         [20.,  2.,  3.,  4.,  5.,  6.,  7.,  8.,  9., 10.],\n",
              "         [20.,  2.,  3.,  4.,  5.,  6.,  7.,  8.,  9., 10.],\n",
              "         [20.,  2.,  3.,  4.,  5.,  6.,  7.,  8.,  9., 10.]]),\n",
              " torch.Size([4, 10]))"
            ]
          },
          "metadata": {},
          "execution_count": 131
        }
      ]
    },
    {
      "cell_type": "code",
      "source": [
        "x_stacked = torch.stack([x,x,x,x], dim=1)   # = hstack\n",
        "x_stacked, x_stacked.shape\n"
      ],
      "metadata": {
        "id": "RgUlSl4KN2RJ",
        "colab": {
          "base_uri": "https://localhost:8080/",
          "height": 0
        },
        "outputId": "7e8aaee1-8ef4-42f1-f0d0-9fbd28249baa"
      },
      "execution_count": 132,
      "outputs": [
        {
          "output_type": "execute_result",
          "data": {
            "text/plain": [
              "(tensor([[20., 20., 20., 20.],\n",
              "         [ 2.,  2.,  2.,  2.],\n",
              "         [ 3.,  3.,  3.,  3.],\n",
              "         [ 4.,  4.,  4.,  4.],\n",
              "         [ 5.,  5.,  5.,  5.],\n",
              "         [ 6.,  6.,  6.,  6.],\n",
              "         [ 7.,  7.,  7.,  7.],\n",
              "         [ 8.,  8.,  8.,  8.],\n",
              "         [ 9.,  9.,  9.,  9.],\n",
              "         [10., 10., 10., 10.]]), torch.Size([10, 4]))"
            ]
          },
          "metadata": {},
          "execution_count": 132
        }
      ]
    },
    {
      "cell_type": "code",
      "source": [
        "# Squeeze and unsqueeze\n",
        "\n",
        "x = torch.zeros(2,1,2,1,2)\n",
        "print(x.size())\n",
        "y = torch.squeeze(x)\n",
        "print(y.size())\n",
        "y = torch.squeeze(x,0)\n",
        "print(y.size())\n",
        "y = torch.squeeze(x,1)\n",
        "print(y.size())"
      ],
      "metadata": {
        "id": "jF-35jz0OOSU",
        "colab": {
          "base_uri": "https://localhost:8080/",
          "height": 0
        },
        "outputId": "d1a9bef4-29a7-4beb-ce33-2e1fdeb8da8c"
      },
      "execution_count": 133,
      "outputs": [
        {
          "output_type": "stream",
          "name": "stdout",
          "text": [
            "torch.Size([2, 1, 2, 1, 2])\n",
            "torch.Size([2, 2, 2])\n",
            "torch.Size([2, 1, 2, 1, 2])\n",
            "torch.Size([2, 2, 1, 2])\n"
          ]
        }
      ]
    },
    {
      "cell_type": "code",
      "source": [
        "\n",
        "x = torch.arange(1.,11.)\n",
        "print(x,x.shape)\n",
        "x_reshaped = x.reshape(1,10)\n",
        "print(x_reshaped,x_reshaped.shape)\n",
        "print(x_reshaped.squeeze(),x_reshaped.squeeze().shape)"
      ],
      "metadata": {
        "id": "pP1c4P9KPBx1",
        "colab": {
          "base_uri": "https://localhost:8080/",
          "height": 0
        },
        "outputId": "71d189d0-eb66-4679-a181-b4dd07d60361"
      },
      "execution_count": 134,
      "outputs": [
        {
          "output_type": "stream",
          "name": "stdout",
          "text": [
            "tensor([ 1.,  2.,  3.,  4.,  5.,  6.,  7.,  8.,  9., 10.]) torch.Size([10])\n",
            "tensor([[ 1.,  2.,  3.,  4.,  5.,  6.,  7.,  8.,  9., 10.]]) torch.Size([1, 10])\n",
            "tensor([ 1.,  2.,  3.,  4.,  5.,  6.,  7.,  8.,  9., 10.]) torch.Size([10])\n"
          ]
        }
      ]
    },
    {
      "cell_type": "code",
      "source": [
        "x_unsqueezed=torch.unsqueeze(x,dim=0)   #  gives one line\n",
        "x,x.shape, x_unsqueezed,x_unsqueezed.shape"
      ],
      "metadata": {
        "id": "2azuobC9Ps5t",
        "colab": {
          "base_uri": "https://localhost:8080/",
          "height": 0
        },
        "outputId": "9c0d3ad6-4a48-4e67-ac78-0f566935d4a0"
      },
      "execution_count": 135,
      "outputs": [
        {
          "output_type": "execute_result",
          "data": {
            "text/plain": [
              "(tensor([ 1.,  2.,  3.,  4.,  5.,  6.,  7.,  8.,  9., 10.]),\n",
              " torch.Size([10]),\n",
              " tensor([[ 1.,  2.,  3.,  4.,  5.,  6.,  7.,  8.,  9., 10.]]),\n",
              " torch.Size([1, 10]))"
            ]
          },
          "metadata": {},
          "execution_count": 135
        }
      ]
    },
    {
      "cell_type": "code",
      "source": [
        "x_unsqueezed=torch.unsqueeze(x,dim=1)     # gives one column\n",
        "x,x.shape, x_unsqueezed,x_unsqueezed.shape"
      ],
      "metadata": {
        "id": "asnwj98CQYk6",
        "colab": {
          "base_uri": "https://localhost:8080/",
          "height": 0
        },
        "outputId": "086393f3-5f4a-47b2-8e11-5110e98f004c"
      },
      "execution_count": 136,
      "outputs": [
        {
          "output_type": "execute_result",
          "data": {
            "text/plain": [
              "(tensor([ 1.,  2.,  3.,  4.,  5.,  6.,  7.,  8.,  9., 10.]),\n",
              " torch.Size([10]),\n",
              " tensor([[ 1.],\n",
              "         [ 2.],\n",
              "         [ 3.],\n",
              "         [ 4.],\n",
              "         [ 5.],\n",
              "         [ 6.],\n",
              "         [ 7.],\n",
              "         [ 8.],\n",
              "         [ 9.],\n",
              "         [10.]]),\n",
              " torch.Size([10, 1]))"
            ]
          },
          "metadata": {},
          "execution_count": 136
        }
      ]
    },
    {
      "cell_type": "code",
      "source": [
        "# Permute\n",
        "# gives a view with permuted dimensions\n",
        "\n",
        "x = torch.rand(2,3,5)\n",
        "print(f\"shape of original x {x.shape}\")\n",
        "x_permuted = torch.permute(x,(2,0,1))\n",
        "print(f\"shape of permuted x {x_permuted.shape}\")"
      ],
      "metadata": {
        "id": "RfoLcJaBQfOr",
        "colab": {
          "base_uri": "https://localhost:8080/",
          "height": 0
        },
        "outputId": "533118a3-e07f-42b7-f2f8-8213b1d8b2de"
      },
      "execution_count": 137,
      "outputs": [
        {
          "output_type": "stream",
          "name": "stdout",
          "text": [
            "shape of original x torch.Size([2, 3, 5])\n",
            "shape of permuted x torch.Size([5, 2, 3])\n"
          ]
        }
      ]
    },
    {
      "cell_type": "code",
      "source": [
        "# with images:\n",
        "\n",
        "x_original = torch.rand(size=(224,224,3))\n",
        "x_permuted = torch.permute(x_original,(2,0,1))\n",
        "print(x_original.shape,x_permuted.shape)"
      ],
      "metadata": {
        "id": "m5N0-vEyRYck",
        "colab": {
          "base_uri": "https://localhost:8080/",
          "height": 0
        },
        "outputId": "23804050-2f68-43f1-d738-c6f33ae95a14"
      },
      "execution_count": 138,
      "outputs": [
        {
          "output_type": "stream",
          "name": "stdout",
          "text": [
            "torch.Size([224, 224, 3]) torch.Size([3, 224, 224])\n"
          ]
        }
      ]
    },
    {
      "cell_type": "code",
      "source": [
        "# not that it is a view\n",
        "# the element that is changed in one of the tensors will change in the other one\n",
        "# pay attention to the different indices in the permuted tensor!\n",
        "\n",
        "print(x_original[0][1][2],x_permuted[2][0][1])\n",
        "x_original[0][1][2] = 33\n",
        "x_original[0][1][2],x_permuted[2][0][1]\n",
        "\n"
      ],
      "metadata": {
        "id": "kgm9eCOeSCg5",
        "colab": {
          "base_uri": "https://localhost:8080/",
          "height": 0
        },
        "outputId": "2e4f3d5d-4a1d-40a7-d170-51fd5a6a52bf"
      },
      "execution_count": 139,
      "outputs": [
        {
          "output_type": "stream",
          "name": "stdout",
          "text": [
            "tensor(0.4626) tensor(0.4626)\n"
          ]
        },
        {
          "output_type": "execute_result",
          "data": {
            "text/plain": [
              "(tensor(33.), tensor(33.))"
            ]
          },
          "metadata": {},
          "execution_count": 139
        }
      ]
    },
    {
      "cell_type": "markdown",
      "source": [
        "## Indexing\n",
        "\n",
        "similar to indexing with numpy"
      ],
      "metadata": {
        "id": "VTlRHrpNTkad"
      }
    },
    {
      "cell_type": "code",
      "source": [
        "x = torch.arange(1,10).reshape(1,3,3)\n",
        "x,x.shape\n"
      ],
      "metadata": {
        "id": "7TAAxsixSsKz",
        "colab": {
          "base_uri": "https://localhost:8080/",
          "height": 0
        },
        "outputId": "fef43bd0-d354-4a92-ef21-e3c05878dc9a"
      },
      "execution_count": 140,
      "outputs": [
        {
          "output_type": "execute_result",
          "data": {
            "text/plain": [
              "(tensor([[[1, 2, 3],\n",
              "          [4, 5, 6],\n",
              "          [7, 8, 9]]]), torch.Size([1, 3, 3]))"
            ]
          },
          "metadata": {},
          "execution_count": 140
        }
      ]
    },
    {
      "cell_type": "code",
      "source": [
        "x[0]    # index on the first dimension (size 1)"
      ],
      "metadata": {
        "id": "ao_DJs9wUTGW",
        "colab": {
          "base_uri": "https://localhost:8080/",
          "height": 0
        },
        "outputId": "7ce9c462-396a-4cbf-b330-a0d1a0f12a53"
      },
      "execution_count": 141,
      "outputs": [
        {
          "output_type": "execute_result",
          "data": {
            "text/plain": [
              "tensor([[1, 2, 3],\n",
              "        [4, 5, 6],\n",
              "        [7, 8, 9]])"
            ]
          },
          "metadata": {},
          "execution_count": 141
        }
      ]
    },
    {
      "cell_type": "code",
      "source": [
        "x[0][0],x[0,0]"
      ],
      "metadata": {
        "id": "y-WYoDqsUvNy",
        "colab": {
          "base_uri": "https://localhost:8080/",
          "height": 0
        },
        "outputId": "d33919f1-95c9-4382-fee0-05b1cd5e6cf0"
      },
      "execution_count": 142,
      "outputs": [
        {
          "output_type": "execute_result",
          "data": {
            "text/plain": [
              "(tensor([1, 2, 3]), tensor([1, 2, 3]))"
            ]
          },
          "metadata": {},
          "execution_count": 142
        }
      ]
    },
    {
      "cell_type": "code",
      "source": [
        "x[0][2][2],x[0,2,2]"
      ],
      "metadata": {
        "id": "9hR-c1GVU4fx",
        "colab": {
          "base_uri": "https://localhost:8080/",
          "height": 0
        },
        "outputId": "0b29773b-71d5-484a-d189-1f7ac96ab3cf"
      },
      "execution_count": 143,
      "outputs": [
        {
          "output_type": "execute_result",
          "data": {
            "text/plain": [
              "(tensor(9), tensor(9))"
            ]
          },
          "metadata": {},
          "execution_count": 143
        }
      ]
    },
    {
      "cell_type": "code",
      "source": [
        "3 # use colon to select all of the target dimension\n",
        "\n"
      ],
      "metadata": {
        "id": "8KCOwKfDVGCD",
        "colab": {
          "base_uri": "https://localhost:8080/",
          "height": 0
        },
        "outputId": "a3c47f8b-2c5b-4b93-9a90-88d9dd6cfbb7"
      },
      "execution_count": 144,
      "outputs": [
        {
          "output_type": "execute_result",
          "data": {
            "text/plain": [
              "3"
            ]
          },
          "metadata": {},
          "execution_count": 144
        }
      ]
    },
    {
      "cell_type": "code",
      "source": [
        "x[:,0]"
      ],
      "metadata": {
        "id": "QnAy66SeVxHN",
        "colab": {
          "base_uri": "https://localhost:8080/",
          "height": 0
        },
        "outputId": "dd097eca-e226-46c6-b22c-5ccdfe0bd3d5"
      },
      "execution_count": 145,
      "outputs": [
        {
          "output_type": "execute_result",
          "data": {
            "text/plain": [
              "tensor([[1, 2, 3]])"
            ]
          },
          "metadata": {},
          "execution_count": 145
        }
      ]
    },
    {
      "cell_type": "code",
      "source": [
        "x[:,:,0], x[:,0:2,0],x[:,:2,0]"
      ],
      "metadata": {
        "id": "1_f3TYAvV7OC",
        "colab": {
          "base_uri": "https://localhost:8080/",
          "height": 0
        },
        "outputId": "91218647-f437-4c01-ae08-309084587fc6"
      },
      "execution_count": 146,
      "outputs": [
        {
          "output_type": "execute_result",
          "data": {
            "text/plain": [
              "(tensor([[1, 4, 7]]), tensor([[1, 4]]), tensor([[1, 4]]))"
            ]
          },
          "metadata": {},
          "execution_count": 146
        }
      ]
    },
    {
      "cell_type": "code",
      "source": [
        "print(x[:,1,1])\n",
        "print(x[0,1,1])"
      ],
      "metadata": {
        "id": "e9xpMp1hWbu5",
        "colab": {
          "base_uri": "https://localhost:8080/",
          "height": 0
        },
        "outputId": "cf3d1477-ab72-479a-ae1f-4fd6b3cfa913"
      },
      "execution_count": 147,
      "outputs": [
        {
          "output_type": "stream",
          "name": "stdout",
          "text": [
            "tensor([5])\n",
            "tensor(5)\n"
          ]
        }
      ]
    },
    {
      "cell_type": "code",
      "source": [
        "# return 9\n",
        "x[0,2,2]"
      ],
      "metadata": {
        "id": "WqZC50gMWmQt",
        "colab": {
          "base_uri": "https://localhost:8080/",
          "height": 0
        },
        "outputId": "3a21b6ec-d7b9-4733-bb04-6ed15df7ed8b"
      },
      "execution_count": 148,
      "outputs": [
        {
          "output_type": "execute_result",
          "data": {
            "text/plain": [
              "tensor(9)"
            ]
          },
          "metadata": {},
          "execution_count": 148
        }
      ]
    },
    {
      "cell_type": "code",
      "source": [
        "# return 3,6,9\n",
        "x[0,:,2]"
      ],
      "metadata": {
        "id": "RKclH5JhW7lC",
        "colab": {
          "base_uri": "https://localhost:8080/",
          "height": 0
        },
        "outputId": "fa3e2031-e7d8-4961-f542-b4f86614247a"
      },
      "execution_count": 149,
      "outputs": [
        {
          "output_type": "execute_result",
          "data": {
            "text/plain": [
              "tensor([3, 6, 9])"
            ]
          },
          "metadata": {},
          "execution_count": 149
        }
      ]
    },
    {
      "cell_type": "markdown",
      "source": [
        "## Pytorch tensor and numpy\n",
        "\n",
        "About interactions between Pytorch and numpy\n",
        "* e.g. data in mumpy, want it in tensor: torch.from_numpy (takes an np array and changes it to a tensor)\n",
        "* from tensor to numpy: torch.Tensor.numpy()"
      ],
      "metadata": {
        "id": "8serUXL6X7Tn"
      }
    },
    {
      "cell_type": "code",
      "source": [
        "# numpy array to tensor\n",
        "array = np.arange(1,8)\n",
        "tensor = torch.from_numpy(array)\n",
        "array.dtype, tensor.dtype    # the default dtype in numpy is float64 but not pytorches!\n"
      ],
      "metadata": {
        "id": "i0E3b9IKXALD",
        "colab": {
          "base_uri": "https://localhost:8080/",
          "height": 0
        },
        "outputId": "85f1f973-4b79-4edc-9fb2-2f625aaff95f"
      },
      "execution_count": 150,
      "outputs": [
        {
          "output_type": "execute_result",
          "data": {
            "text/plain": [
              "(dtype('int64'), torch.int64)"
            ]
          },
          "metadata": {},
          "execution_count": 150
        }
      ]
    },
    {
      "cell_type": "code",
      "source": [
        "tensor = torch.from_numpy(array).type(torch.float32)"
      ],
      "metadata": {
        "id": "UlsZGWvQYjDH"
      },
      "execution_count": 151,
      "outputs": []
    },
    {
      "cell_type": "code",
      "source": [
        "# check out what happens if we change a value in the array --> does not change tensor\n",
        "print(array[3],tensor[3])\n",
        "array[3]=10\n",
        "print(array[3],tensor[3])"
      ],
      "metadata": {
        "id": "rkKaw6UtZQDz",
        "colab": {
          "base_uri": "https://localhost:8080/",
          "height": 0
        },
        "outputId": "92c8d7b7-8a04-4d98-f86e-0c10ed118149"
      },
      "execution_count": 152,
      "outputs": [
        {
          "output_type": "stream",
          "name": "stdout",
          "text": [
            "4 tensor(4.)\n",
            "10 tensor(4.)\n"
          ]
        }
      ]
    },
    {
      "cell_type": "code",
      "source": [
        "# tensor to mumpy\n",
        "tensor = torch.ones(7)\n",
        "numpy_tensor = tensor.numpy()     # againm the numpy array gets the data type of the tensor.\n",
        "tensor, numpy_tensor"
      ],
      "metadata": {
        "id": "C99nTaGbZgJN",
        "colab": {
          "base_uri": "https://localhost:8080/",
          "height": 0
        },
        "outputId": "3c5f2463-4b36-433d-f9e0-31c8fadbb205"
      },
      "execution_count": 153,
      "outputs": [
        {
          "output_type": "execute_result",
          "data": {
            "text/plain": [
              "(tensor([1., 1., 1., 1., 1., 1., 1.]),\n",
              " array([1., 1., 1., 1., 1., 1., 1.], dtype=float32))"
            ]
          },
          "metadata": {},
          "execution_count": 153
        }
      ]
    },
    {
      "cell_type": "code",
      "source": [
        "# change the tensor - the array element DOES change!!\n",
        "print(tensor[3],numpy_tensor[3])\n",
        "tensor[3]=10\n",
        "print(tensor[3],numpy_tensor[3])"
      ],
      "metadata": {
        "id": "5RKXcEFgaD39",
        "colab": {
          "base_uri": "https://localhost:8080/",
          "height": 0
        },
        "outputId": "01a3ee9a-a047-49af-aa9d-c0ab23866593"
      },
      "execution_count": 154,
      "outputs": [
        {
          "output_type": "stream",
          "name": "stdout",
          "text": [
            "tensor(1.) 1.0\n",
            "tensor(10.) 10.0\n"
          ]
        }
      ]
    },
    {
      "cell_type": "markdown",
      "source": [
        "## PyTorch Reproducability\n",
        "trying to take the random out of the random!\n",
        "\n",
        "NN: start with random numbers - perform tensor operation - update random numbers - ....\n",
        "\n",
        "Sometimes we want to take out a bit of the randomness\n",
        "\n",
        "\n",
        "https://pytorch.org/docs/stable/notes/randomness.html\n",
        "\n",
        "https://en.wikipedia.org/wiki/Random_seed"
      ],
      "metadata": {
        "id": "VPcCTSeearB-"
      }
    },
    {
      "cell_type": "code",
      "source": [
        "# randomness\n",
        "[print(torch.rand(3)) for i in np.arange(10)]"
      ],
      "metadata": {
        "id": "snNhBPeGacXG",
        "colab": {
          "base_uri": "https://localhost:8080/",
          "height": 0
        },
        "outputId": "fc7f0571-dd21-4b8a-f965-f71316bfceba"
      },
      "execution_count": 155,
      "outputs": [
        {
          "output_type": "stream",
          "name": "stdout",
          "text": [
            "tensor([0.0439, 0.4367, 0.4731])\n",
            "tensor([0.9129, 0.0017, 0.1279])\n",
            "tensor([0.2028, 0.6808, 0.9808])\n",
            "tensor([0.8409, 0.7430, 0.3531])\n",
            "tensor([0.0833, 0.1122, 0.4030])\n",
            "tensor([0.3140, 0.8325, 0.2196])\n",
            "tensor([0.6822, 0.8682, 0.9207])\n",
            "tensor([0.7991, 0.6096, 0.6553])\n",
            "tensor([0.5985, 0.7002, 0.7376])\n",
            "tensor([0.2238, 0.2798, 0.9330])\n"
          ]
        },
        {
          "output_type": "execute_result",
          "data": {
            "text/plain": [
              "[None, None, None, None, None, None, None, None, None, None]"
            ]
          },
          "metadata": {},
          "execution_count": 155
        }
      ]
    },
    {
      "cell_type": "code",
      "source": [
        "# without random seed\n",
        "random_tensor_A = torch.rand(3,4)\n",
        "random_tensor_B = torch.rand(3,4)\n",
        "\n",
        "print(random_tensor_A, random_tensor_B)\n",
        "print(random_tensor_A == random_tensor_B)"
      ],
      "metadata": {
        "id": "uc2sO1shbM_p",
        "colab": {
          "base_uri": "https://localhost:8080/",
          "height": 0
        },
        "outputId": "863d8f77-5d69-45d7-c64f-beedecf7b5d5"
      },
      "execution_count": 156,
      "outputs": [
        {
          "output_type": "stream",
          "name": "stdout",
          "text": [
            "tensor([[0.7582, 0.0692, 0.2671, 0.7370],\n",
            "        [0.5789, 0.2300, 0.8886, 0.5439],\n",
            "        [0.7183, 0.2034, 0.3077, 0.7451]]) tensor([[0.2455, 0.1387, 0.0803, 0.0832],\n",
            "        [0.7169, 0.7576, 0.3273, 0.7462],\n",
            "        [0.7254, 0.8974, 0.2768, 0.6498]])\n",
            "tensor([[False, False, False, False],\n",
            "        [False, False, False, False],\n",
            "        [False, False, False, False]])\n"
          ]
        }
      ]
    },
    {
      "cell_type": "code",
      "source": [
        "# reduce randomness with a seed: flavour the randomness (e.g. for sharing with someone else)\n",
        "RANDOM_SEED = 42\n",
        "torch.manual_seed(RANDOM_SEED)\n",
        "random_tensor_A = torch.rand(3,4)\n",
        "\n",
        "# have to set it everytime!\n",
        "RANDOM_SEED = 42\n",
        "torch.manual_seed(RANDOM_SEED)\n",
        "random_tensor_B = torch.rand(3,4)\n",
        "\n",
        "print(random_tensor_A, random_tensor_B)\n",
        "print(random_tensor_A == random_tensor_B)"
      ],
      "metadata": {
        "id": "A00Skh47bTko",
        "colab": {
          "base_uri": "https://localhost:8080/",
          "height": 0
        },
        "outputId": "71247173-1a1f-4aec-b7fb-6ad776f9d601"
      },
      "execution_count": 157,
      "outputs": [
        {
          "output_type": "stream",
          "name": "stdout",
          "text": [
            "tensor([[0.8823, 0.9150, 0.3829, 0.9593],\n",
            "        [0.3904, 0.6009, 0.2566, 0.7936],\n",
            "        [0.9408, 0.1332, 0.9346, 0.5936]]) tensor([[0.8823, 0.9150, 0.3829, 0.9593],\n",
            "        [0.3904, 0.6009, 0.2566, 0.7936],\n",
            "        [0.9408, 0.1332, 0.9346, 0.5936]])\n",
            "tensor([[True, True, True, True],\n",
            "        [True, True, True, True],\n",
            "        [True, True, True, True]])\n"
          ]
        }
      ]
    },
    {
      "cell_type": "markdown",
      "source": [
        "## Running tensors and pyTorch objects on GPUs\n",
        "\n",
        "for faster computation on numbers, thanks to CUDA = NVIDIA + Pytorch behind the scenes"
      ],
      "metadata": {
        "id": "GV87b66edT9k"
      }
    },
    {
      "cell_type": "markdown",
      "source": [
        "### Gettiing a GPU\n",
        "* use colab (also Pro,m Pro +)\n",
        "* Use your own GPU (investiment, setup): https://timdettmers.com/2020/09/07/which-gpu-for-deep-learning/\n",
        "* use cloud computing such as GCP (google cloud), AWS, Azure = renting and accessing computers on cloud (also takes a little bit of setting up)\n",
        "\n",
        "PyTorch Setting up Documentation!\n"
      ],
      "metadata": {
        "id": "upWMHtLodn43"
      }
    },
    {
      "cell_type": "code",
      "source": [
        "# Check for GPU\n",
        "print(torch.cuda.is_available())\n",
        "# count GPUs\n",
        "print(torch.cuda.device_count())\n",
        "\n"
      ],
      "metadata": {
        "id": "i6Vkok9jcJwM",
        "colab": {
          "base_uri": "https://localhost:8080/",
          "height": 0
        },
        "outputId": "26923dba-2ccb-445c-9d42-89c6a8fa87f5"
      },
      "execution_count": 159,
      "outputs": [
        {
          "output_type": "stream",
          "name": "stdout",
          "text": [
            "True\n",
            "1\n"
          ]
        }
      ]
    },
    {
      "cell_type": "markdown",
      "source": [
        "## Device agnostic code\n",
        "\n",
        "https://pytorch.org/docs/stable/notes/cuda.html?highlight=cuda+semantics\n",
        "\n",
        "Its best practice to set up device agnostic code as pytorch runs on both gpu and cpu. ue gpu if available otherwise default to cpu\n",
        "\n",
        "\n",
        "\n"
      ],
      "metadata": {
        "id": "ZwqOrGz8fqtK"
      }
    },
    {
      "cell_type": "code",
      "source": [
        "# Setup device agnostic code\n",
        "device=\"cuda\" if torch.cuda.is_available() else \"cpu\"\n",
        "print(device)"
      ],
      "metadata": {
        "id": "u2euZppge98x",
        "colab": {
          "base_uri": "https://localhost:8080/",
          "height": 0
        },
        "outputId": "5ffc9617-95bd-4288-8053-6c72c63733e3"
      },
      "execution_count": 160,
      "outputs": [
        {
          "output_type": "stream",
          "name": "stdout",
          "text": [
            "cuda\n"
          ]
        }
      ]
    },
    {
      "cell_type": "markdown",
      "source": [
        "## Device agnostic objects\n",
        "\n",
        "Putting tensors and models on the GPU\n",
        "\n",
        "\n"
      ],
      "metadata": {
        "id": "jr918x7ngWhl"
      }
    },
    {
      "cell_type": "code",
      "source": [
        "# default tensor i on cpu\n",
        "tensor = torch.tensor([1,2,3])\n",
        "print(tensor, tensor.device)\n"
      ],
      "metadata": {
        "id": "Bfeg1eH6fOxS",
        "colab": {
          "base_uri": "https://localhost:8080/",
          "height": 0
        },
        "outputId": "4fc13bad-734a-4dea-f702-9c10aff5bba7"
      },
      "execution_count": 161,
      "outputs": [
        {
          "output_type": "stream",
          "name": "stdout",
          "text": [
            "tensor([1, 2, 3]) cpu\n"
          ]
        }
      ]
    },
    {
      "cell_type": "code",
      "source": [
        "# move tensor to gpu if available\n",
        "device=\"cuda\" if torch.cuda.is_available() else \"cpu\"\n",
        "tensor_on_gpu = tensor.to(device)    # used a lot, also for models!\n",
        "tensor_on_gpu2 = tensor.cuda()\n",
        "\n",
        "print(tensor_on_gpu, tensor_on_gpu.device)\n",
        "print(tensor_on_gpu2, tensor_on_gpu2.device)"
      ],
      "metadata": {
        "id": "Q1XSQTM6gzDA",
        "colab": {
          "base_uri": "https://localhost:8080/",
          "height": 0
        },
        "outputId": "22eb32c1-015a-49c9-fba6-d42ddcf341ab"
      },
      "execution_count": 163,
      "outputs": [
        {
          "output_type": "stream",
          "name": "stdout",
          "text": [
            "tensor([1, 2, 3], device='cuda:0') cuda:0\n",
            "tensor([1, 2, 3], device='cuda:0') cuda:0\n"
          ]
        }
      ]
    },
    {
      "cell_type": "code",
      "source": [
        "# moving tensors vback to cpu (tenor ono gpu, cant transform to numpy?)\n",
        "# this will not work\n",
        "#tensor_on_gpu.numpy()\n",
        "\n",
        "tensor_on_cpu = tensor_on_gpu.cpu()\n",
        "tensor_on_cpu.numpy()\n",
        "\n",
        "print(tensor_on_gpu, tensor_on_gpu.device)\n",
        "print(tensor_on_cpu, tensor_on_cpu.device)"
      ],
      "metadata": {
        "id": "wvFvhQquhMeZ",
        "colab": {
          "base_uri": "https://localhost:8080/",
          "height": 0
        },
        "outputId": "0ec98f22-d2a5-49ad-aaba-c88b40d87f79"
      },
      "execution_count": 168,
      "outputs": [
        {
          "output_type": "stream",
          "name": "stdout",
          "text": [
            "tensor([1, 2, 3], device='cuda:0') cuda:0\n",
            "tensor([1, 2, 3]) cpu\n"
          ]
        }
      ]
    },
    {
      "cell_type": "markdown",
      "source": [
        "# Exercises !!\n",
        "\n",
        "found here, on the bottom of the page: https://www.learnpytorch.io/00_pytorch_fundamentals/\n",
        "\n",
        "1. Create a random tensor with shape (7, 7).\n",
        "2. Perform a matrix multiplication on the tensor from 2 with another random tensor with shape (1, 7) (hint: you may have to transpose the second tensor).\n",
        "3. Set the random seed to 0 and do exercises 2 & 3 over again.\n",
        "4. Speaking of random seeds, we saw how to set it with torch.manual_seed() but is there a GPU equivalent? (hint: you'll need to look into the documentation for torch.cuda for this one). If there is, set the GPU random seed to 1234.\n",
        "5. Create two random tensors of shape (2, 3) and send them both to the GPU (you'll need access to a GPU for this). Set torch.manual_seed(1234) when creating the tensors (this doesn't have to be the GPU random seed).\n",
        "6. Perform a matrix multiplication on the tensors you created in 6 (again, you may have to adjust the shapes of one of the tensors).\n",
        "7. Find the maximum and minimum values of the output of 7.\n",
        "8. Find the maximum and minimum index values of the output of 7.\n",
        "9. Make a random tensor with shape (1, 1, 1, 10) and then create a new tensor with all the 1 dimensions removed to be left with a tensor of shape (10). Set the seed to 7 when you create it and print out the first tensor and it's shape as well as the second tensor and it's shape.\n",
        "\n",
        "\n",
        "Link to Exercises:\n",
        "https://github.com/mrdbourke/pytorch-deep-learning/tree/main/extras/exercises\n",
        "\n",
        "(open notebook via github!)"
      ],
      "metadata": {
        "id": "B9Vdi_8Y8eGA"
      }
    },
    {
      "cell_type": "code",
      "source": [
        "# 1. Create a random tensor with shape (7, 7)\n",
        "tensor1 = torch.rand(7,7)\n",
        "tensor1"
      ],
      "metadata": {
        "colab": {
          "base_uri": "https://localhost:8080/",
          "height": 0
        },
        "id": "OeOnTGoE7NvJ",
        "outputId": "490dc537-eaa4-45aa-cf90-55a999845430"
      },
      "execution_count": 173,
      "outputs": [
        {
          "output_type": "execute_result",
          "data": {
            "text/plain": [
              "tensor([[0.1568, 0.2083, 0.3289, 0.1054, 0.9192, 0.4008, 0.9302],\n",
              "        [0.6558, 0.0766, 0.8460, 0.3624, 0.3083, 0.0850, 0.0029],\n",
              "        [0.6431, 0.3908, 0.6947, 0.0897, 0.8712, 0.1330, 0.4137],\n",
              "        [0.6044, 0.7581, 0.9037, 0.9555, 0.1035, 0.6258, 0.2849],\n",
              "        [0.4452, 0.1258, 0.9554, 0.1330, 0.7672, 0.6757, 0.6625],\n",
              "        [0.2297, 0.9545, 0.6099, 0.5643, 0.0594, 0.7099, 0.4250],\n",
              "        [0.2709, 0.9295, 0.6115, 0.2234, 0.2469, 0.4761, 0.7792]])"
            ]
          },
          "metadata": {},
          "execution_count": 173
        }
      ]
    },
    {
      "cell_type": "code",
      "source": [
        "# 2. Perform a matrix multiplication on the tensor from 1 \n",
        "# with another random tensor with shape (1, 7) (hint: you may have to transpose the second tensor).\n",
        "\n",
        "tensor2 = torch.rand(1,7)\n",
        "tensor3 = torch.mm(tensor1, tensor2.T)\n",
        "tensor3"
      ],
      "metadata": {
        "colab": {
          "base_uri": "https://localhost:8080/",
          "height": 0
        },
        "id": "LiNzSNXp9U1O",
        "outputId": "94ea60be-f350-44fb-c021-55286ed404ad"
      },
      "execution_count": 174,
      "outputs": [
        {
          "output_type": "execute_result",
          "data": {
            "text/plain": [
              "tensor([[1.2308],\n",
              "        [0.8691],\n",
              "        [1.2840],\n",
              "        [1.4394],\n",
              "        [1.6629],\n",
              "        [1.2447],\n",
              "        [1.1423]])"
            ]
          },
          "metadata": {},
          "execution_count": 174
        }
      ]
    },
    {
      "cell_type": "code",
      "source": [
        "# 3 Set the random seed to 0 and do exercises 1 & 2 over again\n",
        "\n",
        "RANDOM_SEED = 0\n",
        "torch.manual_seed(RANDOM_SEED)\n",
        "tensor1 = torch.rand(7,7)\n",
        "RANDOM_SEED = 0\n",
        "torch.manual_seed(RANDOM_SEED)\n",
        "tensor2 = torch.rand(1,7)\n",
        "tensor3 = torch.mm(tensor1, tensor2.T)\n",
        "tensor3"
      ],
      "metadata": {
        "colab": {
          "base_uri": "https://localhost:8080/",
          "height": 0
        },
        "id": "vKy_70zP9qjF",
        "outputId": "6a1917d3-c268-485c-a396-bb4ca07ff487"
      },
      "execution_count": 176,
      "outputs": [
        {
          "output_type": "execute_result",
          "data": {
            "text/plain": [
              "tensor([[1.5985],\n",
              "        [1.1173],\n",
              "        [1.2741],\n",
              "        [1.6838],\n",
              "        [0.8279],\n",
              "        [1.0347],\n",
              "        [1.2498]])"
            ]
          },
          "metadata": {},
          "execution_count": 176
        }
      ]
    },
    {
      "cell_type": "code",
      "source": [
        "# 4. Speaking of random seeds, we saw how to set it with torch.manual_seed() but is there a GPU equivalent? \n",
        "# (hint: you'll need to look into the documentation for torch.cuda for this one).\n",
        "#  If there is, set the GPU random seed to 1234.\n",
        "\n",
        "RANDOM_SEED = 1234\n",
        "\n",
        "\n",
        "tensor1 = torch.rand(7,7)\n",
        "tensor2 = torch.rand(1,7)\n",
        "tensor3 = torch.mm(tensor1,tensor2.T)\n",
        "print(tensor3)\n",
        "\n",
        "torch.cuda.manual_seed(RANDOM_SEED)\n",
        "tensor4 = torch.rand(7,7).cuda()\n",
        "torch.cuda.manual_seed(RANDOM_SEED)\n",
        "tensor5 = torch.rand(1,7).cuda()\n",
        "tensor6 = torch.mm(tensor4,tensor5.T).cuda()\n",
        "print(tensor6)"
      ],
      "metadata": {
        "colab": {
          "base_uri": "https://localhost:8080/",
          "height": 0
        },
        "id": "EzSeXPTq-Izj",
        "outputId": "abe16ab8-1d18-4afe-9ebd-1f5410efaaa3"
      },
      "execution_count": 207,
      "outputs": [
        {
          "output_type": "stream",
          "name": "stdout",
          "text": [
            "tensor([[1.2655],\n",
            "        [0.8688],\n",
            "        [0.7714],\n",
            "        [1.0739],\n",
            "        [0.9436],\n",
            "        [1.6868],\n",
            "        [1.2337]])\n",
            "tensor([[2.2280],\n",
            "        [1.7299],\n",
            "        [2.0192],\n",
            "        [1.8660],\n",
            "        [1.8862],\n",
            "        [2.4169],\n",
            "        [1.3882]], device='cuda:0')\n"
          ]
        }
      ]
    },
    {
      "cell_type": "code",
      "source": [
        "# 5. Create two random tensors of shape (2, 3) and send them both to the GPU (you'll need access to a GPU for this). \n",
        "# Set torch.manual_seed(1234) when creating the tensors (this doesn't have to be the GPU random seed).\n",
        "\n",
        "tensor7 = torch.rand(2,3).cuda()\n",
        "tensor8 = torch.rand(2,3).cuda()\n",
        "torch.manual_seed(1234)"
      ],
      "metadata": {
        "colab": {
          "base_uri": "https://localhost:8080/",
          "height": 0
        },
        "id": "ptYk6ZIE-6sV",
        "outputId": "e143925a-cd6c-4b6e-8e3a-4560724bb889"
      },
      "execution_count": 196,
      "outputs": [
        {
          "output_type": "execute_result",
          "data": {
            "text/plain": [
              "<torch._C.Generator at 0x7f49be90bd90>"
            ]
          },
          "metadata": {},
          "execution_count": 196
        }
      ]
    },
    {
      "cell_type": "code",
      "source": [
        "# 6. Perform a matrix multiplication on the tensors you created in 6 \n",
        "# (again, you may have to adjust the shapes of one of the tensors)\n",
        "\n",
        "tensor9 = torch.mm(tensor7, tensor8.T)\n",
        "tensor9"
      ],
      "metadata": {
        "colab": {
          "base_uri": "https://localhost:8080/",
          "height": 0
        },
        "id": "1foJA8B3Cc9q",
        "outputId": "207479bb-3383-4337-9252-673c5fa5ee57"
      },
      "execution_count": 199,
      "outputs": [
        {
          "output_type": "execute_result",
          "data": {
            "text/plain": [
              "tensor([[1.0783, 0.5126],\n",
              "        [0.4909, 0.2226]], device='cuda:0')"
            ]
          },
          "metadata": {},
          "execution_count": 199
        }
      ]
    },
    {
      "cell_type": "code",
      "source": [
        "# 7. Find the maximum and minimum values of the output of 7.\n",
        "# 8. Find the maximum and minimum index values of the output of 7.\n",
        "\n",
        "print(torch.min(tensor9))\n",
        "print(torch.max(tensor9))\n",
        "print(torch.argmin(tensor9))\n",
        "print(torch.argmax(tensor9))"
      ],
      "metadata": {
        "colab": {
          "base_uri": "https://localhost:8080/",
          "height": 0
        },
        "id": "s6iqcQpbCuq3",
        "outputId": "0502caff-6320-42d6-9cfa-13d1045c7292"
      },
      "execution_count": 205,
      "outputs": [
        {
          "output_type": "stream",
          "name": "stdout",
          "text": [
            "tensor(0.2226, device='cuda:0')\n",
            "tensor(1.0783, device='cuda:0')\n",
            "tensor(3, device='cuda:0')\n",
            "tensor(0, device='cuda:0')\n"
          ]
        }
      ]
    },
    {
      "cell_type": "code",
      "source": [
        "# Make a random tensor with shape (1, 1, 1, 10) \n",
        "# and then create a new tensor with all the 1 dimensions removed to be left with a tensor of shape (10). \n",
        "# Set the seed to 7 when you create it and print out the first tensor and it's shape as well as the second tensor and it's shape.\n",
        "\n",
        "RANDOM_SEED = 7\n",
        "torch.manual_seed(RANDOM_SEED)\n",
        "tensor10=torch.rand(1,1,1,10)\n",
        "tensor11=tensor10.squeeze()\n",
        "print(tensor10,tensor10.shape)\n",
        "print(tensor11,tensor11.shape)"
      ],
      "metadata": {
        "colab": {
          "base_uri": "https://localhost:8080/",
          "height": 0
        },
        "id": "-cZbYRZDDFXn",
        "outputId": "ee09142f-a1cb-442f-8115-9172caac1f54"
      },
      "execution_count": 210,
      "outputs": [
        {
          "output_type": "stream",
          "name": "stdout",
          "text": [
            "tensor([[[[0.5349, 0.1988, 0.6592, 0.6569, 0.2328, 0.4251, 0.2071, 0.6297,\n",
            "           0.3653, 0.8513]]]]) torch.Size([1, 1, 1, 10])\n",
            "tensor([0.5349, 0.1988, 0.6592, 0.6569, 0.2328, 0.4251, 0.2071, 0.6297, 0.3653,\n",
            "        0.8513]) torch.Size([10])\n"
          ]
        }
      ]
    },
    {
      "cell_type": "code",
      "source": [
        "a\n"
      ],
      "metadata": {
        "id": "lGcrDWEGEOxa"
      },
      "execution_count": null,
      "outputs": []
    },
    {
      "cell_type": "code",
      "source": [],
      "metadata": {
        "id": "ldOCJ_FL88fj"
      },
      "execution_count": null,
      "outputs": []
    }
  ]
}