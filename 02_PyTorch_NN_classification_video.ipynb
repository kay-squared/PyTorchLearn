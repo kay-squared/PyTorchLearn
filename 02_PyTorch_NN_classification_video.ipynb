{
  "nbformat": 4,
  "nbformat_minor": 0,
  "metadata": {
    "colab": {
      "provenance": [],
      "authorship_tag": "ABX9TyNYFKTO2RunvznnVrfKgkdG",
      "include_colab_link": true
    },
    "kernelspec": {
      "name": "python3",
      "display_name": "Python 3"
    },
    "language_info": {
      "name": "python"
    },
    "gpuClass": "standard",
    "accelerator": "GPU"
  },
  "cells": [
    {
      "cell_type": "markdown",
      "metadata": {
        "id": "view-in-github",
        "colab_type": "text"
      },
      "source": [
        "<a href=\"https://colab.research.google.com/github/kay-squared/PyTorchLearn/blob/main/02_PyTorch_NN_classification_video.ipynb\" target=\"_parent\"><img src=\"https://colab.research.google.com/assets/colab-badge.svg\" alt=\"Open In Colab\"/></a>"
      ]
    },
    {
      "cell_type": "markdown",
      "source": [
        "# 02. Neural Network classification with PyTorch\n",
        "Resources:\n",
        "\n",
        "https://www.learnpytorch.io/02_pytorch_classification/\n",
        "\n",
        "https://github.com/mrdbourke/pytorch-deep-learning/blob/main/02_pytorch_classification.ipynb\n",
        "\n",
        "Questions in https://github.com/mrdbourke/pytorch-deep-learning/discussions"
      ],
      "metadata": {
        "id": "m9QAZ7vj4_9Y"
      }
    },
    {
      "cell_type": "markdown",
      "source": [
        "## 1. Prepare a toy classification data set for binary classification\n",
        "\n",
        "Scikitlearn has a lot of tool to generate ttoy datasets:\n",
        "\n",
        "https://scikit-learn.org/stable/datasets/toy_dataset.html"
      ],
      "metadata": {
        "id": "iNS55jDB-Ito"
      }
    },
    {
      "cell_type": "code",
      "source": [
        "import sklearn\n",
        "from sklearn.datasets import make_circles\n",
        "from sklearn.model_selection import train_test_split\n",
        "import pandas as pd\n",
        "import matplotlib.pyplot as plt\n",
        "import torch\n",
        "from torch import nn\n",
        "import numpy as np\n"
      ],
      "metadata": {
        "id": "Q57CyU8y-If8"
      },
      "execution_count": 39,
      "outputs": []
    },
    {
      "cell_type": "markdown",
      "source": [
        "### 1.0 Create data"
      ],
      "metadata": {
        "id": "bpZZYQ7Kx-GA"
      }
    },
    {
      "cell_type": "code",
      "source": [
        "# make 1000 samples\n",
        "n_samples=1000\n",
        "# create circles\n",
        "X,y = make_circles(n_samples,\n",
        "                   noise=0.03,\n",
        "                   random_state=42)\n",
        "\n",
        "print(len(X), len(y))\n",
        "print(f\"First 5 samples of X:\\n {X[:5]}\")\n",
        "print(f\"First 5 samples of y:\\n {y[:5]}\")\n"
      ],
      "metadata": {
        "colab": {
          "base_uri": "https://localhost:8080/"
        },
        "id": "Gb1JFKTp5MA6",
        "outputId": "2c2dfa86-484c-4a34-fbbb-d0bd685395e4"
      },
      "execution_count": 40,
      "outputs": [
        {
          "output_type": "stream",
          "name": "stdout",
          "text": [
            "1000 1000\n",
            "First 5 samples of X:\n",
            " [[ 0.75424625  0.23148074]\n",
            " [-0.75615888  0.15325888]\n",
            " [-0.81539193  0.17328203]\n",
            " [-0.39373073  0.69288277]\n",
            " [ 0.44220765 -0.89672343]]\n",
            "First 5 samples of y:\n",
            " [1 1 1 1 0]\n"
          ]
        }
      ]
    },
    {
      "cell_type": "code",
      "source": [
        "circles = pd.DataFrame({\"X1\": X[:,0],\n",
        "                        \"X2\": X[:,1],\n",
        "                        \"y\": y})\n",
        "circles.head()"
      ],
      "metadata": {
        "colab": {
          "base_uri": "https://localhost:8080/",
          "height": 206
        },
        "id": "PiVvVNAJ-5d4",
        "outputId": "39debb7e-a2f0-4a57-9a12-5ff58907ea5c"
      },
      "execution_count": 41,
      "outputs": [
        {
          "output_type": "execute_result",
          "data": {
            "text/plain": [
              "         X1        X2  y\n",
              "0  0.754246  0.231481  1\n",
              "1 -0.756159  0.153259  1\n",
              "2 -0.815392  0.173282  1\n",
              "3 -0.393731  0.692883  1\n",
              "4  0.442208 -0.896723  0"
            ],
            "text/html": [
              "\n",
              "  <div id=\"df-f2cb4b1d-1d47-4f10-b880-f5c659601159\">\n",
              "    <div class=\"colab-df-container\">\n",
              "      <div>\n",
              "<style scoped>\n",
              "    .dataframe tbody tr th:only-of-type {\n",
              "        vertical-align: middle;\n",
              "    }\n",
              "\n",
              "    .dataframe tbody tr th {\n",
              "        vertical-align: top;\n",
              "    }\n",
              "\n",
              "    .dataframe thead th {\n",
              "        text-align: right;\n",
              "    }\n",
              "</style>\n",
              "<table border=\"1\" class=\"dataframe\">\n",
              "  <thead>\n",
              "    <tr style=\"text-align: right;\">\n",
              "      <th></th>\n",
              "      <th>X1</th>\n",
              "      <th>X2</th>\n",
              "      <th>y</th>\n",
              "    </tr>\n",
              "  </thead>\n",
              "  <tbody>\n",
              "    <tr>\n",
              "      <th>0</th>\n",
              "      <td>0.754246</td>\n",
              "      <td>0.231481</td>\n",
              "      <td>1</td>\n",
              "    </tr>\n",
              "    <tr>\n",
              "      <th>1</th>\n",
              "      <td>-0.756159</td>\n",
              "      <td>0.153259</td>\n",
              "      <td>1</td>\n",
              "    </tr>\n",
              "    <tr>\n",
              "      <th>2</th>\n",
              "      <td>-0.815392</td>\n",
              "      <td>0.173282</td>\n",
              "      <td>1</td>\n",
              "    </tr>\n",
              "    <tr>\n",
              "      <th>3</th>\n",
              "      <td>-0.393731</td>\n",
              "      <td>0.692883</td>\n",
              "      <td>1</td>\n",
              "    </tr>\n",
              "    <tr>\n",
              "      <th>4</th>\n",
              "      <td>0.442208</td>\n",
              "      <td>-0.896723</td>\n",
              "      <td>0</td>\n",
              "    </tr>\n",
              "  </tbody>\n",
              "</table>\n",
              "</div>\n",
              "      <button class=\"colab-df-convert\" onclick=\"convertToInteractive('df-f2cb4b1d-1d47-4f10-b880-f5c659601159')\"\n",
              "              title=\"Convert this dataframe to an interactive table.\"\n",
              "              style=\"display:none;\">\n",
              "        \n",
              "  <svg xmlns=\"http://www.w3.org/2000/svg\" height=\"24px\"viewBox=\"0 0 24 24\"\n",
              "       width=\"24px\">\n",
              "    <path d=\"M0 0h24v24H0V0z\" fill=\"none\"/>\n",
              "    <path d=\"M18.56 5.44l.94 2.06.94-2.06 2.06-.94-2.06-.94-.94-2.06-.94 2.06-2.06.94zm-11 1L8.5 8.5l.94-2.06 2.06-.94-2.06-.94L8.5 2.5l-.94 2.06-2.06.94zm10 10l.94 2.06.94-2.06 2.06-.94-2.06-.94-.94-2.06-.94 2.06-2.06.94z\"/><path d=\"M17.41 7.96l-1.37-1.37c-.4-.4-.92-.59-1.43-.59-.52 0-1.04.2-1.43.59L10.3 9.45l-7.72 7.72c-.78.78-.78 2.05 0 2.83L4 21.41c.39.39.9.59 1.41.59.51 0 1.02-.2 1.41-.59l7.78-7.78 2.81-2.81c.8-.78.8-2.07 0-2.86zM5.41 20L4 18.59l7.72-7.72 1.47 1.35L5.41 20z\"/>\n",
              "  </svg>\n",
              "      </button>\n",
              "      \n",
              "  <style>\n",
              "    .colab-df-container {\n",
              "      display:flex;\n",
              "      flex-wrap:wrap;\n",
              "      gap: 12px;\n",
              "    }\n",
              "\n",
              "    .colab-df-convert {\n",
              "      background-color: #E8F0FE;\n",
              "      border: none;\n",
              "      border-radius: 50%;\n",
              "      cursor: pointer;\n",
              "      display: none;\n",
              "      fill: #1967D2;\n",
              "      height: 32px;\n",
              "      padding: 0 0 0 0;\n",
              "      width: 32px;\n",
              "    }\n",
              "\n",
              "    .colab-df-convert:hover {\n",
              "      background-color: #E2EBFA;\n",
              "      box-shadow: 0px 1px 2px rgba(60, 64, 67, 0.3), 0px 1px 3px 1px rgba(60, 64, 67, 0.15);\n",
              "      fill: #174EA6;\n",
              "    }\n",
              "\n",
              "    [theme=dark] .colab-df-convert {\n",
              "      background-color: #3B4455;\n",
              "      fill: #D2E3FC;\n",
              "    }\n",
              "\n",
              "    [theme=dark] .colab-df-convert:hover {\n",
              "      background-color: #434B5C;\n",
              "      box-shadow: 0px 1px 3px 1px rgba(0, 0, 0, 0.15);\n",
              "      filter: drop-shadow(0px 1px 2px rgba(0, 0, 0, 0.3));\n",
              "      fill: #FFFFFF;\n",
              "    }\n",
              "  </style>\n",
              "\n",
              "      <script>\n",
              "        const buttonEl =\n",
              "          document.querySelector('#df-f2cb4b1d-1d47-4f10-b880-f5c659601159 button.colab-df-convert');\n",
              "        buttonEl.style.display =\n",
              "          google.colab.kernel.accessAllowed ? 'block' : 'none';\n",
              "\n",
              "        async function convertToInteractive(key) {\n",
              "          const element = document.querySelector('#df-f2cb4b1d-1d47-4f10-b880-f5c659601159');\n",
              "          const dataTable =\n",
              "            await google.colab.kernel.invokeFunction('convertToInteractive',\n",
              "                                                     [key], {});\n",
              "          if (!dataTable) return;\n",
              "\n",
              "          const docLinkHtml = 'Like what you see? Visit the ' +\n",
              "            '<a target=\"_blank\" href=https://colab.research.google.com/notebooks/data_table.ipynb>data table notebook</a>'\n",
              "            + ' to learn more about interactive tables.';\n",
              "          element.innerHTML = '';\n",
              "          dataTable['output_type'] = 'display_data';\n",
              "          await google.colab.output.renderOutput(dataTable, element);\n",
              "          const docLink = document.createElement('div');\n",
              "          docLink.innerHTML = docLinkHtml;\n",
              "          element.appendChild(docLink);\n",
              "        }\n",
              "      </script>\n",
              "    </div>\n",
              "  </div>\n",
              "  "
            ]
          },
          "metadata": {},
          "execution_count": 41
        }
      ]
    },
    {
      "cell_type": "code",
      "source": [
        "plt.scatter(x=X[:,0],\n",
        "            y=X[:,1],\n",
        "            c=y,\n",
        "            cmap=plt.cm.RdYlBu)"
      ],
      "metadata": {
        "colab": {
          "base_uri": "https://localhost:8080/",
          "height": 282
        },
        "id": "84ZYuPED_drm",
        "outputId": "c17bb89f-2c65-42a9-9e61-3323b40ca0d9"
      },
      "execution_count": 42,
      "outputs": [
        {
          "output_type": "execute_result",
          "data": {
            "text/plain": [
              "<matplotlib.collections.PathCollection at 0x7f78de742c40>"
            ]
          },
          "metadata": {},
          "execution_count": 42
        },
        {
          "output_type": "display_data",
          "data": {
            "text/plain": [
              "<Figure size 432x288 with 1 Axes>"
            ],
            "image/png": "[encoded data removed]"
          },
          "metadata": {
            "needs_background": "light"
          }
        }
      ]
    },
    {
      "cell_type": "markdown",
      "source": [
        "### 1.1 Check input and output shapes"
      ],
      "metadata": {
        "id": "85amBV8Tx2Ah"
      }
    },
    {
      "cell_type": "code",
      "source": [
        "\n",
        "X_sample= X[0]\n",
        "y_sample=y[0]\n",
        "print(f\"Values for one sample of X: {X_sample} and y: {y_sample}\")\n",
        "print(f\"Shapes of data: X: {X.shape} and y: {y.shape}\")\n"
      ],
      "metadata": {
        "colab": {
          "base_uri": "https://localhost:8080/"
        },
        "id": "5oo-2H1qyB9T",
        "outputId": "844dc785-6bf6-4607-c51f-99b7d1fa2266"
      },
      "execution_count": 43,
      "outputs": [
        {
          "output_type": "stream",
          "name": "stdout",
          "text": [
            "Values for one sample of X: [0.75424625 0.23148074] and y: 1\n",
            "Shapes of data: X: (1000, 2) and y: (1000,)\n"
          ]
        }
      ]
    },
    {
      "cell_type": "markdown",
      "source": [
        "### 1.2 Turn data into tensors and create train and test splits"
      ],
      "metadata": {
        "id": "UJZftN0Lys0j"
      }
    },
    {
      "cell_type": "code",
      "source": [
        "X = torch.from_numpy(X).type(torch.float)\n",
        "y = torch.from_numpy(y).type(torch.float)\n",
        "print(X[:3],y[:3])\n",
        "print(type(X),X.dtype,y.dtype)"
      ],
      "metadata": {
        "colab": {
          "base_uri": "https://localhost:8080/"
        },
        "id": "d8QKSedo_2NC",
        "outputId": "61b2ab17-5aa5-4f55-cac9-859acc5e2a7b"
      },
      "execution_count": 44,
      "outputs": [
        {
          "output_type": "stream",
          "name": "stdout",
          "text": [
            "tensor([[ 0.7542,  0.2315],\n",
            "        [-0.7562,  0.1533],\n",
            "        [-0.8154,  0.1733]]) tensor([1., 1., 1.])\n",
            "<class 'torch.Tensor'> torch.float32 torch.float32\n"
          ]
        }
      ]
    },
    {
      "cell_type": "code",
      "source": [
        "X_train,X_test,y_train,y_test = train_test_split(X,y,test_size=0.2,random_state=42)\n",
        "print(f\"Size of traininig set: X: {X_train.shape} and y: {y_train.shape}\")\n",
        "print(f\"Size of test set: X: {X_test.shape} and y: {y_test.shape}\")\n"
      ],
      "metadata": {
        "colab": {
          "base_uri": "https://localhost:8080/"
        },
        "id": "b8dFtLBMzcqc",
        "outputId": "e99bcab1-02c9-47ec-e2b7-6e4563d430ed"
      },
      "execution_count": 45,
      "outputs": [
        {
          "output_type": "stream",
          "name": "stdout",
          "text": [
            "Size of traininig set: X: torch.Size([800, 2]) and y: torch.Size([800])\n",
            "Size of test set: X: torch.Size([200, 2]) and y: torch.Size([200])\n"
          ]
        }
      ]
    },
    {
      "cell_type": "markdown",
      "source": [
        "## 2. Building a model\n",
        "\n",
        "1. Set up device agnostic code\n",
        "2. Construct a model by subclassing nn.Module\n",
        "3. Define a loss function and optimizer\n",
        "4. Create an train and test loop"
      ],
      "metadata": {
        "id": "j5ob-6WX0-YV"
      }
    },
    {
      "cell_type": "markdown",
      "source": [
        "### 2.1 Device agnostic code\n",
        "\n",
        "later: send model and data to device"
      ],
      "metadata": {
        "id": "pnPBEaTk1wyy"
      }
    },
    {
      "cell_type": "code",
      "source": [
        "\n",
        "device = \"cuda\" if torch.cuda.is_available() else \"cpu\"\n",
        "print(device)"
      ],
      "metadata": {
        "colab": {
          "base_uri": "https://localhost:8080/"
        },
        "id": "m2cZ27_j0MzR",
        "outputId": "5925ddd4-65d9-4af2-d9e3-9213d43c2745"
      },
      "execution_count": 46,
      "outputs": [
        {
          "output_type": "stream",
          "name": "stdout",
          "text": [
            "cuda\n"
          ]
        }
      ]
    },
    {
      "cell_type": "markdown",
      "source": [
        "### 2.1.1 Construct a Model\n",
        "\n",
        "1. Subclass nn.Module \n",
        "2. Create 2 linear layers that are capable of handlnig the shapes of our data)\n",
        "3. define a forward pass\n",
        "4. Instantiate and send to target devcie\n",
        "\n",
        "Check our http://playground.tensorflow.org/ for different architectures"
      ],
      "metadata": {
        "id": "IxzsOCoC2T3f"
      }
    },
    {
      "cell_type": "code",
      "source": [
        "# 1. subclassing\n",
        "class CircleModelV0(nn.Module):\n",
        "  def __init__(self):\n",
        "    super().__init__()\n",
        "\n",
        "    #2. Create 2 layers\n",
        "    self.layer_1 = nn.Linear(in_features=2,\n",
        "                             out_features=5)\n",
        "    self.layer_2 = nn.Linear(in_features=5,\n",
        "                             out_features=1)\n",
        "    \n",
        "    #self.two_linear_layers= nn.Sequential(\n",
        "    #    nn.Linear(in_features=2,out_features=5),\n",
        "    #    nn.Linear(in_features=5,out_features=1)\n",
        "    #)\n",
        "    \n",
        "    # 3. forward pass\n",
        "    def forward(self,x):\n",
        "      return self.layer_2(self_layer_1(x))\n",
        "      #return self.two_linear_layers(x)\n",
        "\n",
        "# 4. instatiate and send to target device\n",
        "model_0 = CircleModelV0().to(device)\n",
        "model_0"
      ],
      "metadata": {
        "colab": {
          "base_uri": "https://localhost:8080/"
        },
        "id": "PMwV6Y701wDe",
        "outputId": "035f880e-df0c-485f-e50b-ed1258ddd7bf"
      },
      "execution_count": 47,
      "outputs": [
        {
          "output_type": "execute_result",
          "data": {
            "text/plain": [
              "CircleModelV0(\n",
              "  (layer_1): Linear(in_features=2, out_features=5, bias=True)\n",
              "  (layer_2): Linear(in_features=5, out_features=1, bias=True)\n",
              ")"
            ]
          },
          "metadata": {},
          "execution_count": 47
        }
      ]
    },
    {
      "cell_type": "code",
      "source": [
        "next(model_0.parameters()).device"
      ],
      "metadata": {
        "colab": {
          "base_uri": "https://localhost:8080/"
        },
        "id": "OfWJb3XQ4bg_",
        "outputId": "07e1bc33-854e-4926-e855-c8b045b37518"
      },
      "execution_count": 48,
      "outputs": [
        {
          "output_type": "execute_result",
          "data": {
            "text/plain": [
              "device(type='cuda', index=0)"
            ]
          },
          "metadata": {},
          "execution_count": 48
        }
      ]
    },
    {
      "cell_type": "markdown",
      "source": [
        "### 2.1.2 Constructing the model another way\n",
        "\n",
        "This is simpler, but for more complicated NN, the first way will prevail"
      ],
      "metadata": {
        "id": "-9OvzlMi7lAE"
      }
    },
    {
      "cell_type": "code",
      "source": [
        "model_0 = nn.Sequential(\n",
        "    nn.Linear(in_features=2,out_features=5),\n",
        "    nn.Linear(in_features=5,out_features=1)\n",
        ")\n",
        "model_0 = model_0.to(device)"
      ],
      "metadata": {
        "id": "i-_L-Wie4vBX"
      },
      "execution_count": 49,
      "outputs": []
    },
    {
      "cell_type": "code",
      "source": [
        "model_0.state_dict()\n"
      ],
      "metadata": {
        "colab": {
          "base_uri": "https://localhost:8080/"
        },
        "id": "ENzSBL4n8IcD",
        "outputId": "a50d245b-b8a4-4a88-ccfb-df767d0d0c54"
      },
      "execution_count": 50,
      "outputs": [
        {
          "output_type": "execute_result",
          "data": {
            "text/plain": [
              "OrderedDict([('0.weight', tensor([[-0.0829, -0.2872],\n",
              "                      [ 0.4691, -0.5582],\n",
              "                      [-0.3260, -0.1997],\n",
              "                      [-0.4252,  0.0667],\n",
              "                      [-0.6984,  0.6386]], device='cuda:0')),\n",
              "             ('0.bias',\n",
              "              tensor([-0.6007,  0.5459,  0.1177, -0.2296,  0.4370], device='cuda:0')),\n",
              "             ('1.weight',\n",
              "              tensor([[ 0.0697,  0.3613,  0.0489, -0.1410,  0.1202]], device='cuda:0')),\n",
              "             ('1.bias', tensor([-0.1213], device='cuda:0'))])"
            ]
          },
          "metadata": {},
          "execution_count": 50
        }
      ]
    },
    {
      "cell_type": "markdown",
      "source": [
        "### The result of this model \n",
        "is, at the moment, still a real number, not a category: check that out"
      ],
      "metadata": {
        "id": "_ex2r192_W0C"
      }
    },
    {
      "cell_type": "code",
      "source": [
        "# check out predictions\n",
        "with torch.inference_mode():\n",
        "  untrained_preds = model_0(X_test.to(device))\n",
        "  print(f\"Length of predictions: {len(untrained_preds)}, Shape: {untrained_preds.shape}\")\n",
        "  print(f\"Length of test samples: {len(y_test)}, Shape: {y_test.shape}\")\n",
        "  print(f\"\\n First 10 predictions: \\n {untrained_preds[:10]}\")\n",
        "  print(f\"\\n First 10 labels: \\n {y_test[:10]}\")"
      ],
      "metadata": {
        "colab": {
          "base_uri": "https://localhost:8080/"
        },
        "id": "2iyOx_Fg9Sot",
        "outputId": "9714f49c-ddc0-43e7-a637-d801c3efb1af"
      },
      "execution_count": 51,
      "outputs": [
        {
          "output_type": "stream",
          "name": "stdout",
          "text": [
            "Length of predictions: 200, Shape: torch.Size([200, 1])\n",
            "Length of test samples: 200, Shape: torch.Size([200])\n",
            "\n",
            " First 10 predictions: \n",
            " tensor([[-0.0338],\n",
            "        [-0.0309],\n",
            "        [ 0.0894],\n",
            "        [-0.0692],\n",
            "        [ 0.2967],\n",
            "        [ 0.2968],\n",
            "        [ 0.1405],\n",
            "        [ 0.2178],\n",
            "        [ 0.0805],\n",
            "        [-0.0284]], device='cuda:0')\n",
            "\n",
            " First 10 labels: \n",
            " tensor([1., 0., 1., 0., 1., 1., 0., 0., 1., 0.])\n"
          ]
        }
      ]
    },
    {
      "cell_type": "markdown",
      "source": [
        "### 2.2 Cost function and optimizer\n",
        "\n",
        "* As a loss function, use binary cross entropy or categorical cross entropy For reading up on binary cross entropy check out https://towardsdatascience.com/understanding-binary-cross-entropy-log-loss-a-visual-explanation-a3ac6025181a by Daniel Godoy.  Note. that usinig BCEWithLogit implement the sigmoidal activation function, so you dont have to impelement it expliicitely in the last layer, whereas BCELoss does not - and requires explicit implementation. THe BCEWithLogit uses some trick and is numerically more stable!\n",
        "* As an optimizer, use Adam() or SGD(). (see torch.optim)\n",
        "\n"
      ],
      "metadata": {
        "id": "gR3PgsRU_qA0"
      }
    },
    {
      "cell_type": "code",
      "source": [
        "# Create a loss function\n",
        "# loss_fn = nn.BCELoss() # BCELoss = no sigmoid built-in\n",
        "loss_fn = nn.BCEWithLogitsLoss() # BCEWithLogitsLoss = sigmoid built-in\n",
        "\n",
        "# Create an optimizer\n",
        "optimizer = torch.optim.SGD(params=model_0.parameters(), \n",
        "                            lr=0.1)"
      ],
      "metadata": {
        "id": "0KoJYBME-OQO"
      },
      "execution_count": 52,
      "outputs": []
    },
    {
      "cell_type": "markdown",
      "source": [
        "### Create a evaluation metric:\n",
        "\n",
        "* $ACC = frac{TP+TN}{TP+TN+FP+FN}"
      ],
      "metadata": {
        "id": "ghcyYpnTDiLu"
      }
    },
    {
      "cell_type": "code",
      "source": [
        "def accuracy_fn(y_true,y_pred):\n",
        "  correct = torch.eq(y_true, y_pred).sum().item()\n",
        "  acc = (correct/len(y_pred))\n",
        "  return acc\n",
        "\n"
      ],
      "metadata": {
        "id": "TR9_v01u-Xkb"
      },
      "execution_count": 53,
      "outputs": []
    },
    {
      "cell_type": "markdown",
      "source": [
        "## 3. Train model\n",
        "\n",
        "1. Forward pass\n",
        "2. Loss\n",
        "3. zero_grad\n",
        "4. backpropagation (loss.backward())\n",
        "5. gradient descent (optimizer.step())\n",
        "\n"
      ],
      "metadata": {
        "id": "Zq_hXG9ZEuhI"
      }
    },
    {
      "cell_type": "markdown",
      "source": [
        "### 3.1 Logit --> prediction probabiliity --> prediction labels\n",
        "\n",
        "** This is needed for the prediction of accuracy! **\n",
        "\n",
        "The raw outputs of the model will be **logits** that have to be converted into **prediction probabilities** by passing then through an activation function (eg sigmoid for binary classification and softmax for multiclass classification)\n",
        "\n",
        "Then the prodiction probabilities can vbe turned intp **prediction lables** by rounding or by taking the argmax()\n",
        "\n",
        "For the predicted labels, we need to perform a range-sttyle rounding on them:\n",
        "* y_pred_probs>=0.5 --> y=1\n",
        "* y_pred_probs<0.5 --> y=0\n"
      ],
      "metadata": {
        "id": "jdws5A9oLBxl"
      }
    },
    {
      "cell_type": "code",
      "source": [
        "model_0.eval()\n",
        "# check it out\n",
        "with torch.inference_mode():\n",
        "  y_logits = model_0(X_test.to(device))\n",
        "  y_logits[:5]\n",
        "  y_pred_probs = torch.sigmoid(y_logits)\n",
        "  #print(y_pred_probs[:5])\n",
        "  #print(torch.round(y_pred_probs[:5]))\n",
        "\n",
        "# this is how it is done\n",
        "y_pred_labels = torch.round(torch.sigmoid(model_0(X_test.to(device)))).squeeze()\n",
        "print(y_pred_labels[:5])\n",
        "print(y_test[:5].to(device))\n"
      ],
      "metadata": {
        "colab": {
          "base_uri": "https://localhost:8080/"
        },
        "id": "XvKSYY-kEQgZ",
        "outputId": "7bac0f26-3a47-4dee-84dc-b9294886aed6"
      },
      "execution_count": 54,
      "outputs": [
        {
          "output_type": "stream",
          "name": "stdout",
          "text": [
            "tensor([0., 0., 1., 0., 1.], device='cuda:0', grad_fn=<SliceBackward0>)\n",
            "tensor([1., 0., 1., 0., 1.], device='cuda:0')\n"
          ]
        }
      ]
    },
    {
      "cell_type": "code",
      "source": [
        "\n",
        "\n",
        "\n"
      ],
      "metadata": {
        "id": "BtD4eC9jJSxz"
      },
      "execution_count": 54,
      "outputs": []
    },
    {
      "cell_type": "code",
      "source": [
        " \n",
        " torch.manual_seed(42)\n",
        "\n",
        "# Set the number of epochs\n",
        "epochs = 100\n",
        "\n",
        "# Put data to target device\n",
        "X_train, y_train = X_train.to(device), y_train.to(device)\n",
        "X_test, y_test = X_test.to(device), y_test.to(device)\n",
        "\n",
        "# Build training and evaluation loop\n",
        "for epoch in range(epochs):\n",
        "    ### Training\n",
        "    model_0.train()\n",
        "\n",
        "    # 1. Forward pass (model outputs raw logits)\n",
        "    y_logits = model_0(X_train).squeeze() # squeeze to remove extra `1` dimensions, this won't work unless model and data are on same device \n",
        "    y_pred = torch.round(torch.sigmoid(y_logits)) # turn logits -> pred probs -> pred labls\n",
        "  \n",
        "    # 2. Calculate loss/accuracy\n",
        "    # loss = loss_fn(torch.sigmoid(y_logits), # Using nn.BCELoss you need torch.sigmoid()\n",
        "    #                y_train) \n",
        "    loss = loss_fn(y_logits, # Using nn.BCEWithLogitsLoss works with raw logits\n",
        "                   y_train) \n",
        "    acc = accuracy_fn(y_true=y_train, \n",
        "                      y_pred=y_pred) \n",
        "\n",
        "    # 3. Optimizer zero grad\n",
        "    optimizer.zero_grad()\n",
        "\n",
        "    # 4. Loss backwards\n",
        "    loss.backward()\n",
        "\n",
        "    # 5. Optimizer step\n",
        "    optimizer.step()\n",
        "\n",
        "    ### Testing\n",
        "    model_0.eval()\n",
        "    with torch.inference_mode():\n",
        "        # 1. Forward pass\n",
        "        test_logits = model_0(X_test).squeeze() \n",
        "        test_pred = torch.round(torch.sigmoid(test_logits))\n",
        "        # 2. Caculate loss/accuracy\n",
        "        test_loss = loss_fn(test_logits,\n",
        "                            y_test)\n",
        "        test_acc = accuracy_fn(y_true=y_test,\n",
        "                               y_pred=test_pred)\n",
        "\n",
        "    # Print out what's happening every 10 epochs\n",
        "    if epoch % 10 == 0:\n",
        "        print(f\"Epoch: {epoch} | Loss: {loss:.5f}, Accuracy: {acc:.2f}% | Test loss: {test_loss:.5f}, Test acc: {test_acc:.2f}%\")\n",
        " "
      ],
      "metadata": {
        "id": "Msb_Gap-NbR2",
        "colab": {
          "base_uri": "https://localhost:8080/"
        },
        "outputId": "ceb39a6d-16f4-4524-c792-1efcccee25a1"
      },
      "execution_count": 55,
      "outputs": [
        {
          "output_type": "stream",
          "name": "stdout",
          "text": [
            "Epoch: 0 | Loss: 0.69796, Accuracy: 0.52% | Test loss: 0.69440, Test acc: 0.58%\n",
            "Epoch: 10 | Loss: 0.69590, Accuracy: 0.51% | Test loss: 0.69305, Test acc: 0.53%\n",
            "Epoch: 20 | Loss: 0.69490, Accuracy: 0.52% | Test loss: 0.69254, Test acc: 0.49%\n",
            "Epoch: 30 | Loss: 0.69435, Accuracy: 0.51% | Test loss: 0.69236, Test acc: 0.49%\n",
            "Epoch: 40 | Loss: 0.69401, Accuracy: 0.51% | Test loss: 0.69232, Test acc: 0.51%\n",
            "Epoch: 50 | Loss: 0.69378, Accuracy: 0.50% | Test loss: 0.69234, Test acc: 0.50%\n",
            "Epoch: 60 | Loss: 0.69362, Accuracy: 0.50% | Test loss: 0.69239, Test acc: 0.52%\n",
            "Epoch: 70 | Loss: 0.69351, Accuracy: 0.50% | Test loss: 0.69246, Test acc: 0.51%\n",
            "Epoch: 80 | Loss: 0.69342, Accuracy: 0.50% | Test loss: 0.69254, Test acc: 0.50%\n",
            "Epoch: 90 | Loss: 0.69336, Accuracy: 0.50% | Test loss: 0.69262, Test acc: 0.53%\n"
          ]
        }
      ]
    },
    {
      "cell_type": "code",
      "source": [
        "import requests\n",
        "from pathlib import Path\n",
        "# Download helper functions from Learn PyTorch rep\n",
        "if Path('helper_functions.py').is_file():\n",
        "  print('helper_function.py already exists, skipping download')\n",
        "else:\n",
        "  print('Downloading helper_functions.py')\n",
        "  request = requests.get(\"https://raw.githubusercontent.com/mrdbourke/pytorch-deep-learning/main/helper_functions.py\")   # must be raw file\n",
        "  with open('helper_functions.py','wb') as f:\n",
        "    f.write(request.content)\n",
        "\n",
        "from helper_functions import plot_predictions, plot_decision_boundary\n",
        "\n"
      ],
      "metadata": {
        "colab": {
          "base_uri": "https://localhost:8080/"
        },
        "id": "JznCgPFwuJQp",
        "outputId": "54708e7a-b3e6-4701-fca0-26a7a0febc82"
      },
      "execution_count": 56,
      "outputs": [
        {
          "output_type": "stream",
          "name": "stdout",
          "text": [
            "helper_function.py already exists, skipping download\n"
          ]
        }
      ]
    },
    {
      "cell_type": "code",
      "source": [
        "plt.figure(figsize=(12, 6))\n",
        "plt.subplot(1, 2, 1)\n",
        "plt.title(\"Train\")\n",
        "plot_decision_boundary(model_0, X_train, y_train)\n",
        "plt.subplot(1, 2, 2)\n",
        "plt.title(\"Test\")\n",
        "plot_decision_boundary(model_0, X_test, y_test)"
      ],
      "metadata": {
        "colab": {
          "base_uri": "https://localhost:8080/",
          "height": 390
        },
        "id": "q_QDFvNhvdzq",
        "outputId": "183f42ee-93c0-46f4-e08f-d6bebd4a31bf"
      },
      "execution_count": 57,
      "outputs": [
        {
          "output_type": "display_data",
          "data": {
            "text/plain": [
              "<Figure size 864x432 with 2 Axes>"
            ],
            "image/png": "[encoded data removed]"
          },
          "metadata": {
            "needs_background": "light"
          }
        }
      ]
    },
    {
      "cell_type": "markdown",
      "source": [
        "# Clearly, this model is too simple to represent the data well!"
      ],
      "metadata": {
        "id": "PZ4fsE7Tthi2"
      }
    },
    {
      "cell_type": "code",
      "source": [
        "# 1. subclassing\n",
        "class CircleModelV1(nn.Module):\n",
        "  def __init__(self):\n",
        "    super().__init__()\n",
        "\n",
        "    #2. Create 2 layers\n",
        "    self.layer_1 = nn.Linear(in_features=2,\n",
        "                             out_features=10)\n",
        "    self.layer_2 = nn.Linear(in_features=10,\n",
        "                             out_features=10)\n",
        "    self.layer_3 = nn.Linear(in_features=10,\n",
        "                             out_features=1)\n",
        "    \n",
        "    #self.two_linear_layers= nn.Sequential(\n",
        "    #    nn.Linear(in_features=2,out_features=5),\n",
        "    #    nn.Linear(in_features=5,out_features=1)\n",
        "    #)\n",
        "    \n",
        "    # 3. forward pass\n",
        "  def forward(self,x):\n",
        "    return self.layer_3(self.layer_2(self.layer_1(x)))\n",
        "      \n",
        "\n"
      ],
      "metadata": {
        "id": "PcZH_m98hORF"
      },
      "execution_count": 58,
      "outputs": []
    },
    {
      "cell_type": "code",
      "source": [
        "# 4. Instantiate and move to device\n",
        "model_1 = CircleModelV1().to(device)\n",
        "                             \n",
        "loss_fn = nn.BCEWithLogitsLoss()\n",
        "optimizer = torch.optim.SGD(params = model_1.parameters(),\n",
        "                      lr = 0.1)\n",
        "\n",
        "\n",
        "torch.manual_seed(42)\n",
        "torch.cuda.manual_seed(42)\n",
        "\n",
        "X_train, y_train = X_train.to(device), y_train.to(device)\n",
        "X_test, y_test = X_test.to(device), y_test.to(device)\n",
        "\n",
        "epoch_count=[]\n",
        "train_loss_list = []\n",
        "test_loss_list = []\n",
        "acc_train_list = []\n",
        "acc_test_list=[]\n",
        "\n",
        "epochs = 1000\n",
        "\n",
        "for epoch in np.arange(epochs):\n",
        "  # Training\n",
        "  model_1.train()\n",
        "\n",
        "  y_logits_train = model_1(X_train).squeeze()\n",
        "  y_pred_train = torch.round(torch.sigmoid(y_logits_train))\n",
        "  train_acc = accuracy_fn(y_true = y_train,\n",
        "                    y_pred = y_pred_train)\n",
        "  \n",
        "  train_loss = loss_fn(y_logits_train,y_train)\n",
        "  optimizer.zero_grad()\n",
        "  train_loss.backward()\n",
        "  optimizer.step()\n",
        "\n",
        "  model_1.eval()\n",
        "  with torch.inference_mode():\n",
        "    y_logits_test = model_1(X_test).squeeze()\n",
        "    y_pred_test = torch.round(torch.sigmoid(y_logits_test))\n",
        "    test_acc = accuracy_fn(y_true = y_test,\n",
        "                    y_pred = y_pred_test)\n",
        "    \n",
        "    if epoch%10==0:\n",
        "      epoch_count.append(epoch)\n",
        "      train_loss_list.append(train_loss.detach().cpu().numpy())\n",
        "      test_loss_list.append(test_loss.detach().cpu().numpy())\n",
        "      acc_train_list.append(train_acc)\n",
        "      acc_test_list.append(test_acc)\n",
        "      print(f\"Epoch: {epoch} | Loss: {train_loss:.5f}, Accuracy: {train_acc:.2f}% | Test loss: {test_loss:.5f}, Test acc: {test_acc:.2f}%\")\n",
        "\n",
        "\n",
        "\n",
        "\n",
        "\n",
        "\n",
        "\n",
        "\n"
      ],
      "metadata": {
        "colab": {
          "base_uri": "https://localhost:8080/"
        },
        "id": "K3YFMyDRvi9G",
        "outputId": "9ba94a34-d9bc-4fd3-8ce6-a328fe405c7e"
      },
      "execution_count": 59,
      "outputs": [
        {
          "output_type": "stream",
          "name": "stdout",
          "text": [
            "Epoch: 0 | Loss: 0.69396, Accuracy: 0.51% | Test loss: 0.69270, Test acc: 0.51%\n",
            "Epoch: 10 | Loss: 0.69369, Accuracy: 0.50% | Test loss: 0.69270, Test acc: 0.50%\n",
            "Epoch: 20 | Loss: 0.69351, Accuracy: 0.50% | Test loss: 0.69270, Test acc: 0.49%\n",
            "Epoch: 30 | Loss: 0.69339, Accuracy: 0.51% | Test loss: 0.69270, Test acc: 0.48%\n",
            "Epoch: 40 | Loss: 0.69329, Accuracy: 0.50% | Test loss: 0.69270, Test acc: 0.49%\n",
            "Epoch: 50 | Loss: 0.69322, Accuracy: 0.50% | Test loss: 0.69270, Test acc: 0.50%\n",
            "Epoch: 60 | Loss: 0.69317, Accuracy: 0.49% | Test loss: 0.69270, Test acc: 0.52%\n",
            "Epoch: 70 | Loss: 0.69312, Accuracy: 0.49% | Test loss: 0.69270, Test acc: 0.51%\n",
            "Epoch: 80 | Loss: 0.69309, Accuracy: 0.50% | Test loss: 0.69270, Test acc: 0.50%\n",
            "Epoch: 90 | Loss: 0.69307, Accuracy: 0.51% | Test loss: 0.69270, Test acc: 0.48%\n",
            "Epoch: 100 | Loss: 0.69305, Accuracy: 0.50% | Test loss: 0.69270, Test acc: 0.48%\n",
            "Epoch: 110 | Loss: 0.69303, Accuracy: 0.51% | Test loss: 0.69270, Test acc: 0.47%\n",
            "Epoch: 120 | Loss: 0.69302, Accuracy: 0.51% | Test loss: 0.69270, Test acc: 0.47%\n",
            "Epoch: 130 | Loss: 0.69301, Accuracy: 0.51% | Test loss: 0.69270, Test acc: 0.46%\n",
            "Epoch: 140 | Loss: 0.69301, Accuracy: 0.51% | Test loss: 0.69270, Test acc: 0.48%\n",
            "Epoch: 150 | Loss: 0.69300, Accuracy: 0.51% | Test loss: 0.69270, Test acc: 0.47%\n",
            "Epoch: 160 | Loss: 0.69300, Accuracy: 0.51% | Test loss: 0.69270, Test acc: 0.47%\n",
            "Epoch: 170 | Loss: 0.69299, Accuracy: 0.52% | Test loss: 0.69270, Test acc: 0.47%\n",
            "Epoch: 180 | Loss: 0.69299, Accuracy: 0.51% | Test loss: 0.69270, Test acc: 0.47%\n",
            "Epoch: 190 | Loss: 0.69299, Accuracy: 0.51% | Test loss: 0.69270, Test acc: 0.47%\n",
            "Epoch: 200 | Loss: 0.69299, Accuracy: 0.51% | Test loss: 0.69270, Test acc: 0.46%\n",
            "Epoch: 210 | Loss: 0.69298, Accuracy: 0.51% | Test loss: 0.69270, Test acc: 0.46%\n",
            "Epoch: 220 | Loss: 0.69298, Accuracy: 0.51% | Test loss: 0.69270, Test acc: 0.46%\n",
            "Epoch: 230 | Loss: 0.69298, Accuracy: 0.52% | Test loss: 0.69270, Test acc: 0.46%\n",
            "Epoch: 240 | Loss: 0.69298, Accuracy: 0.52% | Test loss: 0.69270, Test acc: 0.46%\n",
            "Epoch: 250 | Loss: 0.69298, Accuracy: 0.52% | Test loss: 0.69270, Test acc: 0.46%\n",
            "Epoch: 260 | Loss: 0.69298, Accuracy: 0.51% | Test loss: 0.69270, Test acc: 0.45%\n",
            "Epoch: 270 | Loss: 0.69298, Accuracy: 0.52% | Test loss: 0.69270, Test acc: 0.45%\n",
            "Epoch: 280 | Loss: 0.69298, Accuracy: 0.52% | Test loss: 0.69270, Test acc: 0.45%\n",
            "Epoch: 290 | Loss: 0.69298, Accuracy: 0.52% | Test loss: 0.69270, Test acc: 0.45%\n",
            "Epoch: 300 | Loss: 0.69298, Accuracy: 0.52% | Test loss: 0.69270, Test acc: 0.45%\n",
            "Epoch: 310 | Loss: 0.69298, Accuracy: 0.51% | Test loss: 0.69270, Test acc: 0.45%\n",
            "Epoch: 320 | Loss: 0.69298, Accuracy: 0.51% | Test loss: 0.69270, Test acc: 0.45%\n",
            "Epoch: 330 | Loss: 0.69298, Accuracy: 0.51% | Test loss: 0.69270, Test acc: 0.45%\n",
            "Epoch: 340 | Loss: 0.69298, Accuracy: 0.51% | Test loss: 0.69270, Test acc: 0.46%\n",
            "Epoch: 350 | Loss: 0.69298, Accuracy: 0.51% | Test loss: 0.69270, Test acc: 0.46%\n",
            "Epoch: 360 | Loss: 0.69298, Accuracy: 0.51% | Test loss: 0.69270, Test acc: 0.46%\n",
            "Epoch: 370 | Loss: 0.69298, Accuracy: 0.51% | Test loss: 0.69270, Test acc: 0.46%\n",
            "Epoch: 380 | Loss: 0.69298, Accuracy: 0.51% | Test loss: 0.69270, Test acc: 0.46%\n",
            "Epoch: 390 | Loss: 0.69298, Accuracy: 0.51% | Test loss: 0.69270, Test acc: 0.46%\n",
            "Epoch: 400 | Loss: 0.69298, Accuracy: 0.51% | Test loss: 0.69270, Test acc: 0.46%\n",
            "Epoch: 410 | Loss: 0.69298, Accuracy: 0.51% | Test loss: 0.69270, Test acc: 0.46%\n",
            "Epoch: 420 | Loss: 0.69298, Accuracy: 0.51% | Test loss: 0.69270, Test acc: 0.46%\n",
            "Epoch: 430 | Loss: 0.69298, Accuracy: 0.51% | Test loss: 0.69270, Test acc: 0.46%\n",
            "Epoch: 440 | Loss: 0.69298, Accuracy: 0.51% | Test loss: 0.69270, Test acc: 0.46%\n",
            "Epoch: 450 | Loss: 0.69298, Accuracy: 0.51% | Test loss: 0.69270, Test acc: 0.46%\n",
            "Epoch: 460 | Loss: 0.69298, Accuracy: 0.51% | Test loss: 0.69270, Test acc: 0.46%\n",
            "Epoch: 470 | Loss: 0.69298, Accuracy: 0.51% | Test loss: 0.69270, Test acc: 0.46%\n",
            "Epoch: 480 | Loss: 0.69298, Accuracy: 0.51% | Test loss: 0.69270, Test acc: 0.46%\n",
            "Epoch: 490 | Loss: 0.69298, Accuracy: 0.51% | Test loss: 0.69270, Test acc: 0.46%\n",
            "Epoch: 500 | Loss: 0.69298, Accuracy: 0.51% | Test loss: 0.69270, Test acc: 0.46%\n",
            "Epoch: 510 | Loss: 0.69298, Accuracy: 0.51% | Test loss: 0.69270, Test acc: 0.46%\n",
            "Epoch: 520 | Loss: 0.69298, Accuracy: 0.51% | Test loss: 0.69270, Test acc: 0.46%\n",
            "Epoch: 530 | Loss: 0.69298, Accuracy: 0.51% | Test loss: 0.69270, Test acc: 0.46%\n",
            "Epoch: 540 | Loss: 0.69298, Accuracy: 0.51% | Test loss: 0.69270, Test acc: 0.46%\n",
            "Epoch: 550 | Loss: 0.69298, Accuracy: 0.51% | Test loss: 0.69270, Test acc: 0.46%\n",
            "Epoch: 560 | Loss: 0.69298, Accuracy: 0.51% | Test loss: 0.69270, Test acc: 0.46%\n",
            "Epoch: 570 | Loss: 0.69298, Accuracy: 0.51% | Test loss: 0.69270, Test acc: 0.46%\n",
            "Epoch: 580 | Loss: 0.69298, Accuracy: 0.51% | Test loss: 0.69270, Test acc: 0.46%\n",
            "Epoch: 590 | Loss: 0.69298, Accuracy: 0.51% | Test loss: 0.69270, Test acc: 0.46%\n",
            "Epoch: 600 | Loss: 0.69298, Accuracy: 0.51% | Test loss: 0.69270, Test acc: 0.46%\n",
            "Epoch: 610 | Loss: 0.69298, Accuracy: 0.51% | Test loss: 0.69270, Test acc: 0.46%\n",
            "Epoch: 620 | Loss: 0.69298, Accuracy: 0.51% | Test loss: 0.69270, Test acc: 0.46%\n",
            "Epoch: 630 | Loss: 0.69298, Accuracy: 0.51% | Test loss: 0.69270, Test acc: 0.46%\n",
            "Epoch: 640 | Loss: 0.69298, Accuracy: 0.51% | Test loss: 0.69270, Test acc: 0.46%\n",
            "Epoch: 650 | Loss: 0.69298, Accuracy: 0.51% | Test loss: 0.69270, Test acc: 0.46%\n",
            "Epoch: 660 | Loss: 0.69298, Accuracy: 0.51% | Test loss: 0.69270, Test acc: 0.46%\n",
            "Epoch: 670 | Loss: 0.69298, Accuracy: 0.51% | Test loss: 0.69270, Test acc: 0.46%\n",
            "Epoch: 680 | Loss: 0.69298, Accuracy: 0.51% | Test loss: 0.69270, Test acc: 0.46%\n",
            "Epoch: 690 | Loss: 0.69298, Accuracy: 0.51% | Test loss: 0.69270, Test acc: 0.46%\n",
            "Epoch: 700 | Loss: 0.69298, Accuracy: 0.51% | Test loss: 0.69270, Test acc: 0.46%\n",
            "Epoch: 710 | Loss: 0.69298, Accuracy: 0.51% | Test loss: 0.69270, Test acc: 0.46%\n",
            "Epoch: 720 | Loss: 0.69298, Accuracy: 0.51% | Test loss: 0.69270, Test acc: 0.46%\n",
            "Epoch: 730 | Loss: 0.69298, Accuracy: 0.51% | Test loss: 0.69270, Test acc: 0.46%\n",
            "Epoch: 740 | Loss: 0.69298, Accuracy: 0.51% | Test loss: 0.69270, Test acc: 0.46%\n",
            "Epoch: 750 | Loss: 0.69298, Accuracy: 0.51% | Test loss: 0.69270, Test acc: 0.46%\n",
            "Epoch: 760 | Loss: 0.69298, Accuracy: 0.51% | Test loss: 0.69270, Test acc: 0.46%\n",
            "Epoch: 770 | Loss: 0.69298, Accuracy: 0.51% | Test loss: 0.69270, Test acc: 0.46%\n",
            "Epoch: 780 | Loss: 0.69298, Accuracy: 0.51% | Test loss: 0.69270, Test acc: 0.46%\n",
            "Epoch: 790 | Loss: 0.69298, Accuracy: 0.51% | Test loss: 0.69270, Test acc: 0.46%\n",
            "Epoch: 800 | Loss: 0.69298, Accuracy: 0.51% | Test loss: 0.69270, Test acc: 0.46%\n",
            "Epoch: 810 | Loss: 0.69298, Accuracy: 0.51% | Test loss: 0.69270, Test acc: 0.46%\n",
            "Epoch: 820 | Loss: 0.69298, Accuracy: 0.51% | Test loss: 0.69270, Test acc: 0.46%\n",
            "Epoch: 830 | Loss: 0.69298, Accuracy: 0.51% | Test loss: 0.69270, Test acc: 0.46%\n",
            "Epoch: 840 | Loss: 0.69298, Accuracy: 0.51% | Test loss: 0.69270, Test acc: 0.46%\n",
            "Epoch: 850 | Loss: 0.69298, Accuracy: 0.51% | Test loss: 0.69270, Test acc: 0.46%\n",
            "Epoch: 860 | Loss: 0.69298, Accuracy: 0.51% | Test loss: 0.69270, Test acc: 0.46%\n",
            "Epoch: 870 | Loss: 0.69298, Accuracy: 0.51% | Test loss: 0.69270, Test acc: 0.46%\n",
            "Epoch: 880 | Loss: 0.69298, Accuracy: 0.51% | Test loss: 0.69270, Test acc: 0.46%\n",
            "Epoch: 890 | Loss: 0.69298, Accuracy: 0.51% | Test loss: 0.69270, Test acc: 0.46%\n",
            "Epoch: 900 | Loss: 0.69298, Accuracy: 0.51% | Test loss: 0.69270, Test acc: 0.46%\n",
            "Epoch: 910 | Loss: 0.69298, Accuracy: 0.51% | Test loss: 0.69270, Test acc: 0.46%\n",
            "Epoch: 920 | Loss: 0.69298, Accuracy: 0.51% | Test loss: 0.69270, Test acc: 0.46%\n",
            "Epoch: 930 | Loss: 0.69298, Accuracy: 0.51% | Test loss: 0.69270, Test acc: 0.46%\n",
            "Epoch: 940 | Loss: 0.69298, Accuracy: 0.51% | Test loss: 0.69270, Test acc: 0.46%\n",
            "Epoch: 950 | Loss: 0.69298, Accuracy: 0.51% | Test loss: 0.69270, Test acc: 0.46%\n",
            "Epoch: 960 | Loss: 0.69298, Accuracy: 0.51% | Test loss: 0.69270, Test acc: 0.46%\n",
            "Epoch: 970 | Loss: 0.69298, Accuracy: 0.51% | Test loss: 0.69270, Test acc: 0.46%\n",
            "Epoch: 980 | Loss: 0.69298, Accuracy: 0.51% | Test loss: 0.69270, Test acc: 0.46%\n",
            "Epoch: 990 | Loss: 0.69298, Accuracy: 0.51% | Test loss: 0.69270, Test acc: 0.46%\n"
          ]
        }
      ]
    },
    {
      "cell_type": "code",
      "source": [],
      "metadata": {
        "id": "G1BItCg-yAOl"
      },
      "execution_count": 59,
      "outputs": []
    }
  ]
}