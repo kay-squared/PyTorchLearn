{
  "nbformat": 4,
  "nbformat_minor": 0,
  "metadata": {
    "colab": {
      "provenance": [],
      "authorship_tag": "ABX9TyN3pNPOUKnsYVIKyFb2P8Q0",
      "include_colab_link": true
    },
    "kernelspec": {
      "name": "python3",
      "display_name": "Python 3"
    },
    "language_info": {
      "name": "python"
    }
  },
  "cells": [
    {
      "cell_type": "markdown",
      "metadata": {
        "id": "view-in-github",
        "colab_type": "text"
      },
      "source": [
        "<a href=\"https://colab.research.google.com/github/kay-squared/PyTorchLearn/blob/main/01_PyTorch_Workflow_video.ipynb\" target=\"_parent\"><img src=\"https://colab.research.google.com/assets/colab-badge.svg\" alt=\"Open In Colab\"/></a>"
      ]
    },
    {
      "cell_type": "code",
      "execution_count": 82,
      "metadata": {
        "colab": {
          "base_uri": "https://localhost:8080/",
          "height": 37
        },
        "id": "uUHoiCNVPb6C",
        "outputId": "4b98946c-ad38-4c56-cebd-06d73fc724a5"
      },
      "outputs": [
        {
          "output_type": "execute_result",
          "data": {
            "text/plain": [
              "'1.13.0+cu116'"
            ],
            "application/vnd.google.colaboratory.intrinsic+json": {
              "type": "string"
            }
          },
          "metadata": {},
          "execution_count": 82
        }
      ],
      "source": [
        "import numpy as np\n",
        "import matplotlib.pyplot as plt\n",
        "import pandas as pd\n",
        "import torch\n",
        "from torch import nn # contains all pytorch building blocks for neural networks. Look up torch.nn\n",
        "\n",
        "torch.__version__    # need at least 1.10"
      ]
    },
    {
      "cell_type": "markdown",
      "source": [
        "# Exploring an example of an end-to-end workflow\n",
        "\n",
        "Resources:\n",
        "* Code: https://github.com/mrdbourke/pytorch-deep-learning/blob/main/\n",
        "* Book:01_pytorch_workflow.ipynb\n",
        "https://www.learnpytorch.io/01_pytorch_workflow/\n",
        "* Ask a questioin: https://github.com/mrdbourke/pytorch-deep-learning/discussions"
      ],
      "metadata": {
        "id": "NPb-FvYeSye3"
      }
    },
    {
      "cell_type": "code",
      "source": [
        "what_were_covering = {1: \"data (prepare and load)\",\n",
        "                      2: \"build model\",\n",
        "                      3: \"Fit/Training\",\n",
        "                      4: \"Predict and evaluate (inference)\",\n",
        "                      5: \"Save and load\",\n",
        "                      6: \"Put it all together\"}\n",
        "what_were_covering"
      ],
      "metadata": {
        "colab": {
          "base_uri": "https://localhost:8080/"
        },
        "id": "9D0-yn6QSwm5",
        "outputId": "bf190c95-1184-4001-b9ac-1209a79737dc"
      },
      "execution_count": 83,
      "outputs": [
        {
          "output_type": "execute_result",
          "data": {
            "text/plain": [
              "{1: 'data (prepare and load)',\n",
              " 2: 'build model',\n",
              " 3: 'Fit/Training',\n",
              " 4: 'Predict and evaluate (inference)',\n",
              " 5: 'Save and load',\n",
              " 6: 'Put it all together'}"
            ]
          },
          "metadata": {},
          "execution_count": 83
        }
      ]
    },
    {
      "cell_type": "markdown",
      "source": [
        "## 1. Data (prepare and load)\n",
        "Data can be almost anything:\n",
        "* excel\n",
        "* images\n",
        "* audio\n",
        "* videa\n",
        "* omics\n",
        "* text\n",
        "\n",
        "ML is a game of two parts:\n",
        "1. Get data into a numerical representation\n",
        "2. Build a model to learn patterns in thatn numerical representation"
      ],
      "metadata": {
        "id": "FzXRAnpLUpSe"
      }
    },
    {
      "cell_type": "markdown",
      "source": [
        "### Create data"
      ],
      "metadata": {
        "id": "TY67lw7aXC7V"
      }
    },
    {
      "cell_type": "code",
      "source": [
        "# create some ground truth data using linear regression (just a line in this case)\n",
        "# parameters:\n",
        "weight=0.7\n",
        "bias=0.3\n",
        "\n",
        "# create data\n",
        "start=0\n",
        "end=1\n",
        "step=0.02\n",
        "X=torch.arange(start,end,step).unsqueeze(dim=1)      # need unsqueeze for models lateron\n",
        "y = bias+weight*X\n",
        "\n",
        "print(X[:10],y[:10])\n",
        "print(X.shape,y.shape)\n",
        "print(len(X),len(y))\n"
      ],
      "metadata": {
        "colab": {
          "base_uri": "https://localhost:8080/"
        },
        "id": "OBgCllUhT7On",
        "outputId": "7cdb0822-455e-4727-b4f9-5b6156bf40ce"
      },
      "execution_count": 84,
      "outputs": [
        {
          "output_type": "stream",
          "name": "stdout",
          "text": [
            "tensor([[0.0000],\n",
            "        [0.0200],\n",
            "        [0.0400],\n",
            "        [0.0600],\n",
            "        [0.0800],\n",
            "        [0.1000],\n",
            "        [0.1200],\n",
            "        [0.1400],\n",
            "        [0.1600],\n",
            "        [0.1800]]) tensor([[0.3000],\n",
            "        [0.3140],\n",
            "        [0.3280],\n",
            "        [0.3420],\n",
            "        [0.3560],\n",
            "        [0.3700],\n",
            "        [0.3840],\n",
            "        [0.3980],\n",
            "        [0.4120],\n",
            "        [0.4260]])\n",
            "torch.Size([50, 1]) torch.Size([50, 1])\n",
            "50 50\n"
          ]
        }
      ]
    },
    {
      "cell_type": "code",
      "source": [
        "plt.plot(X,y)\n",
        "plt.show()"
      ],
      "metadata": {
        "colab": {
          "base_uri": "https://localhost:8080/",
          "height": 265
        },
        "id": "bq1eKkx4V73J",
        "outputId": "1c9074b0-d8f1-4f7a-842a-bbd19ab17556"
      },
      "execution_count": 85,
      "outputs": [
        {
          "output_type": "display_data",
          "data": {
            "text/plain": [
              "<Figure size 432x288 with 1 Axes>"
            ],
            "image/png": "[encoded data removed]"
          },
          "metadata": {
            "needs_background": "light"
          }
        }
      ]
    },
    {
      "cell_type": "markdown",
      "source": [
        "### Splitting Data into train and test sets"
      ],
      "metadata": {
        "id": "uLKhZvbJW7hX"
      }
    },
    {
      "cell_type": "code",
      "source": [
        "train_split=int(0.8*len(X))\n",
        "X_train,y_train = X[:train_split],y[:train_split]\n",
        "X_test,y_test = X[train_split:],y[train_split:]\n",
        "\n",
        "# or use scikitlearn \n",
        "\n",
        "len(X_train),len(X_test),len(y_train),len(y_test)"
      ],
      "metadata": {
        "colab": {
          "base_uri": "https://localhost:8080/"
        },
        "id": "cUVzgYm_W1Pk",
        "outputId": "e013e103-2a35-4cde-b857-3a9bcbfffa74"
      },
      "execution_count": 86,
      "outputs": [
        {
          "output_type": "execute_result",
          "data": {
            "text/plain": [
              "(40, 10, 40, 10)"
            ]
          },
          "metadata": {},
          "execution_count": 86
        }
      ]
    },
    {
      "cell_type": "code",
      "source": [
        "def plot_predictions(train_data=X_train,\n",
        "                     train_labels=y_train,\n",
        "                     test_data=X_test,\n",
        "                     test_labels=y_test,\n",
        "                     predictions=None):\n",
        "  \"\"\"\n",
        "  Plots training data and test data and compares predictions\n",
        "  \"\"\"\n",
        "  plt.figure(figsize=(10,7))\n",
        "  plt.scatter(train_data,train_labels,c=\"b\",s=4, label=\"Training data\")\n",
        "  plt.scatter(test_data,test_labels,c=\"orange\",s=4, label=\"Test data\")\n",
        "\n",
        "  if predictions is not None:       # for the test data!\n",
        "    plt.scatter(test_data,predictions,c=\"r\",s=4,label=\"Predictions\")\n",
        "  \n",
        "  plt.legend(prop={\"size\":14})\n",
        "\n",
        "\n"
      ],
      "metadata": {
        "id": "zNr3Nga0YSXd"
      },
      "execution_count": 87,
      "outputs": []
    },
    {
      "cell_type": "code",
      "source": [
        "plot_predictions(X_train,y_train,X_test,y_test)"
      ],
      "metadata": {
        "colab": {
          "base_uri": "https://localhost:8080/",
          "height": 428
        },
        "id": "fudLFO3AYLpV",
        "outputId": "f968b5b7-b438-439a-d0f2-133c47fc7904"
      },
      "execution_count": 88,
      "outputs": [
        {
          "output_type": "display_data",
          "data": {
            "text/plain": [
              "<Figure size 720x504 with 1 Axes>"
            ],
            "image/png": "[encoded data removed]"
          },
          "metadata": {
            "needs_background": "light"
          }
        }
      ]
    },
    {
      "cell_type": "markdown",
      "source": [
        "## 2. Build Model\n",
        "\n",
        "Here: a linear regression model: \n",
        "\n",
        "$Y_i = f(X_i,\\beta) + e_i$\n",
        "\n",
        "For object oriented python: https://realpython.com/python3-object-oriented-programming/\n",
        "\n",
        "* Note: almost everything in torch inherits from nn.Module.\n",
        "\n",
        "* ad nn.Parameter: when assigned a Model attributes, they are automoatically added to the lit of its parameters\n",
        "\n",
        "* requires_grad: because we will use gradient descent, so that the model keeps track of the gradients during training, and for use with torch.autograd\n",
        "\n",
        "Check out torch.nn for more information\n",
        "\n",
        "The whole purpose of the model is to\n",
        "1. create random parameters\n",
        "2. evaluate the model with these parameters on the training data: this forward method overrides forward() from nn.Module.model (I beliieve)\n",
        "3. then update the parameters with a GD algorithm. This requires a training loop\n",
        "\n",
        "There are 2 main algorithms that are implemented behnid the scene and which we have to trigger.\n",
        "1. GD\n",
        "2. Back propagation\n",
        "\n",
        "Additional resources:  https://www.3blue1brown.com\n"
      ],
      "metadata": {
        "id": "u2rGraHqZnhC"
      }
    },
    {
      "cell_type": "code",
      "source": [
        "class LinearRegressionModel(nn.Module):   # the class inherit fron nn.Module\n",
        "  def __init__(self):\n",
        "    super().__init__()\n",
        "    # initialize model parameters\n",
        "    self.weights = nn.Parameter(torch.randn(1,\n",
        "                                            requires_grad=True,\n",
        "                                            dtype=torch.float))\n",
        "    self.bias = nn.Parameter(torch.randn(1,\n",
        "                                         requires_grad=True,\n",
        "                                         dtype=torch.float))\n",
        "    \n",
        "    # Forward method to define the computation in the model (function evaluation)\n",
        "  \n",
        "  def forward(self,x:torch.Tensor) -> torch.Tensor:     # x being the training data\n",
        "    return self.weights * x + self.bias\n",
        "\n",
        "    \n",
        "  \n",
        "    "
      ],
      "metadata": {
        "id": "Xj_BO4vUY7Zb"
      },
      "execution_count": 103,
      "outputs": []
    },
    {
      "cell_type": "markdown",
      "source": [
        "### PyTorch model building essentials\n",
        "\n",
        "* torch.nn - contains all building blockes for computatioinal graphs\n",
        "* torch.nn.Parameter - what parameters should the model learn (often a pytorch layer from torch.nn will et these for us)\n",
        "* torch.nn.Module - base class for all NN models. If you subclass it, you should override forward\n",
        "* torch.optim - is where the optimizers in pytorch live, help with GD\n",
        "* def forward() - all nn.Module subclasses require you to ovverride forward()\n",
        "\n",
        "For more complex datasets\n",
        "* torch.utils.data.Datset - represents a map between y and X of data\n",
        "* torch.utils.data.Dataloader - creates a Python iterable over a torch Dataet that allows you to iterate over data\n",
        "* torchvision.transforms\n",
        "\n",
        "Furthermore for model building\n",
        "* torchvision.models       # for pretrained CV models\n",
        "* torch.optim\n",
        "\n",
        "For evaluation and experimentation\n",
        "* torch.metrics\n",
        "* torch.utils.tensorboard\n",
        "\n",
        "\n",
        "\n",
        "\n",
        "\n",
        "Check out pytorch cheat sheet: https://pytorch.org/tutorials/beginner/ptcheat.html"
      ],
      "metadata": {
        "id": "faNXg91ionSD"
      }
    },
    {
      "cell_type": "markdown",
      "source": [
        "### Checking the contents of our pytorch model\n",
        "\n",
        "Check parameters with .parameters"
      ],
      "metadata": {
        "id": "BCzBMJgE9AUr"
      }
    },
    {
      "cell_type": "code",
      "source": [
        "# Create a random seed for reproducability\n",
        "# BEFORE I instantiate the model\n",
        "RANDOM_SEED =42\n",
        "torch.manual_seed(RANDOM_SEED)\n",
        "\n",
        "# create an instance of the model\n",
        "model_0 = LinearRegressionModel()\n",
        "# If I ask for the parameters, the output is <generator ...\n",
        "# model_0.parameters()\n",
        "# Ask for a list instead\n",
        "list(model_0.parameters())\n"
      ],
      "metadata": {
        "colab": {
          "base_uri": "https://localhost:8080/"
        },
        "id": "MrDoScfoomIF",
        "outputId": "406a88a2-3220-4be7-a520-2c5664c580c6"
      },
      "execution_count": 104,
      "outputs": [
        {
          "output_type": "execute_result",
          "data": {
            "text/plain": [
              "[Parameter containing:\n",
              " tensor([0.3367], requires_grad=True), Parameter containing:\n",
              " tensor([0.1288], requires_grad=True)]"
            ]
          },
          "metadata": {},
          "execution_count": 104
        }
      ]
    },
    {
      "cell_type": "code",
      "source": [
        "# List named parameter (more comprehensible) and compare to true weight and bias\n",
        "print(model_0.state_dict())\n",
        "print(weight,bias)"
      ],
      "metadata": {
        "colab": {
          "base_uri": "https://localhost:8080/"
        },
        "id": "qhl2v6vE9BWm",
        "outputId": "479a03de-da2b-4dfc-bdf3-22136dfe0b79"
      },
      "execution_count": 91,
      "outputs": [
        {
          "output_type": "stream",
          "name": "stdout",
          "text": [
            "OrderedDict([('weights', tensor([0.3367])), ('bias', tensor([0.1288]))])\n",
            "0.7 0.3\n"
          ]
        }
      ]
    },
    {
      "cell_type": "markdown",
      "source": [
        "### Try making predictions on test data\n",
        "\n",
        "With the initial parameters using torch.inference_mode(). Make predictions using torch.inference_mode() - this is a context manager that turns off gradient tracking because during inference we do not have to keep track which makes sytax a bit easier, and it is also faster\n",
        "\n",
        "\n",
        "Either use\n",
        "\n",
        "   \n",
        "\n",
        "```\n",
        "with torch.inference_mode()      #rather new, preferred\n",
        "```\n",
        "OR\n",
        "\n",
        "\n",
        "```\n",
        "with torch.no_grad()       # older syntax\n",
        "```\n",
        "\n",
        "\n",
        "\n"
      ],
      "metadata": {
        "id": "7nOg9joT_VVE"
      }
    },
    {
      "cell_type": "code",
      "source": [
        "\n",
        "with torch.inference_mode():\n",
        "  y_preds = model_0(X_test)\n",
        "\n",
        "plot_predictions(predictions=y_preds)"
      ],
      "metadata": {
        "colab": {
          "base_uri": "https://localhost:8080/",
          "height": 428
        },
        "id": "6rKkOGfK9Gt7",
        "outputId": "a4f219ae-2f6f-4eff-866a-e3d0274a6299"
      },
      "execution_count": 105,
      "outputs": [
        {
          "output_type": "display_data",
          "data": {
            "text/plain": [
              "<Figure size 720x504 with 1 Axes>"
            ],
            "image/png": "[encoded data removed]"
          },
          "metadata": {
            "needs_background": "light"
          }
        }
      ]
    },
    {
      "cell_type": "code",
      "source": [
        "#actually this is the same as using \n",
        "y_preds = model_0(X_test)\n",
        "y_preds.squeeze()\n",
        "plot_predictions(predictions=y_preds.detach().numpy())\n",
        "# but this is more complicated because you have to detach the tensor"
      ],
      "metadata": {
        "colab": {
          "base_uri": "https://localhost:8080/",
          "height": 428
        },
        "id": "hswL1rGYBuUv",
        "outputId": "b8d4b8d5-0941-4aac-88fa-5840f8cfdc22"
      },
      "execution_count": 93,
      "outputs": [
        {
          "output_type": "display_data",
          "data": {
            "text/plain": [
              "<Figure size 720x504 with 1 Axes>"
            ],
            "image/png": "[encoded data removed]"
          },
          "metadata": {
            "needs_background": "light"
          }
        }
      ]
    },
    {
      "cell_type": "markdown",
      "source": [
        "### 3. Training a model\n",
        "\n",
        "* metric for goodness of a representation: **loss functions**: go look on torch.nn ( = criterion, cost function)\n",
        "* **optimizer**: takes into account the loss of a model and adjusts the models parameters to improve the loss function\n",
        "* specifically iin PyTorch we need a **training loop** and a **testing loop**\n",
        "\n"
      ],
      "metadata": {
        "id": "5SQQsqt_Eq78"
      }
    },
    {
      "cell_type": "markdown",
      "source": [
        "### Implementing Loss functions and optimizers \n",
        "* loss functions in torch.nn (L1Loss, MSELoss,...)\n",
        "* optimizers in torch.optim (SGD, RMpropm, Adagrad, Adam,...) that accept parameters, **lr**\n",
        "\n",
        "For regression problems: L1 or L2\n"
      ],
      "metadata": {
        "id": "VYVLlmXOHZAo"
      }
    },
    {
      "cell_type": "code",
      "source": [
        "# setting up a loss function\n",
        "loss_fn = nn.L1Loss()"
      ],
      "metadata": {
        "id": "SAkL7oEv_sAP"
      },
      "execution_count": 106,
      "outputs": []
    },
    {
      "cell_type": "code",
      "source": [
        "# setting up an optimizer\n",
        "optimizer = torch.optim.SGD(params = model_0.parameters(),\n",
        "                            lr = 0.01)"
      ],
      "metadata": {
        "id": "4xV0gypGCV3i"
      },
      "execution_count": 107,
      "outputs": []
    },
    {
      "cell_type": "markdown",
      "source": [
        "### Building a training loop and a testing loop\n",
        "\n",
        "Need:\n",
        "0. Loop through the data\n",
        "1. **Forward pass** (forward propagation)\n",
        "2. Calculate loss (compare forward pass predictions with ground truth)\n",
        "3. optimizer zero grad\n",
        "4. **back propagatiion** - move backwards through the network to calculate the gradients of each of the parameters of the model with respect to the loss\n",
        "5. Optimizer step  - use optimizer to adjust model parameters to improve the loss\n"
      ],
      "metadata": {
        "id": "zpdguK0zK8sB"
      }
    },
    {
      "cell_type": "code",
      "source": [
        "list(model_0.parameters())"
      ],
      "metadata": {
        "colab": {
          "base_uri": "https://localhost:8080/"
        },
        "id": "WbsQrH01iq19",
        "outputId": "4fdd01c8-8976-4e66-9bdf-0f3e7ffd3f43"
      },
      "execution_count": 108,
      "outputs": [
        {
          "output_type": "execute_result",
          "data": {
            "text/plain": [
              "[Parameter containing:\n",
              " tensor([0.3367], requires_grad=True), Parameter containing:\n",
              " tensor([0.1288], requires_grad=True)]"
            ]
          },
          "metadata": {},
          "execution_count": 108
        }
      ]
    },
    {
      "cell_type": "code",
      "source": [
        "torch.manual_seed(42)\n",
        "model_0 = LinearRegressionModel()\n",
        "# for some reason I have not yet understood,\n",
        "# the loss function an dthe optimiizer have to\n",
        "# be redefined after creating the model instance\n",
        "\n",
        "loss_fn = nn.L1Loss()\n",
        "optimizer = torch.optim.SGD(params = model_0.parameters(),\n",
        "                            lr = 0.01)\n",
        "\n",
        "epochs =200   # a single forward pass\n",
        "\n",
        "for epoch in np.arange(epochs):\n",
        "  # set the model to training mode (is default)\n",
        "  model_0.train()      # sets all parameters that require gradients to requries_gradients\n",
        "\n",
        "  # 1. forward pass\n",
        "  y_pred = model_0(X_train)\n",
        "\n",
        "  # 2. calculate loss\n",
        "  loss = loss_fn(y_pred,y_train)\n",
        "  \n",
        "  # 3. optimizer zero grad\n",
        "  optimizer.zero_grad()\n",
        "\n",
        "  # 4. perform back propagation\n",
        "  loss.backward()\n",
        "\n",
        "  # 5. step the optimizer (perform gradient descent)\n",
        "  optimizer.step()  # by default, how the optimizer changes will acumulate throught the looop, so they have to be zeroed in step 3\n",
        "  #print(f\"parameters: {model_0.state_dict()}\")\n",
        "\n",
        "\n",
        "  # 6. testing\n",
        "  model_0.eval()        # put model in evaluation mode\n",
        "  with torch.inference_mode():        # turns off gradient tracking and other things    \n",
        "    test_preds = model_0(X_test)\n",
        "    test_loss = loss_fn(test_preds,y_test)\n",
        "    if epoch%50==0:\n",
        "      print(f\"Epoch: {epoch} | Train loss: {loss} | Test loss: {test_loss}\")\n",
        "      #print(f\"Parameters: {list(model_0.parameters())}\") \n",
        "      #plot_predictions(predictions = test_preds)\n",
        "\n"
      ],
      "metadata": {
        "colab": {
          "base_uri": "https://localhost:8080/"
        },
        "id": "ga7UOvXtI77m",
        "outputId": "b44112bd-a96d-41b3-f773-8666e0cc5161"
      },
      "execution_count": 148,
      "outputs": [
        {
          "output_type": "stream",
          "name": "stdout",
          "text": [
            "Epoch: 0 | Train loss: 0.31288138031959534 | Test loss: 0.48106518387794495\n",
            "Epoch: 50 | Train loss: 0.04167863354086876 | Test loss: 0.09919948130846024\n",
            "Epoch: 100 | Train loss: 0.024458957836031914 | Test loss: 0.05646304413676262\n",
            "Epoch: 150 | Train loss: 0.0072835334576666355 | Test loss: 0.016474086791276932\n"
          ]
        }
      ]
    },
    {
      "cell_type": "code",
      "source": [
        "torch.manual_seed(42)\n",
        "model_0 = LinearRegressionModel()\n",
        "loss_fn = nn.L1Loss()\n",
        "optimizer = torch.optim.SGD(params = model_0.parameters(),\n",
        "                            lr = 0.01)\n",
        "epochs =200   # a single forward pass\n",
        "\n",
        "# keeping track\n",
        "epoch_count=[]\n",
        "loss_train_list=[]\n",
        "loss_test_list=[]\n",
        "\n",
        "for epoch in np.arange(epochs):\n",
        "  # train\n",
        "  model_0.train()     \n",
        "\n",
        "  y_pred = model_0(X_train)\n",
        "  loss = loss_fn(y_pred,y_train)\n",
        "  optimizer.zero_grad()\n",
        "  loss.backward()\n",
        "  optimizer.step()  \n",
        "  \n",
        "  # 6. testing\n",
        "  model_0.eval()        \n",
        "  with torch.inference_mode():         \n",
        "    \n",
        "    if epoch%10==0:\n",
        "      test_preds = model_0(X_test)\n",
        "      test_loss = loss_fn(test_preds,y_test)\n",
        "      \n",
        "      epoch_count.append(epoch)\n",
        "      loss_train_list.append(loss.detach().numpy())\n",
        "      loss_test_list.append(test_loss.detach().numpy())\n",
        "\n",
        "      print(f\"Epoch: {epoch} | Train loss: {loss} | Test loss: {test_loss}\")\n",
        "      #print(f\"Parameters: {list(model_0.parameters())}\") \n",
        "      #plot_predictions(predictions = test_preds)\n",
        "\n"
      ],
      "metadata": {
        "colab": {
          "base_uri": "https://localhost:8080/"
        },
        "id": "BfwXLAUef5WV",
        "outputId": "3ec20b94-3aee-4550-b858-985b2414adfe"
      },
      "execution_count": 157,
      "outputs": [
        {
          "output_type": "stream",
          "name": "stdout",
          "text": [
            "Epoch: 0 | Train loss: 0.31288138031959534 | Test loss: 0.48106518387794495\n",
            "Epoch: 10 | Train loss: 0.1976713240146637 | Test loss: 0.3463551998138428\n",
            "Epoch: 20 | Train loss: 0.08908725529909134 | Test loss: 0.21729660034179688\n",
            "Epoch: 30 | Train loss: 0.053148526698350906 | Test loss: 0.14464017748832703\n",
            "Epoch: 40 | Train loss: 0.04543796554207802 | Test loss: 0.11360953003168106\n",
            "Epoch: 50 | Train loss: 0.04167863354086876 | Test loss: 0.09919948130846024\n",
            "Epoch: 60 | Train loss: 0.03818932920694351 | Test loss: 0.08886633068323135\n",
            "Epoch: 70 | Train loss: 0.03476089984178543 | Test loss: 0.0805937647819519\n",
            "Epoch: 80 | Train loss: 0.03132382780313492 | Test loss: 0.07232122868299484\n",
            "Epoch: 90 | Train loss: 0.02788739837706089 | Test loss: 0.06473556160926819\n",
            "Epoch: 100 | Train loss: 0.024458957836031914 | Test loss: 0.05646304413676262\n",
            "Epoch: 110 | Train loss: 0.021020207554101944 | Test loss: 0.04819049686193466\n",
            "Epoch: 120 | Train loss: 0.01758546568453312 | Test loss: 0.04060482233762741\n",
            "Epoch: 130 | Train loss: 0.014155393466353416 | Test loss: 0.03233227878808975\n",
            "Epoch: 140 | Train loss: 0.010716589167714119 | Test loss: 0.024059748277068138\n",
            "Epoch: 150 | Train loss: 0.0072835334576666355 | Test loss: 0.016474086791276932\n",
            "Epoch: 160 | Train loss: 0.0038517764769494534 | Test loss: 0.008201557211577892\n",
            "Epoch: 170 | Train loss: 0.008932482451200485 | Test loss: 0.005023092031478882\n",
            "Epoch: 180 | Train loss: 0.008932482451200485 | Test loss: 0.005023092031478882\n",
            "Epoch: 190 | Train loss: 0.008932482451200485 | Test loss: 0.005023092031478882\n"
          ]
        }
      ]
    },
    {
      "cell_type": "code",
      "source": [
        "# now plot the learning curve\n",
        "\n",
        "def plot_learning_curve(epoch_count, loss_train_list, loss_test_list):\n",
        "  plt.figure(figsize=(10,7))\n",
        "  plt.plot(epoch_count,loss_train_list,c=\"b\", label=\"Training loss\")\n",
        "  plt.plot(epoch_count,loss_test_list,c=\"orange\", label=\"Test loss\")\n",
        "  plt.legend(prop={\"size\": 14})\n",
        "\n",
        "plot_learning_curve(epoch_count, loss_train_list, loss_test_list)"
      ],
      "metadata": {
        "colab": {
          "base_uri": "https://localhost:8080/",
          "height": 429
        },
        "id": "bnd0jHmZihXd",
        "outputId": "c614cb13-b65d-4035-fea4-7056912b771c"
      },
      "execution_count": 165,
      "outputs": [
        {
          "output_type": "display_data",
          "data": {
            "text/plain": [
              "<Figure size 720x504 with 1 Axes>"
            ],
            "image/png": "[encoded data removed]"
          },
          "metadata": {
            "needs_background": "light"
          }
        }
      ]
    },
    {
      "cell_type": "markdown",
      "source": [
        "### Converting lists generated during training to numpy for plottinig\n",
        "\n",
        "\n",
        "\n",
        "```\n",
        "loss_test_list.detach().numpy()\n",
        "```\n",
        "or\n",
        "\n",
        "\n",
        "```\n",
        "np.array(torch.tensor(loss_test_list).numpy()\n",
        "```\n",
        "\n",
        "\n",
        "\n"
      ],
      "metadata": {
        "id": "K5W42hsX0f0Y"
      }
    },
    {
      "cell_type": "code",
      "source": [],
      "metadata": {
        "id": "ndxYzK9Pot1q"
      },
      "execution_count": null,
      "outputs": []
    }
  ]
}