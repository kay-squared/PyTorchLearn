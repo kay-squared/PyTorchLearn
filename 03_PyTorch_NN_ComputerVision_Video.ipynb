{
  "nbformat": 4,
  "nbformat_minor": 0,
  "metadata": {
    "colab": {
      "provenance": [],
      "authorship_tag": "ABX9TyO69s9yxoHYgiFmZyDtdi32",
      "include_colab_link": true
    },
    "kernelspec": {
      "name": "python3",
      "display_name": "Python 3"
    },
    "language_info": {
      "name": "python"
    },
    "widgets": {
      "application/vnd.jupyter.widget-state+json": {
        "be7f91e386ed412fb5816eba87b054a4": {
          "model_module": "@jupyter-widgets/controls",
          "model_name": "HBoxModel",
          "model_module_version": "1.5.0",
          "state": {
            "_dom_classes": [],
            "_model_module": "@jupyter-widgets/controls",
            "_model_module_version": "1.5.0",
            "_model_name": "HBoxModel",
            "_view_count": null,
            "_view_module": "@jupyter-widgets/controls",
            "_view_module_version": "1.5.0",
            "_view_name": "HBoxView",
            "box_style": "",
            "children": [
              "IPY_MODEL_5311fb7408ee43ffb755e502289945f4",
              "IPY_MODEL_b2acb477e7174984a9ac292edaaaca0e",
              "IPY_MODEL_63a98725e5f04e798cace04c100515ae"
            ],
            "layout": "IPY_MODEL_e16e6657d1b74174969f75464ef612a1"
          }
        },
        "5311fb7408ee43ffb755e502289945f4": {
          "model_module": "@jupyter-widgets/controls",
          "model_name": "HTMLModel",
          "model_module_version": "1.5.0",
          "state": {
            "_dom_classes": [],
            "_model_module": "@jupyter-widgets/controls",
            "_model_module_version": "1.5.0",
            "_model_name": "HTMLModel",
            "_view_count": null,
            "_view_module": "@jupyter-widgets/controls",
            "_view_module_version": "1.5.0",
            "_view_name": "HTMLView",
            "description": "",
            "description_tooltip": null,
            "layout": "IPY_MODEL_b716916d115a447899b880af3a2e0f04",
            "placeholder": "​",
            "style": "IPY_MODEL_b56ebea1fb6844eab307220e3b384c8f",
            "value": "100%"
          }
        },
        "b2acb477e7174984a9ac292edaaaca0e": {
          "model_module": "@jupyter-widgets/controls",
          "model_name": "FloatProgressModel",
          "model_module_version": "1.5.0",
          "state": {
            "_dom_classes": [],
            "_model_module": "@jupyter-widgets/controls",
            "_model_module_version": "1.5.0",
            "_model_name": "FloatProgressModel",
            "_view_count": null,
            "_view_module": "@jupyter-widgets/controls",
            "_view_module_version": "1.5.0",
            "_view_name": "ProgressView",
            "bar_style": "success",
            "description": "",
            "description_tooltip": null,
            "layout": "IPY_MODEL_ad5cfb13660b40fe90ba3c10b1be3143",
            "max": 3,
            "min": 0,
            "orientation": "horizontal",
            "style": "IPY_MODEL_bafc24e7c4484988a6d6ea8bbb75079e",
            "value": 3
          }
        },
        "63a98725e5f04e798cace04c100515ae": {
          "model_module": "@jupyter-widgets/controls",
          "model_name": "HTMLModel",
          "model_module_version": "1.5.0",
          "state": {
            "_dom_classes": [],
            "_model_module": "@jupyter-widgets/controls",
            "_model_module_version": "1.5.0",
            "_model_name": "HTMLModel",
            "_view_count": null,
            "_view_module": "@jupyter-widgets/controls",
            "_view_module_version": "1.5.0",
            "_view_name": "HTMLView",
            "description": "",
            "description_tooltip": null,
            "layout": "IPY_MODEL_2c0bd2ea5ef143a9a1fe0a846d4115a2",
            "placeholder": "​",
            "style": "IPY_MODEL_20b45b02f558456aadbe55c064fb6edd",
            "value": " 3/3 [00:39&lt;00:00, 13.32s/it]"
          }
        },
        "e16e6657d1b74174969f75464ef612a1": {
          "model_module": "@jupyter-widgets/base",
          "model_name": "LayoutModel",
          "model_module_version": "1.2.0",
          "state": {
            "_model_module": "@jupyter-widgets/base",
            "_model_module_version": "1.2.0",
            "_model_name": "LayoutModel",
            "_view_count": null,
            "_view_module": "@jupyter-widgets/base",
            "_view_module_version": "1.2.0",
            "_view_name": "LayoutView",
            "align_content": null,
            "align_items": null,
            "align_self": null,
            "border": null,
            "bottom": null,
            "display": null,
            "flex": null,
            "flex_flow": null,
            "grid_area": null,
            "grid_auto_columns": null,
            "grid_auto_flow": null,
            "grid_auto_rows": null,
            "grid_column": null,
            "grid_gap": null,
            "grid_row": null,
            "grid_template_areas": null,
            "grid_template_columns": null,
            "grid_template_rows": null,
            "height": null,
            "justify_content": null,
            "justify_items": null,
            "left": null,
            "margin": null,
            "max_height": null,
            "max_width": null,
            "min_height": null,
            "min_width": null,
            "object_fit": null,
            "object_position": null,
            "order": null,
            "overflow": null,
            "overflow_x": null,
            "overflow_y": null,
            "padding": null,
            "right": null,
            "top": null,
            "visibility": null,
            "width": null
          }
        },
        "b716916d115a447899b880af3a2e0f04": {
          "model_module": "@jupyter-widgets/base",
          "model_name": "LayoutModel",
          "model_module_version": "1.2.0",
          "state": {
            "_model_module": "@jupyter-widgets/base",
            "_model_module_version": "1.2.0",
            "_model_name": "LayoutModel",
            "_view_count": null,
            "_view_module": "@jupyter-widgets/base",
            "_view_module_version": "1.2.0",
            "_view_name": "LayoutView",
            "align_content": null,
            "align_items": null,
            "align_self": null,
            "border": null,
            "bottom": null,
            "display": null,
            "flex": null,
            "flex_flow": null,
            "grid_area": null,
            "grid_auto_columns": null,
            "grid_auto_flow": null,
            "grid_auto_rows": null,
            "grid_column": null,
            "grid_gap": null,
            "grid_row": null,
            "grid_template_areas": null,
            "grid_template_columns": null,
            "grid_template_rows": null,
            "height": null,
            "justify_content": null,
            "justify_items": null,
            "left": null,
            "margin": null,
            "max_height": null,
            "max_width": null,
            "min_height": null,
            "min_width": null,
            "object_fit": null,
            "object_position": null,
            "order": null,
            "overflow": null,
            "overflow_x": null,
            "overflow_y": null,
            "padding": null,
            "right": null,
            "top": null,
            "visibility": null,
            "width": null
          }
        },
        "b56ebea1fb6844eab307220e3b384c8f": {
          "model_module": "@jupyter-widgets/controls",
          "model_name": "DescriptionStyleModel",
          "model_module_version": "1.5.0",
          "state": {
            "_model_module": "@jupyter-widgets/controls",
            "_model_module_version": "1.5.0",
            "_model_name": "DescriptionStyleModel",
            "_view_count": null,
            "_view_module": "@jupyter-widgets/base",
            "_view_module_version": "1.2.0",
            "_view_name": "StyleView",
            "description_width": ""
          }
        },
        "ad5cfb13660b40fe90ba3c10b1be3143": {
          "model_module": "@jupyter-widgets/base",
          "model_name": "LayoutModel",
          "model_module_version": "1.2.0",
          "state": {
            "_model_module": "@jupyter-widgets/base",
            "_model_module_version": "1.2.0",
            "_model_name": "LayoutModel",
            "_view_count": null,
            "_view_module": "@jupyter-widgets/base",
            "_view_module_version": "1.2.0",
            "_view_name": "LayoutView",
            "align_content": null,
            "align_items": null,
            "align_self": null,
            "border": null,
            "bottom": null,
            "display": null,
            "flex": null,
            "flex_flow": null,
            "grid_area": null,
            "grid_auto_columns": null,
            "grid_auto_flow": null,
            "grid_auto_rows": null,
            "grid_column": null,
            "grid_gap": null,
            "grid_row": null,
            "grid_template_areas": null,
            "grid_template_columns": null,
            "grid_template_rows": null,
            "height": null,
            "justify_content": null,
            "justify_items": null,
            "left": null,
            "margin": null,
            "max_height": null,
            "max_width": null,
            "min_height": null,
            "min_width": null,
            "object_fit": null,
            "object_position": null,
            "order": null,
            "overflow": null,
            "overflow_x": null,
            "overflow_y": null,
            "padding": null,
            "right": null,
            "top": null,
            "visibility": null,
            "width": null
          }
        },
        "bafc24e7c4484988a6d6ea8bbb75079e": {
          "model_module": "@jupyter-widgets/controls",
          "model_name": "ProgressStyleModel",
          "model_module_version": "1.5.0",
          "state": {
            "_model_module": "@jupyter-widgets/controls",
            "_model_module_version": "1.5.0",
            "_model_name": "ProgressStyleModel",
            "_view_count": null,
            "_view_module": "@jupyter-widgets/base",
            "_view_module_version": "1.2.0",
            "_view_name": "StyleView",
            "bar_color": null,
            "description_width": ""
          }
        },
        "2c0bd2ea5ef143a9a1fe0a846d4115a2": {
          "model_module": "@jupyter-widgets/base",
          "model_name": "LayoutModel",
          "model_module_version": "1.2.0",
          "state": {
            "_model_module": "@jupyter-widgets/base",
            "_model_module_version": "1.2.0",
            "_model_name": "LayoutModel",
            "_view_count": null,
            "_view_module": "@jupyter-widgets/base",
            "_view_module_version": "1.2.0",
            "_view_name": "LayoutView",
            "align_content": null,
            "align_items": null,
            "align_self": null,
            "border": null,
            "bottom": null,
            "display": null,
            "flex": null,
            "flex_flow": null,
            "grid_area": null,
            "grid_auto_columns": null,
            "grid_auto_flow": null,
            "grid_auto_rows": null,
            "grid_column": null,
            "grid_gap": null,
            "grid_row": null,
            "grid_template_areas": null,
            "grid_template_columns": null,
            "grid_template_rows": null,
            "height": null,
            "justify_content": null,
            "justify_items": null,
            "left": null,
            "margin": null,
            "max_height": null,
            "max_width": null,
            "min_height": null,
            "min_width": null,
            "object_fit": null,
            "object_position": null,
            "order": null,
            "overflow": null,
            "overflow_x": null,
            "overflow_y": null,
            "padding": null,
            "right": null,
            "top": null,
            "visibility": null,
            "width": null
          }
        },
        "20b45b02f558456aadbe55c064fb6edd": {
          "model_module": "@jupyter-widgets/controls",
          "model_name": "DescriptionStyleModel",
          "model_module_version": "1.5.0",
          "state": {
            "_model_module": "@jupyter-widgets/controls",
            "_model_module_version": "1.5.0",
            "_model_name": "DescriptionStyleModel",
            "_view_count": null,
            "_view_module": "@jupyter-widgets/base",
            "_view_module_version": "1.2.0",
            "_view_name": "StyleView",
            "description_width": ""
          }
        },
        "304af78fc6624953b2525c0a27da0415": {
          "model_module": "@jupyter-widgets/controls",
          "model_name": "HBoxModel",
          "model_module_version": "1.5.0",
          "state": {
            "_dom_classes": [],
            "_model_module": "@jupyter-widgets/controls",
            "_model_module_version": "1.5.0",
            "_model_name": "HBoxModel",
            "_view_count": null,
            "_view_module": "@jupyter-widgets/controls",
            "_view_module_version": "1.5.0",
            "_view_name": "HBoxView",
            "box_style": "",
            "children": [
              "IPY_MODEL_3c786dcc5f384bb683ca3da53e80c126",
              "IPY_MODEL_17fb2c9d37f14a61b2cd79243977d594",
              "IPY_MODEL_761dd21a745c4ae7a6d43ee7145bf629"
            ],
            "layout": "IPY_MODEL_c7639600fe9143debd0c0ca5f5b3c130"
          }
        },
        "3c786dcc5f384bb683ca3da53e80c126": {
          "model_module": "@jupyter-widgets/controls",
          "model_name": "HTMLModel",
          "model_module_version": "1.5.0",
          "state": {
            "_dom_classes": [],
            "_model_module": "@jupyter-widgets/controls",
            "_model_module_version": "1.5.0",
            "_model_name": "HTMLModel",
            "_view_count": null,
            "_view_module": "@jupyter-widgets/controls",
            "_view_module_version": "1.5.0",
            "_view_name": "HTMLView",
            "description": "",
            "description_tooltip": null,
            "layout": "IPY_MODEL_1d07fd0f770c423ab797104a46a7ce52",
            "placeholder": "​",
            "style": "IPY_MODEL_cc430d011d314c44bacecbdc6114d263",
            "value": "100%"
          }
        },
        "17fb2c9d37f14a61b2cd79243977d594": {
          "model_module": "@jupyter-widgets/controls",
          "model_name": "FloatProgressModel",
          "model_module_version": "1.5.0",
          "state": {
            "_dom_classes": [],
            "_model_module": "@jupyter-widgets/controls",
            "_model_module_version": "1.5.0",
            "_model_name": "FloatProgressModel",
            "_view_count": null,
            "_view_module": "@jupyter-widgets/controls",
            "_view_module_version": "1.5.0",
            "_view_name": "ProgressView",
            "bar_style": "success",
            "description": "",
            "description_tooltip": null,
            "layout": "IPY_MODEL_e101e82d0cad496c9eab62311ab2ef77",
            "max": 313,
            "min": 0,
            "orientation": "horizontal",
            "style": "IPY_MODEL_ee5ab38968c84aacbb6d0cd91381802e",
            "value": 313
          }
        },
        "761dd21a745c4ae7a6d43ee7145bf629": {
          "model_module": "@jupyter-widgets/controls",
          "model_name": "HTMLModel",
          "model_module_version": "1.5.0",
          "state": {
            "_dom_classes": [],
            "_model_module": "@jupyter-widgets/controls",
            "_model_module_version": "1.5.0",
            "_model_name": "HTMLModel",
            "_view_count": null,
            "_view_module": "@jupyter-widgets/controls",
            "_view_module_version": "1.5.0",
            "_view_name": "HTMLView",
            "description": "",
            "description_tooltip": null,
            "layout": "IPY_MODEL_e58992d7aa174e38ba16e98e3e5de0fe",
            "placeholder": "​",
            "style": "IPY_MODEL_7f061d234de94440966d37ef35e7c986",
            "value": " 313/313 [00:03&lt;00:00, 116.27it/s]"
          }
        },
        "c7639600fe9143debd0c0ca5f5b3c130": {
          "model_module": "@jupyter-widgets/base",
          "model_name": "LayoutModel",
          "model_module_version": "1.2.0",
          "state": {
            "_model_module": "@jupyter-widgets/base",
            "_model_module_version": "1.2.0",
            "_model_name": "LayoutModel",
            "_view_count": null,
            "_view_module": "@jupyter-widgets/base",
            "_view_module_version": "1.2.0",
            "_view_name": "LayoutView",
            "align_content": null,
            "align_items": null,
            "align_self": null,
            "border": null,
            "bottom": null,
            "display": null,
            "flex": null,
            "flex_flow": null,
            "grid_area": null,
            "grid_auto_columns": null,
            "grid_auto_flow": null,
            "grid_auto_rows": null,
            "grid_column": null,
            "grid_gap": null,
            "grid_row": null,
            "grid_template_areas": null,
            "grid_template_columns": null,
            "grid_template_rows": null,
            "height": null,
            "justify_content": null,
            "justify_items": null,
            "left": null,
            "margin": null,
            "max_height": null,
            "max_width": null,
            "min_height": null,
            "min_width": null,
            "object_fit": null,
            "object_position": null,
            "order": null,
            "overflow": null,
            "overflow_x": null,
            "overflow_y": null,
            "padding": null,
            "right": null,
            "top": null,
            "visibility": null,
            "width": null
          }
        },
        "1d07fd0f770c423ab797104a46a7ce52": {
          "model_module": "@jupyter-widgets/base",
          "model_name": "LayoutModel",
          "model_module_version": "1.2.0",
          "state": {
            "_model_module": "@jupyter-widgets/base",
            "_model_module_version": "1.2.0",
            "_model_name": "LayoutModel",
            "_view_count": null,
            "_view_module": "@jupyter-widgets/base",
            "_view_module_version": "1.2.0",
            "_view_name": "LayoutView",
            "align_content": null,
            "align_items": null,
            "align_self": null,
            "border": null,
            "bottom": null,
            "display": null,
            "flex": null,
            "flex_flow": null,
            "grid_area": null,
            "grid_auto_columns": null,
            "grid_auto_flow": null,
            "grid_auto_rows": null,
            "grid_column": null,
            "grid_gap": null,
            "grid_row": null,
            "grid_template_areas": null,
            "grid_template_columns": null,
            "grid_template_rows": null,
            "height": null,
            "justify_content": null,
            "justify_items": null,
            "left": null,
            "margin": null,
            "max_height": null,
            "max_width": null,
            "min_height": null,
            "min_width": null,
            "object_fit": null,
            "object_position": null,
            "order": null,
            "overflow": null,
            "overflow_x": null,
            "overflow_y": null,
            "padding": null,
            "right": null,
            "top": null,
            "visibility": null,
            "width": null
          }
        },
        "cc430d011d314c44bacecbdc6114d263": {
          "model_module": "@jupyter-widgets/controls",
          "model_name": "DescriptionStyleModel",
          "model_module_version": "1.5.0",
          "state": {
            "_model_module": "@jupyter-widgets/controls",
            "_model_module_version": "1.5.0",
            "_model_name": "DescriptionStyleModel",
            "_view_count": null,
            "_view_module": "@jupyter-widgets/base",
            "_view_module_version": "1.2.0",
            "_view_name": "StyleView",
            "description_width": ""
          }
        },
        "e101e82d0cad496c9eab62311ab2ef77": {
          "model_module": "@jupyter-widgets/base",
          "model_name": "LayoutModel",
          "model_module_version": "1.2.0",
          "state": {
            "_model_module": "@jupyter-widgets/base",
            "_model_module_version": "1.2.0",
            "_model_name": "LayoutModel",
            "_view_count": null,
            "_view_module": "@jupyter-widgets/base",
            "_view_module_version": "1.2.0",
            "_view_name": "LayoutView",
            "align_content": null,
            "align_items": null,
            "align_self": null,
            "border": null,
            "bottom": null,
            "display": null,
            "flex": null,
            "flex_flow": null,
            "grid_area": null,
            "grid_auto_columns": null,
            "grid_auto_flow": null,
            "grid_auto_rows": null,
            "grid_column": null,
            "grid_gap": null,
            "grid_row": null,
            "grid_template_areas": null,
            "grid_template_columns": null,
            "grid_template_rows": null,
            "height": null,
            "justify_content": null,
            "justify_items": null,
            "left": null,
            "margin": null,
            "max_height": null,
            "max_width": null,
            "min_height": null,
            "min_width": null,
            "object_fit": null,
            "object_position": null,
            "order": null,
            "overflow": null,
            "overflow_x": null,
            "overflow_y": null,
            "padding": null,
            "right": null,
            "top": null,
            "visibility": null,
            "width": null
          }
        },
        "ee5ab38968c84aacbb6d0cd91381802e": {
          "model_module": "@jupyter-widgets/controls",
          "model_name": "ProgressStyleModel",
          "model_module_version": "1.5.0",
          "state": {
            "_model_module": "@jupyter-widgets/controls",
            "_model_module_version": "1.5.0",
            "_model_name": "ProgressStyleModel",
            "_view_count": null,
            "_view_module": "@jupyter-widgets/base",
            "_view_module_version": "1.2.0",
            "_view_name": "StyleView",
            "bar_color": null,
            "description_width": ""
          }
        },
        "e58992d7aa174e38ba16e98e3e5de0fe": {
          "model_module": "@jupyter-widgets/base",
          "model_name": "LayoutModel",
          "model_module_version": "1.2.0",
          "state": {
            "_model_module": "@jupyter-widgets/base",
            "_model_module_version": "1.2.0",
            "_model_name": "LayoutModel",
            "_view_count": null,
            "_view_module": "@jupyter-widgets/base",
            "_view_module_version": "1.2.0",
            "_view_name": "LayoutView",
            "align_content": null,
            "align_items": null,
            "align_self": null,
            "border": null,
            "bottom": null,
            "display": null,
            "flex": null,
            "flex_flow": null,
            "grid_area": null,
            "grid_auto_columns": null,
            "grid_auto_flow": null,
            "grid_auto_rows": null,
            "grid_column": null,
            "grid_gap": null,
            "grid_row": null,
            "grid_template_areas": null,
            "grid_template_columns": null,
            "grid_template_rows": null,
            "height": null,
            "justify_content": null,
            "justify_items": null,
            "left": null,
            "margin": null,
            "max_height": null,
            "max_width": null,
            "min_height": null,
            "min_width": null,
            "object_fit": null,
            "object_position": null,
            "order": null,
            "overflow": null,
            "overflow_x": null,
            "overflow_y": null,
            "padding": null,
            "right": null,
            "top": null,
            "visibility": null,
            "width": null
          }
        },
        "7f061d234de94440966d37ef35e7c986": {
          "model_module": "@jupyter-widgets/controls",
          "model_name": "DescriptionStyleModel",
          "model_module_version": "1.5.0",
          "state": {
            "_model_module": "@jupyter-widgets/controls",
            "_model_module_version": "1.5.0",
            "_model_name": "DescriptionStyleModel",
            "_view_count": null,
            "_view_module": "@jupyter-widgets/base",
            "_view_module_version": "1.2.0",
            "_view_name": "StyleView",
            "description_width": ""
          }
        },
        "c956edfad51142f7b1259dfcac68d9e2": {
          "model_module": "@jupyter-widgets/controls",
          "model_name": "HBoxModel",
          "model_module_version": "1.5.0",
          "state": {
            "_dom_classes": [],
            "_model_module": "@jupyter-widgets/controls",
            "_model_module_version": "1.5.0",
            "_model_name": "HBoxModel",
            "_view_count": null,
            "_view_module": "@jupyter-widgets/controls",
            "_view_module_version": "1.5.0",
            "_view_name": "HBoxView",
            "box_style": "",
            "children": [
              "IPY_MODEL_c57a9aad17404b00b0276909dde6dfe8",
              "IPY_MODEL_4b3aad5ba2384d7ca62cc51a58887938",
              "IPY_MODEL_cf28a4b37ad54a6bbe592f92f8661db3"
            ],
            "layout": "IPY_MODEL_7fa3b5dd89fc4504b87c3b7a111a8eb3"
          }
        },
        "c57a9aad17404b00b0276909dde6dfe8": {
          "model_module": "@jupyter-widgets/controls",
          "model_name": "HTMLModel",
          "model_module_version": "1.5.0",
          "state": {
            "_dom_classes": [],
            "_model_module": "@jupyter-widgets/controls",
            "_model_module_version": "1.5.0",
            "_model_name": "HTMLModel",
            "_view_count": null,
            "_view_module": "@jupyter-widgets/controls",
            "_view_module_version": "1.5.0",
            "_view_name": "HTMLView",
            "description": "",
            "description_tooltip": null,
            "layout": "IPY_MODEL_96c65189df0c43e28fb9a656c15798c6",
            "placeholder": "​",
            "style": "IPY_MODEL_de11103be3284f36b3d60548ac51ea4c",
            "value": "100%"
          }
        },
        "4b3aad5ba2384d7ca62cc51a58887938": {
          "model_module": "@jupyter-widgets/controls",
          "model_name": "FloatProgressModel",
          "model_module_version": "1.5.0",
          "state": {
            "_dom_classes": [],
            "_model_module": "@jupyter-widgets/controls",
            "_model_module_version": "1.5.0",
            "_model_name": "FloatProgressModel",
            "_view_count": null,
            "_view_module": "@jupyter-widgets/controls",
            "_view_module_version": "1.5.0",
            "_view_name": "ProgressView",
            "bar_style": "success",
            "description": "",
            "description_tooltip": null,
            "layout": "IPY_MODEL_d3a06bcf4020473cb419a6540b29ff96",
            "max": 3,
            "min": 0,
            "orientation": "horizontal",
            "style": "IPY_MODEL_be78acf645b34dcb9d29ab830a98e2e4",
            "value": 3
          }
        },
        "cf28a4b37ad54a6bbe592f92f8661db3": {
          "model_module": "@jupyter-widgets/controls",
          "model_name": "HTMLModel",
          "model_module_version": "1.5.0",
          "state": {
            "_dom_classes": [],
            "_model_module": "@jupyter-widgets/controls",
            "_model_module_version": "1.5.0",
            "_model_name": "HTMLModel",
            "_view_count": null,
            "_view_module": "@jupyter-widgets/controls",
            "_view_module_version": "1.5.0",
            "_view_name": "HTMLView",
            "description": "",
            "description_tooltip": null,
            "layout": "IPY_MODEL_b8f39e0f9ec540e7935d69409b0845b8",
            "placeholder": "​",
            "style": "IPY_MODEL_6219a0d68e254db78603ce66e0699671",
            "value": " 3/3 [00:32&lt;00:00, 10.71s/it]"
          }
        },
        "7fa3b5dd89fc4504b87c3b7a111a8eb3": {
          "model_module": "@jupyter-widgets/base",
          "model_name": "LayoutModel",
          "model_module_version": "1.2.0",
          "state": {
            "_model_module": "@jupyter-widgets/base",
            "_model_module_version": "1.2.0",
            "_model_name": "LayoutModel",
            "_view_count": null,
            "_view_module": "@jupyter-widgets/base",
            "_view_module_version": "1.2.0",
            "_view_name": "LayoutView",
            "align_content": null,
            "align_items": null,
            "align_self": null,
            "border": null,
            "bottom": null,
            "display": null,
            "flex": null,
            "flex_flow": null,
            "grid_area": null,
            "grid_auto_columns": null,
            "grid_auto_flow": null,
            "grid_auto_rows": null,
            "grid_column": null,
            "grid_gap": null,
            "grid_row": null,
            "grid_template_areas": null,
            "grid_template_columns": null,
            "grid_template_rows": null,
            "height": null,
            "justify_content": null,
            "justify_items": null,
            "left": null,
            "margin": null,
            "max_height": null,
            "max_width": null,
            "min_height": null,
            "min_width": null,
            "object_fit": null,
            "object_position": null,
            "order": null,
            "overflow": null,
            "overflow_x": null,
            "overflow_y": null,
            "padding": null,
            "right": null,
            "top": null,
            "visibility": null,
            "width": null
          }
        },
        "96c65189df0c43e28fb9a656c15798c6": {
          "model_module": "@jupyter-widgets/base",
          "model_name": "LayoutModel",
          "model_module_version": "1.2.0",
          "state": {
            "_model_module": "@jupyter-widgets/base",
            "_model_module_version": "1.2.0",
            "_model_name": "LayoutModel",
            "_view_count": null,
            "_view_module": "@jupyter-widgets/base",
            "_view_module_version": "1.2.0",
            "_view_name": "LayoutView",
            "align_content": null,
            "align_items": null,
            "align_self": null,
            "border": null,
            "bottom": null,
            "display": null,
            "flex": null,
            "flex_flow": null,
            "grid_area": null,
            "grid_auto_columns": null,
            "grid_auto_flow": null,
            "grid_auto_rows": null,
            "grid_column": null,
            "grid_gap": null,
            "grid_row": null,
            "grid_template_areas": null,
            "grid_template_columns": null,
            "grid_template_rows": null,
            "height": null,
            "justify_content": null,
            "justify_items": null,
            "left": null,
            "margin": null,
            "max_height": null,
            "max_width": null,
            "min_height": null,
            "min_width": null,
            "object_fit": null,
            "object_position": null,
            "order": null,
            "overflow": null,
            "overflow_x": null,
            "overflow_y": null,
            "padding": null,
            "right": null,
            "top": null,
            "visibility": null,
            "width": null
          }
        },
        "de11103be3284f36b3d60548ac51ea4c": {
          "model_module": "@jupyter-widgets/controls",
          "model_name": "DescriptionStyleModel",
          "model_module_version": "1.5.0",
          "state": {
            "_model_module": "@jupyter-widgets/controls",
            "_model_module_version": "1.5.0",
            "_model_name": "DescriptionStyleModel",
            "_view_count": null,
            "_view_module": "@jupyter-widgets/base",
            "_view_module_version": "1.2.0",
            "_view_name": "StyleView",
            "description_width": ""
          }
        },
        "d3a06bcf4020473cb419a6540b29ff96": {
          "model_module": "@jupyter-widgets/base",
          "model_name": "LayoutModel",
          "model_module_version": "1.2.0",
          "state": {
            "_model_module": "@jupyter-widgets/base",
            "_model_module_version": "1.2.0",
            "_model_name": "LayoutModel",
            "_view_count": null,
            "_view_module": "@jupyter-widgets/base",
            "_view_module_version": "1.2.0",
            "_view_name": "LayoutView",
            "align_content": null,
            "align_items": null,
            "align_self": null,
            "border": null,
            "bottom": null,
            "display": null,
            "flex": null,
            "flex_flow": null,
            "grid_area": null,
            "grid_auto_columns": null,
            "grid_auto_flow": null,
            "grid_auto_rows": null,
            "grid_column": null,
            "grid_gap": null,
            "grid_row": null,
            "grid_template_areas": null,
            "grid_template_columns": null,
            "grid_template_rows": null,
            "height": null,
            "justify_content": null,
            "justify_items": null,
            "left": null,
            "margin": null,
            "max_height": null,
            "max_width": null,
            "min_height": null,
            "min_width": null,
            "object_fit": null,
            "object_position": null,
            "order": null,
            "overflow": null,
            "overflow_x": null,
            "overflow_y": null,
            "padding": null,
            "right": null,
            "top": null,
            "visibility": null,
            "width": null
          }
        },
        "be78acf645b34dcb9d29ab830a98e2e4": {
          "model_module": "@jupyter-widgets/controls",
          "model_name": "ProgressStyleModel",
          "model_module_version": "1.5.0",
          "state": {
            "_model_module": "@jupyter-widgets/controls",
            "_model_module_version": "1.5.0",
            "_model_name": "ProgressStyleModel",
            "_view_count": null,
            "_view_module": "@jupyter-widgets/base",
            "_view_module_version": "1.2.0",
            "_view_name": "StyleView",
            "bar_color": null,
            "description_width": ""
          }
        },
        "b8f39e0f9ec540e7935d69409b0845b8": {
          "model_module": "@jupyter-widgets/base",
          "model_name": "LayoutModel",
          "model_module_version": "1.2.0",
          "state": {
            "_model_module": "@jupyter-widgets/base",
            "_model_module_version": "1.2.0",
            "_model_name": "LayoutModel",
            "_view_count": null,
            "_view_module": "@jupyter-widgets/base",
            "_view_module_version": "1.2.0",
            "_view_name": "LayoutView",
            "align_content": null,
            "align_items": null,
            "align_self": null,
            "border": null,
            "bottom": null,
            "display": null,
            "flex": null,
            "flex_flow": null,
            "grid_area": null,
            "grid_auto_columns": null,
            "grid_auto_flow": null,
            "grid_auto_rows": null,
            "grid_column": null,
            "grid_gap": null,
            "grid_row": null,
            "grid_template_areas": null,
            "grid_template_columns": null,
            "grid_template_rows": null,
            "height": null,
            "justify_content": null,
            "justify_items": null,
            "left": null,
            "margin": null,
            "max_height": null,
            "max_width": null,
            "min_height": null,
            "min_width": null,
            "object_fit": null,
            "object_position": null,
            "order": null,
            "overflow": null,
            "overflow_x": null,
            "overflow_y": null,
            "padding": null,
            "right": null,
            "top": null,
            "visibility": null,
            "width": null
          }
        },
        "6219a0d68e254db78603ce66e0699671": {
          "model_module": "@jupyter-widgets/controls",
          "model_name": "DescriptionStyleModel",
          "model_module_version": "1.5.0",
          "state": {
            "_model_module": "@jupyter-widgets/controls",
            "_model_module_version": "1.5.0",
            "_model_name": "DescriptionStyleModel",
            "_view_count": null,
            "_view_module": "@jupyter-widgets/base",
            "_view_module_version": "1.2.0",
            "_view_name": "StyleView",
            "description_width": ""
          }
        },
        "f5e3ae5b908240469fdefc4ead0a65f5": {
          "model_module": "@jupyter-widgets/controls",
          "model_name": "HBoxModel",
          "model_module_version": "1.5.0",
          "state": {
            "_dom_classes": [],
            "_model_module": "@jupyter-widgets/controls",
            "_model_module_version": "1.5.0",
            "_model_name": "HBoxModel",
            "_view_count": null,
            "_view_module": "@jupyter-widgets/controls",
            "_view_module_version": "1.5.0",
            "_view_name": "HBoxView",
            "box_style": "",
            "children": [
              "IPY_MODEL_57d7ba5e6fcc42fbbfe9c6f648b38794",
              "IPY_MODEL_9e2715fbc05440afb5e1b1c4b2a39ee9",
              "IPY_MODEL_bff0db340a824c64aa3a567642ed5f79"
            ],
            "layout": "IPY_MODEL_98df816ecc0443cbb66c9a9961cf78bf"
          }
        },
        "57d7ba5e6fcc42fbbfe9c6f648b38794": {
          "model_module": "@jupyter-widgets/controls",
          "model_name": "HTMLModel",
          "model_module_version": "1.5.0",
          "state": {
            "_dom_classes": [],
            "_model_module": "@jupyter-widgets/controls",
            "_model_module_version": "1.5.0",
            "_model_name": "HTMLModel",
            "_view_count": null,
            "_view_module": "@jupyter-widgets/controls",
            "_view_module_version": "1.5.0",
            "_view_name": "HTMLView",
            "description": "",
            "description_tooltip": null,
            "layout": "IPY_MODEL_630425a5ffeb4a9db81b78058c575d79",
            "placeholder": "​",
            "style": "IPY_MODEL_661b7ef333304811a7c0dff64a8641de",
            "value": "100%"
          }
        },
        "9e2715fbc05440afb5e1b1c4b2a39ee9": {
          "model_module": "@jupyter-widgets/controls",
          "model_name": "FloatProgressModel",
          "model_module_version": "1.5.0",
          "state": {
            "_dom_classes": [],
            "_model_module": "@jupyter-widgets/controls",
            "_model_module_version": "1.5.0",
            "_model_name": "FloatProgressModel",
            "_view_count": null,
            "_view_module": "@jupyter-widgets/controls",
            "_view_module_version": "1.5.0",
            "_view_name": "ProgressView",
            "bar_style": "success",
            "description": "",
            "description_tooltip": null,
            "layout": "IPY_MODEL_7beb83c94fea4f7c88e72c2639320398",
            "max": 313,
            "min": 0,
            "orientation": "horizontal",
            "style": "IPY_MODEL_cb41aeb9f4d0462396ad7a0e34115e73",
            "value": 313
          }
        },
        "bff0db340a824c64aa3a567642ed5f79": {
          "model_module": "@jupyter-widgets/controls",
          "model_name": "HTMLModel",
          "model_module_version": "1.5.0",
          "state": {
            "_dom_classes": [],
            "_model_module": "@jupyter-widgets/controls",
            "_model_module_version": "1.5.0",
            "_model_name": "HTMLModel",
            "_view_count": null,
            "_view_module": "@jupyter-widgets/controls",
            "_view_module_version": "1.5.0",
            "_view_name": "HTMLView",
            "description": "",
            "description_tooltip": null,
            "layout": "IPY_MODEL_82793104ddc4429cafc29bcb7c920d76",
            "placeholder": "​",
            "style": "IPY_MODEL_b95f8b0e69de470fac937843e2c70078",
            "value": " 313/313 [00:01&lt;00:00, 290.19it/s]"
          }
        },
        "98df816ecc0443cbb66c9a9961cf78bf": {
          "model_module": "@jupyter-widgets/base",
          "model_name": "LayoutModel",
          "model_module_version": "1.2.0",
          "state": {
            "_model_module": "@jupyter-widgets/base",
            "_model_module_version": "1.2.0",
            "_model_name": "LayoutModel",
            "_view_count": null,
            "_view_module": "@jupyter-widgets/base",
            "_view_module_version": "1.2.0",
            "_view_name": "LayoutView",
            "align_content": null,
            "align_items": null,
            "align_self": null,
            "border": null,
            "bottom": null,
            "display": null,
            "flex": null,
            "flex_flow": null,
            "grid_area": null,
            "grid_auto_columns": null,
            "grid_auto_flow": null,
            "grid_auto_rows": null,
            "grid_column": null,
            "grid_gap": null,
            "grid_row": null,
            "grid_template_areas": null,
            "grid_template_columns": null,
            "grid_template_rows": null,
            "height": null,
            "justify_content": null,
            "justify_items": null,
            "left": null,
            "margin": null,
            "max_height": null,
            "max_width": null,
            "min_height": null,
            "min_width": null,
            "object_fit": null,
            "object_position": null,
            "order": null,
            "overflow": null,
            "overflow_x": null,
            "overflow_y": null,
            "padding": null,
            "right": null,
            "top": null,
            "visibility": null,
            "width": null
          }
        },
        "630425a5ffeb4a9db81b78058c575d79": {
          "model_module": "@jupyter-widgets/base",
          "model_name": "LayoutModel",
          "model_module_version": "1.2.0",
          "state": {
            "_model_module": "@jupyter-widgets/base",
            "_model_module_version": "1.2.0",
            "_model_name": "LayoutModel",
            "_view_count": null,
            "_view_module": "@jupyter-widgets/base",
            "_view_module_version": "1.2.0",
            "_view_name": "LayoutView",
            "align_content": null,
            "align_items": null,
            "align_self": null,
            "border": null,
            "bottom": null,
            "display": null,
            "flex": null,
            "flex_flow": null,
            "grid_area": null,
            "grid_auto_columns": null,
            "grid_auto_flow": null,
            "grid_auto_rows": null,
            "grid_column": null,
            "grid_gap": null,
            "grid_row": null,
            "grid_template_areas": null,
            "grid_template_columns": null,
            "grid_template_rows": null,
            "height": null,
            "justify_content": null,
            "justify_items": null,
            "left": null,
            "margin": null,
            "max_height": null,
            "max_width": null,
            "min_height": null,
            "min_width": null,
            "object_fit": null,
            "object_position": null,
            "order": null,
            "overflow": null,
            "overflow_x": null,
            "overflow_y": null,
            "padding": null,
            "right": null,
            "top": null,
            "visibility": null,
            "width": null
          }
        },
        "661b7ef333304811a7c0dff64a8641de": {
          "model_module": "@jupyter-widgets/controls",
          "model_name": "DescriptionStyleModel",
          "model_module_version": "1.5.0",
          "state": {
            "_model_module": "@jupyter-widgets/controls",
            "_model_module_version": "1.5.0",
            "_model_name": "DescriptionStyleModel",
            "_view_count": null,
            "_view_module": "@jupyter-widgets/base",
            "_view_module_version": "1.2.0",
            "_view_name": "StyleView",
            "description_width": ""
          }
        },
        "7beb83c94fea4f7c88e72c2639320398": {
          "model_module": "@jupyter-widgets/base",
          "model_name": "LayoutModel",
          "model_module_version": "1.2.0",
          "state": {
            "_model_module": "@jupyter-widgets/base",
            "_model_module_version": "1.2.0",
            "_model_name": "LayoutModel",
            "_view_count": null,
            "_view_module": "@jupyter-widgets/base",
            "_view_module_version": "1.2.0",
            "_view_name": "LayoutView",
            "align_content": null,
            "align_items": null,
            "align_self": null,
            "border": null,
            "bottom": null,
            "display": null,
            "flex": null,
            "flex_flow": null,
            "grid_area": null,
            "grid_auto_columns": null,
            "grid_auto_flow": null,
            "grid_auto_rows": null,
            "grid_column": null,
            "grid_gap": null,
            "grid_row": null,
            "grid_template_areas": null,
            "grid_template_columns": null,
            "grid_template_rows": null,
            "height": null,
            "justify_content": null,
            "justify_items": null,
            "left": null,
            "margin": null,
            "max_height": null,
            "max_width": null,
            "min_height": null,
            "min_width": null,
            "object_fit": null,
            "object_position": null,
            "order": null,
            "overflow": null,
            "overflow_x": null,
            "overflow_y": null,
            "padding": null,
            "right": null,
            "top": null,
            "visibility": null,
            "width": null
          }
        },
        "cb41aeb9f4d0462396ad7a0e34115e73": {
          "model_module": "@jupyter-widgets/controls",
          "model_name": "ProgressStyleModel",
          "model_module_version": "1.5.0",
          "state": {
            "_model_module": "@jupyter-widgets/controls",
            "_model_module_version": "1.5.0",
            "_model_name": "ProgressStyleModel",
            "_view_count": null,
            "_view_module": "@jupyter-widgets/base",
            "_view_module_version": "1.2.0",
            "_view_name": "StyleView",
            "bar_color": null,
            "description_width": ""
          }
        },
        "82793104ddc4429cafc29bcb7c920d76": {
          "model_module": "@jupyter-widgets/base",
          "model_name": "LayoutModel",
          "model_module_version": "1.2.0",
          "state": {
            "_model_module": "@jupyter-widgets/base",
            "_model_module_version": "1.2.0",
            "_model_name": "LayoutModel",
            "_view_count": null,
            "_view_module": "@jupyter-widgets/base",
            "_view_module_version": "1.2.0",
            "_view_name": "LayoutView",
            "align_content": null,
            "align_items": null,
            "align_self": null,
            "border": null,
            "bottom": null,
            "display": null,
            "flex": null,
            "flex_flow": null,
            "grid_area": null,
            "grid_auto_columns": null,
            "grid_auto_flow": null,
            "grid_auto_rows": null,
            "grid_column": null,
            "grid_gap": null,
            "grid_row": null,
            "grid_template_areas": null,
            "grid_template_columns": null,
            "grid_template_rows": null,
            "height": null,
            "justify_content": null,
            "justify_items": null,
            "left": null,
            "margin": null,
            "max_height": null,
            "max_width": null,
            "min_height": null,
            "min_width": null,
            "object_fit": null,
            "object_position": null,
            "order": null,
            "overflow": null,
            "overflow_x": null,
            "overflow_y": null,
            "padding": null,
            "right": null,
            "top": null,
            "visibility": null,
            "width": null
          }
        },
        "b95f8b0e69de470fac937843e2c70078": {
          "model_module": "@jupyter-widgets/controls",
          "model_name": "DescriptionStyleModel",
          "model_module_version": "1.5.0",
          "state": {
            "_model_module": "@jupyter-widgets/controls",
            "_model_module_version": "1.5.0",
            "_model_name": "DescriptionStyleModel",
            "_view_count": null,
            "_view_module": "@jupyter-widgets/base",
            "_view_module_version": "1.2.0",
            "_view_name": "StyleView",
            "description_width": ""
          }
        },
        "12ea3bdb97f44ad48e1d660284e4938e": {
          "model_module": "@jupyter-widgets/controls",
          "model_name": "HBoxModel",
          "model_module_version": "1.5.0",
          "state": {
            "_dom_classes": [],
            "_model_module": "@jupyter-widgets/controls",
            "_model_module_version": "1.5.0",
            "_model_name": "HBoxModel",
            "_view_count": null,
            "_view_module": "@jupyter-widgets/controls",
            "_view_module_version": "1.5.0",
            "_view_name": "HBoxView",
            "box_style": "",
            "children": [
              "IPY_MODEL_71deb223e7554264aefd652bc33e3947",
              "IPY_MODEL_8b51875a9dd54088895de07db4ae2f72",
              "IPY_MODEL_e57fb64897c047e2b07f0c4af61d9083"
            ],
            "layout": "IPY_MODEL_a457d692e7d34ee8b2bf64a0c7880236"
          }
        },
        "71deb223e7554264aefd652bc33e3947": {
          "model_module": "@jupyter-widgets/controls",
          "model_name": "HTMLModel",
          "model_module_version": "1.5.0",
          "state": {
            "_dom_classes": [],
            "_model_module": "@jupyter-widgets/controls",
            "_model_module_version": "1.5.0",
            "_model_name": "HTMLModel",
            "_view_count": null,
            "_view_module": "@jupyter-widgets/controls",
            "_view_module_version": "1.5.0",
            "_view_name": "HTMLView",
            "description": "",
            "description_tooltip": null,
            "layout": "IPY_MODEL_5aab86741a4d40778869c2b58b79e3e1",
            "placeholder": "​",
            "style": "IPY_MODEL_03ef89b823514ce28b67479f66f980b2",
            "value": "100%"
          }
        },
        "8b51875a9dd54088895de07db4ae2f72": {
          "model_module": "@jupyter-widgets/controls",
          "model_name": "FloatProgressModel",
          "model_module_version": "1.5.0",
          "state": {
            "_dom_classes": [],
            "_model_module": "@jupyter-widgets/controls",
            "_model_module_version": "1.5.0",
            "_model_name": "FloatProgressModel",
            "_view_count": null,
            "_view_module": "@jupyter-widgets/controls",
            "_view_module_version": "1.5.0",
            "_view_name": "ProgressView",
            "bar_style": "success",
            "description": "",
            "description_tooltip": null,
            "layout": "IPY_MODEL_fa3f083b1d214d06a601a5ef0a2f8ce7",
            "max": 313,
            "min": 0,
            "orientation": "horizontal",
            "style": "IPY_MODEL_4c45cfb9d8b441558a6774bc6d45e430",
            "value": 313
          }
        },
        "e57fb64897c047e2b07f0c4af61d9083": {
          "model_module": "@jupyter-widgets/controls",
          "model_name": "HTMLModel",
          "model_module_version": "1.5.0",
          "state": {
            "_dom_classes": [],
            "_model_module": "@jupyter-widgets/controls",
            "_model_module_version": "1.5.0",
            "_model_name": "HTMLModel",
            "_view_count": null,
            "_view_module": "@jupyter-widgets/controls",
            "_view_module_version": "1.5.0",
            "_view_name": "HTMLView",
            "description": "",
            "description_tooltip": null,
            "layout": "IPY_MODEL_715ee1efde2647d29232cd9bb2b04168",
            "placeholder": "​",
            "style": "IPY_MODEL_119bd3a1eebd4eb19b133472ff07883f",
            "value": " 313/313 [00:01&lt;00:00, 293.21it/s]"
          }
        },
        "a457d692e7d34ee8b2bf64a0c7880236": {
          "model_module": "@jupyter-widgets/base",
          "model_name": "LayoutModel",
          "model_module_version": "1.2.0",
          "state": {
            "_model_module": "@jupyter-widgets/base",
            "_model_module_version": "1.2.0",
            "_model_name": "LayoutModel",
            "_view_count": null,
            "_view_module": "@jupyter-widgets/base",
            "_view_module_version": "1.2.0",
            "_view_name": "LayoutView",
            "align_content": null,
            "align_items": null,
            "align_self": null,
            "border": null,
            "bottom": null,
            "display": null,
            "flex": null,
            "flex_flow": null,
            "grid_area": null,
            "grid_auto_columns": null,
            "grid_auto_flow": null,
            "grid_auto_rows": null,
            "grid_column": null,
            "grid_gap": null,
            "grid_row": null,
            "grid_template_areas": null,
            "grid_template_columns": null,
            "grid_template_rows": null,
            "height": null,
            "justify_content": null,
            "justify_items": null,
            "left": null,
            "margin": null,
            "max_height": null,
            "max_width": null,
            "min_height": null,
            "min_width": null,
            "object_fit": null,
            "object_position": null,
            "order": null,
            "overflow": null,
            "overflow_x": null,
            "overflow_y": null,
            "padding": null,
            "right": null,
            "top": null,
            "visibility": null,
            "width": null
          }
        },
        "5aab86741a4d40778869c2b58b79e3e1": {
          "model_module": "@jupyter-widgets/base",
          "model_name": "LayoutModel",
          "model_module_version": "1.2.0",
          "state": {
            "_model_module": "@jupyter-widgets/base",
            "_model_module_version": "1.2.0",
            "_model_name": "LayoutModel",
            "_view_count": null,
            "_view_module": "@jupyter-widgets/base",
            "_view_module_version": "1.2.0",
            "_view_name": "LayoutView",
            "align_content": null,
            "align_items": null,
            "align_self": null,
            "border": null,
            "bottom": null,
            "display": null,
            "flex": null,
            "flex_flow": null,
            "grid_area": null,
            "grid_auto_columns": null,
            "grid_auto_flow": null,
            "grid_auto_rows": null,
            "grid_column": null,
            "grid_gap": null,
            "grid_row": null,
            "grid_template_areas": null,
            "grid_template_columns": null,
            "grid_template_rows": null,
            "height": null,
            "justify_content": null,
            "justify_items": null,
            "left": null,
            "margin": null,
            "max_height": null,
            "max_width": null,
            "min_height": null,
            "min_width": null,
            "object_fit": null,
            "object_position": null,
            "order": null,
            "overflow": null,
            "overflow_x": null,
            "overflow_y": null,
            "padding": null,
            "right": null,
            "top": null,
            "visibility": null,
            "width": null
          }
        },
        "03ef89b823514ce28b67479f66f980b2": {
          "model_module": "@jupyter-widgets/controls",
          "model_name": "DescriptionStyleModel",
          "model_module_version": "1.5.0",
          "state": {
            "_model_module": "@jupyter-widgets/controls",
            "_model_module_version": "1.5.0",
            "_model_name": "DescriptionStyleModel",
            "_view_count": null,
            "_view_module": "@jupyter-widgets/base",
            "_view_module_version": "1.2.0",
            "_view_name": "StyleView",
            "description_width": ""
          }
        },
        "fa3f083b1d214d06a601a5ef0a2f8ce7": {
          "model_module": "@jupyter-widgets/base",
          "model_name": "LayoutModel",
          "model_module_version": "1.2.0",
          "state": {
            "_model_module": "@jupyter-widgets/base",
            "_model_module_version": "1.2.0",
            "_model_name": "LayoutModel",
            "_view_count": null,
            "_view_module": "@jupyter-widgets/base",
            "_view_module_version": "1.2.0",
            "_view_name": "LayoutView",
            "align_content": null,
            "align_items": null,
            "align_self": null,
            "border": null,
            "bottom": null,
            "display": null,
            "flex": null,
            "flex_flow": null,
            "grid_area": null,
            "grid_auto_columns": null,
            "grid_auto_flow": null,
            "grid_auto_rows": null,
            "grid_column": null,
            "grid_gap": null,
            "grid_row": null,
            "grid_template_areas": null,
            "grid_template_columns": null,
            "grid_template_rows": null,
            "height": null,
            "justify_content": null,
            "justify_items": null,
            "left": null,
            "margin": null,
            "max_height": null,
            "max_width": null,
            "min_height": null,
            "min_width": null,
            "object_fit": null,
            "object_position": null,
            "order": null,
            "overflow": null,
            "overflow_x": null,
            "overflow_y": null,
            "padding": null,
            "right": null,
            "top": null,
            "visibility": null,
            "width": null
          }
        },
        "4c45cfb9d8b441558a6774bc6d45e430": {
          "model_module": "@jupyter-widgets/controls",
          "model_name": "ProgressStyleModel",
          "model_module_version": "1.5.0",
          "state": {
            "_model_module": "@jupyter-widgets/controls",
            "_model_module_version": "1.5.0",
            "_model_name": "ProgressStyleModel",
            "_view_count": null,
            "_view_module": "@jupyter-widgets/base",
            "_view_module_version": "1.2.0",
            "_view_name": "StyleView",
            "bar_color": null,
            "description_width": ""
          }
        },
        "715ee1efde2647d29232cd9bb2b04168": {
          "model_module": "@jupyter-widgets/base",
          "model_name": "LayoutModel",
          "model_module_version": "1.2.0",
          "state": {
            "_model_module": "@jupyter-widgets/base",
            "_model_module_version": "1.2.0",
            "_model_name": "LayoutModel",
            "_view_count": null,
            "_view_module": "@jupyter-widgets/base",
            "_view_module_version": "1.2.0",
            "_view_name": "LayoutView",
            "align_content": null,
            "align_items": null,
            "align_self": null,
            "border": null,
            "bottom": null,
            "display": null,
            "flex": null,
            "flex_flow": null,
            "grid_area": null,
            "grid_auto_columns": null,
            "grid_auto_flow": null,
            "grid_auto_rows": null,
            "grid_column": null,
            "grid_gap": null,
            "grid_row": null,
            "grid_template_areas": null,
            "grid_template_columns": null,
            "grid_template_rows": null,
            "height": null,
            "justify_content": null,
            "justify_items": null,
            "left": null,
            "margin": null,
            "max_height": null,
            "max_width": null,
            "min_height": null,
            "min_width": null,
            "object_fit": null,
            "object_position": null,
            "order": null,
            "overflow": null,
            "overflow_x": null,
            "overflow_y": null,
            "padding": null,
            "right": null,
            "top": null,
            "visibility": null,
            "width": null
          }
        },
        "119bd3a1eebd4eb19b133472ff07883f": {
          "model_module": "@jupyter-widgets/controls",
          "model_name": "DescriptionStyleModel",
          "model_module_version": "1.5.0",
          "state": {
            "_model_module": "@jupyter-widgets/controls",
            "_model_module_version": "1.5.0",
            "_model_name": "DescriptionStyleModel",
            "_view_count": null,
            "_view_module": "@jupyter-widgets/base",
            "_view_module_version": "1.2.0",
            "_view_name": "StyleView",
            "description_width": ""
          }
        },
        "345f19bb090045378c07814df7b237d9": {
          "model_module": "@jupyter-widgets/controls",
          "model_name": "HBoxModel",
          "model_module_version": "1.5.0",
          "state": {
            "_dom_classes": [],
            "_model_module": "@jupyter-widgets/controls",
            "_model_module_version": "1.5.0",
            "_model_name": "HBoxModel",
            "_view_count": null,
            "_view_module": "@jupyter-widgets/controls",
            "_view_module_version": "1.5.0",
            "_view_name": "HBoxView",
            "box_style": "",
            "children": [
              "IPY_MODEL_9d4d2baf91324e8993b7be1f3d438cfd",
              "IPY_MODEL_766ecb8f864f45dea598fd86ad614620",
              "IPY_MODEL_5d07302c5e8c42c3aaa4fe4e7a52c2c2"
            ],
            "layout": "IPY_MODEL_424c97e8835246b98d033fffdfa9b873"
          }
        },
        "9d4d2baf91324e8993b7be1f3d438cfd": {
          "model_module": "@jupyter-widgets/controls",
          "model_name": "HTMLModel",
          "model_module_version": "1.5.0",
          "state": {
            "_dom_classes": [],
            "_model_module": "@jupyter-widgets/controls",
            "_model_module_version": "1.5.0",
            "_model_name": "HTMLModel",
            "_view_count": null,
            "_view_module": "@jupyter-widgets/controls",
            "_view_module_version": "1.5.0",
            "_view_name": "HTMLView",
            "description": "",
            "description_tooltip": null,
            "layout": "IPY_MODEL_7ca121138380474499cfd36e203e3b8c",
            "placeholder": "​",
            "style": "IPY_MODEL_5d9d3d093b4c4374ab44a06acd2c0272",
            "value": "100%"
          }
        },
        "766ecb8f864f45dea598fd86ad614620": {
          "model_module": "@jupyter-widgets/controls",
          "model_name": "FloatProgressModel",
          "model_module_version": "1.5.0",
          "state": {
            "_dom_classes": [],
            "_model_module": "@jupyter-widgets/controls",
            "_model_module_version": "1.5.0",
            "_model_name": "FloatProgressModel",
            "_view_count": null,
            "_view_module": "@jupyter-widgets/controls",
            "_view_module_version": "1.5.0",
            "_view_name": "ProgressView",
            "bar_style": "success",
            "description": "",
            "description_tooltip": null,
            "layout": "IPY_MODEL_6b67e7c1e99c45bfabb6e5a04c18e72e",
            "max": 313,
            "min": 0,
            "orientation": "horizontal",
            "style": "IPY_MODEL_98f0759cbe0a407fb1171c41b8138596",
            "value": 313
          }
        },
        "5d07302c5e8c42c3aaa4fe4e7a52c2c2": {
          "model_module": "@jupyter-widgets/controls",
          "model_name": "HTMLModel",
          "model_module_version": "1.5.0",
          "state": {
            "_dom_classes": [],
            "_model_module": "@jupyter-widgets/controls",
            "_model_module_version": "1.5.0",
            "_model_name": "HTMLModel",
            "_view_count": null,
            "_view_module": "@jupyter-widgets/controls",
            "_view_module_version": "1.5.0",
            "_view_name": "HTMLView",
            "description": "",
            "description_tooltip": null,
            "layout": "IPY_MODEL_fc037a52cb724382beea75f6f49f706f",
            "placeholder": "​",
            "style": "IPY_MODEL_b7e36f9cfb9f4324a3ebfc1131fa8230",
            "value": " 313/313 [00:03&lt;00:00, 79.44it/s]"
          }
        },
        "424c97e8835246b98d033fffdfa9b873": {
          "model_module": "@jupyter-widgets/base",
          "model_name": "LayoutModel",
          "model_module_version": "1.2.0",
          "state": {
            "_model_module": "@jupyter-widgets/base",
            "_model_module_version": "1.2.0",
            "_model_name": "LayoutModel",
            "_view_count": null,
            "_view_module": "@jupyter-widgets/base",
            "_view_module_version": "1.2.0",
            "_view_name": "LayoutView",
            "align_content": null,
            "align_items": null,
            "align_self": null,
            "border": null,
            "bottom": null,
            "display": null,
            "flex": null,
            "flex_flow": null,
            "grid_area": null,
            "grid_auto_columns": null,
            "grid_auto_flow": null,
            "grid_auto_rows": null,
            "grid_column": null,
            "grid_gap": null,
            "grid_row": null,
            "grid_template_areas": null,
            "grid_template_columns": null,
            "grid_template_rows": null,
            "height": null,
            "justify_content": null,
            "justify_items": null,
            "left": null,
            "margin": null,
            "max_height": null,
            "max_width": null,
            "min_height": null,
            "min_width": null,
            "object_fit": null,
            "object_position": null,
            "order": null,
            "overflow": null,
            "overflow_x": null,
            "overflow_y": null,
            "padding": null,
            "right": null,
            "top": null,
            "visibility": null,
            "width": null
          }
        },
        "7ca121138380474499cfd36e203e3b8c": {
          "model_module": "@jupyter-widgets/base",
          "model_name": "LayoutModel",
          "model_module_version": "1.2.0",
          "state": {
            "_model_module": "@jupyter-widgets/base",
            "_model_module_version": "1.2.0",
            "_model_name": "LayoutModel",
            "_view_count": null,
            "_view_module": "@jupyter-widgets/base",
            "_view_module_version": "1.2.0",
            "_view_name": "LayoutView",
            "align_content": null,
            "align_items": null,
            "align_self": null,
            "border": null,
            "bottom": null,
            "display": null,
            "flex": null,
            "flex_flow": null,
            "grid_area": null,
            "grid_auto_columns": null,
            "grid_auto_flow": null,
            "grid_auto_rows": null,
            "grid_column": null,
            "grid_gap": null,
            "grid_row": null,
            "grid_template_areas": null,
            "grid_template_columns": null,
            "grid_template_rows": null,
            "height": null,
            "justify_content": null,
            "justify_items": null,
            "left": null,
            "margin": null,
            "max_height": null,
            "max_width": null,
            "min_height": null,
            "min_width": null,
            "object_fit": null,
            "object_position": null,
            "order": null,
            "overflow": null,
            "overflow_x": null,
            "overflow_y": null,
            "padding": null,
            "right": null,
            "top": null,
            "visibility": null,
            "width": null
          }
        },
        "5d9d3d093b4c4374ab44a06acd2c0272": {
          "model_module": "@jupyter-widgets/controls",
          "model_name": "DescriptionStyleModel",
          "model_module_version": "1.5.0",
          "state": {
            "_model_module": "@jupyter-widgets/controls",
            "_model_module_version": "1.5.0",
            "_model_name": "DescriptionStyleModel",
            "_view_count": null,
            "_view_module": "@jupyter-widgets/base",
            "_view_module_version": "1.2.0",
            "_view_name": "StyleView",
            "description_width": ""
          }
        },
        "6b67e7c1e99c45bfabb6e5a04c18e72e": {
          "model_module": "@jupyter-widgets/base",
          "model_name": "LayoutModel",
          "model_module_version": "1.2.0",
          "state": {
            "_model_module": "@jupyter-widgets/base",
            "_model_module_version": "1.2.0",
            "_model_name": "LayoutModel",
            "_view_count": null,
            "_view_module": "@jupyter-widgets/base",
            "_view_module_version": "1.2.0",
            "_view_name": "LayoutView",
            "align_content": null,
            "align_items": null,
            "align_self": null,
            "border": null,
            "bottom": null,
            "display": null,
            "flex": null,
            "flex_flow": null,
            "grid_area": null,
            "grid_auto_columns": null,
            "grid_auto_flow": null,
            "grid_auto_rows": null,
            "grid_column": null,
            "grid_gap": null,
            "grid_row": null,
            "grid_template_areas": null,
            "grid_template_columns": null,
            "grid_template_rows": null,
            "height": null,
            "justify_content": null,
            "justify_items": null,
            "left": null,
            "margin": null,
            "max_height": null,
            "max_width": null,
            "min_height": null,
            "min_width": null,
            "object_fit": null,
            "object_position": null,
            "order": null,
            "overflow": null,
            "overflow_x": null,
            "overflow_y": null,
            "padding": null,
            "right": null,
            "top": null,
            "visibility": null,
            "width": null
          }
        },
        "98f0759cbe0a407fb1171c41b8138596": {
          "model_module": "@jupyter-widgets/controls",
          "model_name": "ProgressStyleModel",
          "model_module_version": "1.5.0",
          "state": {
            "_model_module": "@jupyter-widgets/controls",
            "_model_module_version": "1.5.0",
            "_model_name": "ProgressStyleModel",
            "_view_count": null,
            "_view_module": "@jupyter-widgets/base",
            "_view_module_version": "1.2.0",
            "_view_name": "StyleView",
            "bar_color": null,
            "description_width": ""
          }
        },
        "fc037a52cb724382beea75f6f49f706f": {
          "model_module": "@jupyter-widgets/base",
          "model_name": "LayoutModel",
          "model_module_version": "1.2.0",
          "state": {
            "_model_module": "@jupyter-widgets/base",
            "_model_module_version": "1.2.0",
            "_model_name": "LayoutModel",
            "_view_count": null,
            "_view_module": "@jupyter-widgets/base",
            "_view_module_version": "1.2.0",
            "_view_name": "LayoutView",
            "align_content": null,
            "align_items": null,
            "align_self": null,
            "border": null,
            "bottom": null,
            "display": null,
            "flex": null,
            "flex_flow": null,
            "grid_area": null,
            "grid_auto_columns": null,
            "grid_auto_flow": null,
            "grid_auto_rows": null,
            "grid_column": null,
            "grid_gap": null,
            "grid_row": null,
            "grid_template_areas": null,
            "grid_template_columns": null,
            "grid_template_rows": null,
            "height": null,
            "justify_content": null,
            "justify_items": null,
            "left": null,
            "margin": null,
            "max_height": null,
            "max_width": null,
            "min_height": null,
            "min_width": null,
            "object_fit": null,
            "object_position": null,
            "order": null,
            "overflow": null,
            "overflow_x": null,
            "overflow_y": null,
            "padding": null,
            "right": null,
            "top": null,
            "visibility": null,
            "width": null
          }
        },
        "b7e36f9cfb9f4324a3ebfc1131fa8230": {
          "model_module": "@jupyter-widgets/controls",
          "model_name": "DescriptionStyleModel",
          "model_module_version": "1.5.0",
          "state": {
            "_model_module": "@jupyter-widgets/controls",
            "_model_module_version": "1.5.0",
            "_model_name": "DescriptionStyleModel",
            "_view_count": null,
            "_view_module": "@jupyter-widgets/base",
            "_view_module_version": "1.2.0",
            "_view_name": "StyleView",
            "description_width": ""
          }
        }
      }
    },
    "accelerator": "GPU",
    "gpuClass": "standard"
  },
  "cells": [
    {
      "cell_type": "markdown",
      "metadata": {
        "id": "view-in-github",
        "colab_type": "text"
      },
      "source": [
        "<a href=\"https://colab.research.google.com/github/kay-squared/PyTorchLearn/blob/main/03_PyTorch_NN_ComputerVision_Video.ipynb\" target=\"_parent\"><img src=\"https://colab.research.google.com/assets/colab-badge.svg\" alt=\"Open In Colab\"/></a>"
      ]
    },
    {
      "cell_type": "markdown",
      "source": [
        "\n",
        "# 03. Computer Vision with PyTorch\n",
        "\n",
        "Resources:\n",
        "\n",
        "https://www.learnpytorch.io/03_pytorch_computer_vision/\n",
        "\n",
        "https://github.com/mrdbourke/pytorch-deep-learning/blob/main/03_pytorch_computer_vision.ipynb\n",
        "\n",
        "Questions in https://github.com/mrdbourke/pytorch-deep-learning/discussions\n",
        "\n",
        "Computer vision can be used for \n",
        "* binary classification\n",
        "* multiclass classification (e.g. nutrify)\n",
        "* object detection\n",
        "* segmentation (apple fotos: https://machinelearning.apple.com/research/panoptic-segmentation or tesla computer vision, e.g. https://www.youtube.com/watch?v=Vz6yw7iGzZM)\n",
        "* ...\n",
        "\n",
        "What we will cov er\n",
        "* get a dataset (torchvision.datasets)\n",
        "* architecture of a CNN\n",
        "* end-to-end multiclass image classification\n",
        "\n"
      ],
      "metadata": {
        "id": "WNaNu9pdNDrz"
      }
    },
    {
      "cell_type": "markdown",
      "source": [
        "## Input Data\n",
        "\n",
        "Typical: 24-bit rgb images (3 times 8-bit)\n",
        "\n",
        "```\n",
        "[[red1,red2,...,redn],[g1,g2,...,],[b1, b2, ...,bn]]\n",
        "```\n",
        "**One Image** is often represented by the input tensor of shape **NHWC**\n",
        "\n",
        "```\n",
        "Shape_input = [batch_size, width, height, color_channels]\n",
        "```\n",
        "However, the pytorch library currently expects a different representation: **NCHW** which puts the color channels before width and height !!\n",
        "```\n",
        "Shape_input = [batch_size, color_channels, width, height]\n",
        "```\n",
        "\n",
        "\n",
        "\n",
        "## Output Data\n",
        "\n",
        "```\n",
        "[[prob_pizza_1,prob_sushi_1,...,prob_food_1],[prob_pizza_2,prob_sushi_2,...,prob_food_2],[prob_pizza_m,prob_sushi_m,...,prob_food_m]]\n",
        "```\n",
        "**One Image** is represented by a tensor of shape\n",
        "\n",
        "\n",
        "```\n",
        "Shape=[number of classes]\n",
        "```\n",
        "\n",
        "\n"
      ],
      "metadata": {
        "id": "M_qF0kWgbLsE"
      }
    },
    {
      "cell_type": "markdown",
      "source": [
        "## CNN Layers\n",
        "\n",
        "$out(N_i, C_{out_j}) = bias(C_{out_j}) + \\sum_{k=1}^{C_{in}-1} weight(C_{out,k} * input(N_i,j))$\n",
        "\n",
        "where $C_{out_j}$ and $C_{in_j}$ are the number of nodes in the input and output layers and $N_i$ seems to refer to a smaple in a batch of size 1. $*$ is the convolution operator.\n",
        "\n",
        "We will use \n",
        "* nn.Conv2d\n",
        "* nn.ReLU\n",
        "* nn.MaxPool2d\n",
        "* nn.Linear as output shape, with an activation sigmoid or softmax"
      ],
      "metadata": {
        "id": "BgOtq83QfClS"
      }
    },
    {
      "cell_type": "markdown",
      "source": [
        "## 0. Computer vision libraries in pytorch\n",
        "\n",
        "* torchvision\n",
        "* torchvision.datasets\n",
        "* torchvision.models\n",
        "* torchvision.transforms (turn image data into numbers, augmentation, ...)\n",
        "* torch.utils.data.Dataset - base dataset clsas for Pytorch\n",
        "* torch.utils.data.Dataloader - creates a python iterable over a dataset "
      ],
      "metadata": {
        "id": "mUELtOhfh2MF"
      }
    },
    {
      "cell_type": "code",
      "execution_count": 122,
      "metadata": {
        "id": "b5xoWWhhNAh3",
        "colab": {
          "base_uri": "https://localhost:8080/"
        },
        "outputId": "9c4570c2-7f43-41ae-c832-9fb10f78c365"
      },
      "outputs": [
        {
          "output_type": "stream",
          "name": "stdout",
          "text": [
            "Looking in indexes: https://pypi.org/simple, https://us-python.pkg.dev/colab-wheels/public/simple/\n",
            "Requirement already satisfied: torchmetrics in /usr/local/lib/python3.8/dist-packages (0.11.0)\n",
            "Requirement already satisfied: packaging in /usr/local/lib/python3.8/dist-packages (from torchmetrics) (21.3)\n",
            "Requirement already satisfied: numpy>=1.17.2 in /usr/local/lib/python3.8/dist-packages (from torchmetrics) (1.21.6)\n",
            "Requirement already satisfied: torch>=1.8.1 in /usr/local/lib/python3.8/dist-packages (from torchmetrics) (1.13.0+cu116)\n",
            "Requirement already satisfied: typing-extensions in /usr/local/lib/python3.8/dist-packages (from torchmetrics) (4.4.0)\n",
            "Requirement already satisfied: pyparsing!=3.0.5,>=2.0.2 in /usr/local/lib/python3.8/dist-packages (from packaging->torchmetrics) (3.0.9)\n",
            "1.13.0+cu116\n",
            "0.14.0+cu116\n"
          ]
        }
      ],
      "source": [
        "import torch\n",
        "from torch import nn\n",
        "\n",
        "import torchvision\n",
        "from torchvision import datasets\n",
        "from torchvision import transforms\n",
        "from torchvision.transforms import ToTensor\n",
        "\n",
        "import matplotlib.pyplot as plt\n",
        "import numpy as np\n",
        "\n",
        "!pip install  torchmetrics\n",
        "import torchmetrics\n",
        "\n",
        "from tqdm.auto import tqdm\n",
        "\n",
        "print(torch.__version__)\n",
        "print(torchvision.__version__)\n"
      ]
    },
    {
      "cell_type": "markdown",
      "source": [],
      "metadata": {
        "id": "CUNsWEsBmHCi"
      }
    },
    {
      "cell_type": "markdown",
      "source": [
        "## 1. Get a dataset\n",
        ". \n",
        "We are using Fashion MNIST. Could be downloaded from github, but we use built in stuff from torchvision (in turn: comes from imagenet). Check out https://pytorch.org/vision/stable/datasets.html#built-in-datasets and https://pytorch.org/vision/stable/generated/torchvision.datasets.FashionMNIST.html#torchvision.datasets.FashionMNIST\n",
        "\n",
        "\n"
      ],
      "metadata": {
        "id": "n_ucdB7HjGFt"
      }
    },
    {
      "cell_type": "code",
      "source": [
        "# Setup Training data\n",
        "train_data = datasets.FashionMNIST(\n",
        "    root = 'data', # where to download data to\n",
        "    train = True, # whether we want the training or the testing dataset\n",
        "    download = True, \n",
        "    transform = ToTensor(),  # or torchvision.transforms.ToTensor()\n",
        "    target_transform = None  # how do we want to transform the labels\n",
        "\n",
        ")\n",
        "\n",
        "test_data = datasets.FashionMNIST(\n",
        "    root = 'data', # where to download data to\n",
        "    train = False, # whether we want the training or the testing dataset\n",
        "    download = True, \n",
        "    transform = ToTensor(),  # or torchvision.transforms.ToTensor()\n",
        "    target_transform = None  # how do we want to transform the labels\n",
        "\n",
        ")\n",
        "len(train_data),len(test_data)"
      ],
      "metadata": {
        "colab": {
          "base_uri": "https://localhost:8080/"
        },
        "id": "HskW_vh5i4Do",
        "outputId": "6ced64e8-ecb9-4175-a658-68a558254c9b"
      },
      "execution_count": 123,
      "outputs": [
        {
          "output_type": "execute_result",
          "data": {
            "text/plain": [
              "(60000, 10000)"
            ]
          },
          "metadata": {},
          "execution_count": 123
        }
      ]
    },
    {
      "cell_type": "markdown",
      "source": [
        "### 1.1 Check input and output shapes"
      ],
      "metadata": {
        "id": "zFtKKp3wobZH"
      }
    },
    {
      "cell_type": "code",
      "source": [
        "# Image as numbers\n",
        "image, label = train_data[0]\n",
        "class_names = train_data.classes\n",
        "print(f'Image size: {image.size()}, Label: {label}')\n",
        "print(f'Image Labels: {class_names}')\n"
      ],
      "metadata": {
        "colab": {
          "base_uri": "https://localhost:8080/"
        },
        "id": "CrmjPcqOmehN",
        "outputId": "4312158a-c119-4c31-e9c5-d7f68f6a16f1"
      },
      "execution_count": 124,
      "outputs": [
        {
          "output_type": "stream",
          "name": "stdout",
          "text": [
            "Image size: torch.Size([1, 28, 28]), Label: 9\n",
            "Image Labels: ['T-shirt/top', 'Trouser', 'Pullover', 'Dress', 'Coat', 'Sandal', 'Shirt', 'Sneaker', 'Bag', 'Ankle boot']\n"
          ]
        }
      ]
    },
    {
      "cell_type": "markdown",
      "source": [
        "### 1.2 Visualize data"
      ],
      "metadata": {
        "id": "tb7SfpAcog4u"
      }
    },
    {
      "cell_type": "code",
      "source": [
        "# Image as image\n",
        "image, label = train_data[0]\n",
        "# not working:\n",
        "# plt.imshow(image)\n",
        "# because it is NCWH\n",
        "\n",
        "\n",
        "plt.imshow(image.squeeze(),cmap='gray')\n",
        "plt.title(class_names[label])\n",
        "\n",
        "\n"
      ],
      "metadata": {
        "colab": {
          "base_uri": "https://localhost:8080/",
          "height": 298
        },
        "id": "zGK9eEZimj4n",
        "outputId": "ff33e012-7871-469d-a194-506edebc6ea9"
      },
      "execution_count": 125,
      "outputs": [
        {
          "output_type": "execute_result",
          "data": {
            "text/plain": [
              "Text(0.5, 1.0, 'Ankle boot')"
            ]
          },
          "metadata": {},
          "execution_count": 125
        },
        {
          "output_type": "display_data",
          "data": {
            "text/plain": [
              "<Figure size 432x288 with 1 Axes>"
            ],
            "image/png": "[encoded data removed]"
          },
          "metadata": {
            "needs_background": "light"
          }
        }
      ]
    },
    {
      "cell_type": "code",
      "source": [
        "# more images (check out random samples!)\n",
        "#torch.manual_seed(42)\n",
        "fig = plt.figure(figsize=(10,10))\n",
        "rows=4\n",
        "cols=4\n",
        "for i in range(1,rows*cols+1):\n",
        "  random_idx = torch.randint(0,len(train_data),size=[1]).item()\n",
        "  img, label = train_data[random_idx]\n",
        "  fig.add_subplot(rows,cols,i)\n",
        "  plt.imshow(img.squeeze(),cmap='gray')\n",
        "  plt.title(class_names[label])"
      ],
      "metadata": {
        "colab": {
          "base_uri": "https://localhost:8080/",
          "height": 608
        },
        "id": "PgvDIeienudi",
        "outputId": "1fa1ac3d-db96-4fbe-9b30-c121b8b10e08"
      },
      "execution_count": 126,
      "outputs": [
        {
          "output_type": "display_data",
          "data": {
            "text/plain": [
              "<Figure size 720x720 with 16 Axes>"
            ],
            "image/png": "[encoded data removed]"
          },
          "metadata": {
            "needs_background": "light"
          }
        }
      ]
    },
    {
      "cell_type": "markdown",
      "source": [
        "## 2. Prepare Data loader\n",
        "At present, the data is in the form a pytorch datasets+the dataloader turns our dataset into a python iterable. Specifically we want to turn data into minibatches. Because\n",
        "1. it might be hard to hold 60000 images in memory! - so it is computationally more efficient to break it down to e.g. 32\n",
        "2. It gives the NN more chances to updates its gradients per epoch (check out Andrew Ng on minibatch gradient descent : https://www.youtube.com/watch?v=l4lSUAcvHFs"
      ],
      "metadata": {
        "id": "JtZBkXvSrKW0"
      }
    },
    {
      "cell_type": "markdown",
      "source": [
        "*kursiver Text*"
      ],
      "metadata": {
        "id": "41b4WYY1thmc"
      }
    },
    {
      "cell_type": "code",
      "source": [
        "## 2. Prepare Data Loader\n",
        "from torch.utils.data import DataLoader\n",
        "BATCH_SIZE = 32\n",
        "train_dataloader = DataLoader(dataset = train_data,\n",
        "                              batch_size = BATCH_SIZE,\n",
        "                              shuffle = True)\n",
        "\n",
        "test_dataloader = DataLoader(dataset = test_data,\n",
        "                              batch_size = BATCH_SIZE,\n",
        "                              shuffle = False)\n"
      ],
      "metadata": {
        "id": "yEMM1LAqrGiX"
      },
      "execution_count": 127,
      "outputs": []
    },
    {
      "cell_type": "code",
      "source": [
        "print(f'Dataloaders:  {train_dataloader, test_dataloader}')\n",
        "print(f'Lengt of train dataloader: {len(train_dataloader)} batches of {BATCH_SIZE}' )\n",
        "print(f'Lengt of test dataloader: {len(test_dataloader)} batches of {BATCH_SIZE}' )\n"
      ],
      "metadata": {
        "colab": {
          "base_uri": "https://localhost:8080/"
        },
        "id": "MS76UPH9qAX3",
        "outputId": "7f351e90-a41b-45ca-abcf-c1028a1c3178"
      },
      "execution_count": 128,
      "outputs": [
        {
          "output_type": "stream",
          "name": "stdout",
          "text": [
            "Dataloaders:  (<torch.utils.data.dataloader.DataLoader object at 0x7fbef8e04dc0>, <torch.utils.data.dataloader.DataLoader object at 0x7fbef8e4b1c0>)\n",
            "Lengt of train dataloader: 1875 batches of 32\n",
            "Lengt of test dataloader: 313 batches of 32\n"
          ]
        }
      ]
    },
    {
      "cell_type": "code",
      "source": [
        "# whats inside the training dataloader\n",
        "train_features_batch, train_labels_batch = next(iter(train_dataloader))\n",
        "train_features_batch.shape, train_labels_batch.shape\n",
        "# this is the input and output shapes"
      ],
      "metadata": {
        "colab": {
          "base_uri": "https://localhost:8080/"
        },
        "id": "Im6i0FH2qA1n",
        "outputId": "7e224187-6261-4ac4-864b-f44060e3112c"
      },
      "execution_count": 129,
      "outputs": [
        {
          "output_type": "execute_result",
          "data": {
            "text/plain": [
              "(torch.Size([32, 1, 28, 28]), torch.Size([32]))"
            ]
          },
          "metadata": {},
          "execution_count": 129
        }
      ]
    },
    {
      "cell_type": "code",
      "source": [
        "# visualize whats inside the dataloader (in one batch)\n",
        "random_idx = torch.randint(0,len(train_features_batch),size = [1]).item()\n",
        "img, label = train_features_batch[random_idx], train_labels_batch[random_idx]\n",
        "plt.imshow(img.squeeze(),cmap='gray')\n",
        "plt.title(class_names[label])\n",
        "plt.axis(False)\n",
        "print(f'Image Size: {img.shape}')\n",
        "print(f'Image label: {label}, label size: {label.shape}')"
      ],
      "metadata": {
        "colab": {
          "base_uri": "https://localhost:8080/",
          "height": 298
        },
        "id": "y89NDpTqzUZp",
        "outputId": "4f2ab0d8-0d93-4721-d71a-6245beac61ca"
      },
      "execution_count": 130,
      "outputs": [
        {
          "output_type": "stream",
          "name": "stdout",
          "text": [
            "Image Size: torch.Size([1, 28, 28])\n",
            "Image label: 2, label size: torch.Size([])\n"
          ]
        },
        {
          "output_type": "display_data",
          "data": {
            "text/plain": [
              "<Figure size 432x288 with 1 Axes>"
            ],
            "image/png": "[encoded data removed]"
          },
          "metadata": {
            "needs_background": "light"
          }
        }
      ]
    },
    {
      "cell_type": "markdown",
      "source": [
        "## 3. Model 0: Build a baseline model\n",
        "Before starting to experiment wiht models, it is best practice to start with a baseline model. This is a simple model that will be incrementally improved with subsequent models - make more complicated if necessary!"
      ],
      "metadata": {
        "id": "RGv1uMIQ1XT4"
      }
    },
    {
      "cell_type": "code",
      "source": [
        "# flatten layers\n",
        "flatten_model = nn.Flatten()\n",
        "x = train_features_batch[0]\n",
        "output = flatten_model(x)\n",
        "\n",
        "print(f'shape before flattening: {x.shape}')\n",
        "print(f'shape after flattening: {output.shape}')\n",
        "\n",
        "\n",
        "flatten_model = nn.Flatten()\n",
        "x = train_features_batch\n",
        "output = flatten_model(x)\n",
        "\n",
        "print(f'shape before flattening: {x.shape}')\n",
        "print(f'shape after flattening: {output.shape}')"
      ],
      "metadata": {
        "colab": {
          "base_uri": "https://localhost:8080/"
        },
        "id": "w5p1h1E30hLt",
        "outputId": "7e97cdf3-c505-4177-f564-240e2b942223"
      },
      "execution_count": 131,
      "outputs": [
        {
          "output_type": "stream",
          "name": "stdout",
          "text": [
            "shape before flattening: torch.Size([1, 28, 28])\n",
            "shape after flattening: torch.Size([1, 784])\n",
            "shape before flattening: torch.Size([32, 1, 28, 28])\n",
            "shape after flattening: torch.Size([32, 784])\n"
          ]
        }
      ]
    },
    {
      "cell_type": "markdown",
      "source": [
        "### 3.1 Base model: Linear MOdel \n",
        "(thats why we need flatten layer)"
      ],
      "metadata": {
        "id": "9xdIz2Ad2XVx"
      }
    },
    {
      "cell_type": "code",
      "source": [
        "from torch import nn\n",
        "class FashionMNISTModelV0(nn.Module):\n",
        "  def __init__(self,\n",
        "               input_shape: int,\n",
        "               hidden_units:int,\n",
        "               output_shape: int):\n",
        "    super().__init__()\n",
        "    self.layer_stack = nn.Sequential(\n",
        "        nn.Flatten(),\n",
        "        nn.Linear(in_features = input_shape,\n",
        "                       out_features = hidden_units),\n",
        "        nn.Linear(in_features = hidden_units,\n",
        "                       out_features = output_shape)\n",
        "    )\n",
        "\n",
        "  def forward(self, x):\n",
        "    return self.layer_stack(x)"
      ],
      "metadata": {
        "id": "tK0LmpT-1WVR"
      },
      "execution_count": 132,
      "outputs": []
    },
    {
      "cell_type": "code",
      "source": [
        "torch.manual_seed(42)\n",
        "torch.cuda.manual_seed(42)\n",
        "model_0 = FashionMNISTModelV0(input_shape = 784, hidden_units = 10, output_shape = len(class_names))\n",
        "model_0 = model_0.to('cpu')"
      ],
      "metadata": {
        "id": "_r4r0b2u3Gee"
      },
      "execution_count": 133,
      "outputs": []
    },
    {
      "cell_type": "code",
      "source": [
        "# test the model with a dummy\n",
        "dummy_x = torch.rand([1,1,28,28])\n",
        "model_0(dummy_x)# checkout\n",
        "#model_0.state_dict())"
      ],
      "metadata": {
        "colab": {
          "base_uri": "https://localhost:8080/"
        },
        "id": "HFJj7PoU3q68",
        "outputId": "4211bb2c-01af-4354-9713-acd2c5b845be"
      },
      "execution_count": 134,
      "outputs": [
        {
          "output_type": "execute_result",
          "data": {
            "text/plain": [
              "tensor([[-0.0315,  0.3171,  0.0531, -0.2525,  0.5959,  0.2112,  0.3233,  0.2694,\n",
              "         -0.1004,  0.0157]], grad_fn=<AddmmBackward0>)"
            ]
          },
          "metadata": {},
          "execution_count": 134
        }
      ]
    },
    {
      "cell_type": "code",
      "source": [
        "# setup loss and optim\n",
        "loss_fn = nn.CrossEntropyLoss()\n",
        "optimizer = torch.optim.SGD(params = model_0.parameters(),\n",
        "                            lr = 0.01)"
      ],
      "metadata": {
        "id": "_uWxi_qpAEay"
      },
      "execution_count": 135,
      "outputs": []
    },
    {
      "cell_type": "code",
      "source": [
        "#!pip install  torchmetrics\n",
        "import torchmetrics"
      ],
      "metadata": {
        "id": "FEK89Y3c4DHV"
      },
      "execution_count": 136,
      "outputs": []
    },
    {
      "cell_type": "code",
      "source": [
        "import requests\n",
        "from pathlib import Path\n",
        "\n",
        "# downloadhelperfunction\n",
        "if Path('helper_functions.py').is_file():\n",
        "  print('helper function already downloaded')\n",
        "else:\n",
        "  request = requests.get('https://raw.githubusercontent.com/mrdbourke/pytorch-deep-learning/main/helper_functions.py')\n",
        "  with open('helper_functions.py','wb') as f:\n",
        "    f.write(request.content)\n",
        "\n",
        "from helper_functions import accuracy_fn\n"
      ],
      "metadata": {
        "id": "WmRsqOv740lm",
        "colab": {
          "base_uri": "https://localhost:8080/"
        },
        "outputId": "b6cde48a-4ef5-418e-8f4d-81686909e023"
      },
      "execution_count": 137,
      "outputs": [
        {
          "output_type": "stream",
          "name": "stdout",
          "text": [
            "helper function already downloaded\n"
          ]
        }
      ]
    },
    {
      "cell_type": "markdown",
      "source": [
        "### A function to time the experiments\n",
        "Should always track\n",
        "* model performance\n",
        "* how fast it runs"
      ],
      "metadata": {
        "id": "zE7Xvecm-jAz"
      }
    },
    {
      "cell_type": "code",
      "source": [
        "from timeit import default_timer as timer\n",
        "def print_train_time(start: float,\n",
        "                     end:float,\n",
        "                     device: torch.device = None):\n",
        "  \"\"\" Prints difference between start and end time \"\"\"\n",
        "  total_time = end - start\n",
        "  print(f'Total time on {device}: {total_time:.3f} seconds')\n",
        "  return total_time\n",
        "\n",
        "start_time = timer()\n",
        "# some code\n",
        "end_time = timer()\n",
        "print_train_time(start = start_time, end = end_time, device = 'cpu')"
      ],
      "metadata": {
        "colab": {
          "base_uri": "https://localhost:8080/"
        },
        "id": "vIPQ1gtE-zZB",
        "outputId": "242d9ea3-b4d1-49cd-e69c-9362134fe27d"
      },
      "execution_count": 138,
      "outputs": [
        {
          "output_type": "stream",
          "name": "stdout",
          "text": [
            "Total time on cpu: 0.000 seconds\n"
          ]
        },
        {
          "output_type": "execute_result",
          "data": {
            "text/plain": [
              "2.8374000066833105e-05"
            ]
          },
          "metadata": {},
          "execution_count": 138
        }
      ]
    },
    {
      "cell_type": "markdown",
      "source": [
        "### 3.3 Build a training loop and train model\n",
        "now we will train on batches of data\n",
        "1. loop through epochs\n",
        "2. loop through training batches, perform training steps, compute train loss per batch\n",
        "3. loop through testing batches, perform testing steps, compute the test loss per batch\n",
        "4. print out whats happening\n",
        "5. time it all"
      ],
      "metadata": {
        "id": "w-Oeg7L0_1i5"
      }
    },
    {
      "cell_type": "code",
      "source": [
        "from tqdm.auto import tqdm\n",
        "\n",
        "train_time_start_on_cpu = timer()\n",
        "# start small\n",
        "epochs = 3\n",
        "\n",
        "for epoch in tqdm(range(epochs)):\n",
        "  print(f'Epoch: {epoch}\\n')\n",
        "  #Training\n",
        "  train_loss = 0 # initialize for each epoch\n",
        "  # Add a loop for batches\n",
        "  for batch, (X,y) in enumerate(train_dataloader):\n",
        "    model_0.train()\n",
        "    y_pred = model_0(X)\n",
        "    loss = loss_fn(y_pred,y)\n",
        "    train_loss+= loss # accumualte train loss across batch\n",
        "    optimizer.zero_grad()\n",
        "    loss.backward()   # y=but backpropagate on the current stewise loss\n",
        "    optimizer.step() # now updated once per batch instead of per epoch\n",
        "\n",
        "    if batch % 400 == 0:\n",
        "      print(f'Have looked at {batch * len(X)}/{len(train_dataloader.dataset)} samples')\n",
        "\n",
        "  # now compute average trainloss by length of train dataloader -> average batch loss\n",
        "  train_loss /= len(train_dataloader)\n",
        "\n",
        "  ### Testing loop, This is done per batch now\n",
        "  test_loss, test_acc = 0,0\n",
        "  model_0.eval()\n",
        "  with torch.inference_mode():\n",
        "    for X_test,y_test in test_dataloader:\n",
        "      test_pred = model_0(X_test)\n",
        "      test_loss += loss_fn(test_pred,y_test)\n",
        "      test_acc += accuracy_fn(y_true = y_test, y_pred = test_pred.argmax(dim=1))    # the one with the highest probabilitz\n",
        "\n",
        "    test_loss/=len(test_dataloader)\n",
        "    test_acc/= len(test_dataloader)\n",
        "  # print out whats happening\n",
        "    print(f'\\n Epoch: {epoch} |Train loss: {train_loss:.4f} |Test loss: {train_loss:.4f}| Test accuracy: {test_acc:.4f} ')\n",
        "  \n",
        "  train_time_end_on_cpu = timer()\n",
        "  total_train_time_model_0 = print_train_time(start = train_time_start_on_cpu,\n",
        "                                              end = train_time_end_on_cpu,\n",
        "                                              device = str(next(model_0.parameters()).device)) \n",
        "\n"
      ],
      "metadata": {
        "colab": {
          "base_uri": "https://localhost:8080/",
          "height": 559,
          "referenced_widgets": [
            "be7f91e386ed412fb5816eba87b054a4",
            "5311fb7408ee43ffb755e502289945f4",
            "b2acb477e7174984a9ac292edaaaca0e",
            "63a98725e5f04e798cace04c100515ae",
            "e16e6657d1b74174969f75464ef612a1",
            "b716916d115a447899b880af3a2e0f04",
            "b56ebea1fb6844eab307220e3b384c8f",
            "ad5cfb13660b40fe90ba3c10b1be3143",
            "bafc24e7c4484988a6d6ea8bbb75079e",
            "2c0bd2ea5ef143a9a1fe0a846d4115a2",
            "20b45b02f558456aadbe55c064fb6edd"
          ]
        },
        "id": "D8UlEhLv6u29",
        "outputId": "719c13d7-427b-403b-8c84-5fa1a233abf9"
      },
      "execution_count": 139,
      "outputs": [
        {
          "output_type": "display_data",
          "data": {
            "text/plain": [
              "  0%|          | 0/3 [00:00<?, ?it/s]"
            ],
            "application/vnd.jupyter.widget-view+json": {
              "version_major": 2,
              "version_minor": 0,
              "model_id": "be7f91e386ed412fb5816eba87b054a4"
            }
          },
          "metadata": {}
        },
        {
          "output_type": "stream",
          "name": "stdout",
          "text": [
            "Epoch: 0\n",
            "\n",
            "Have looked at 0/60000 samples\n",
            "Have looked at 12800/60000 samples\n",
            "Have looked at 25600/60000 samples\n",
            "Have looked at 38400/60000 samples\n",
            "Have looked at 51200/60000 samples\n",
            "\n",
            " Epoch: 0 |Train loss: 0.9078 |Test loss: 0.9078| Test accuracy: 78.2149 \n",
            "Total time on cpu: 9.132 seconds\n",
            "Epoch: 1\n",
            "\n",
            "Have looked at 0/60000 samples\n",
            "Have looked at 12800/60000 samples\n",
            "Have looked at 25600/60000 samples\n",
            "Have looked at 38400/60000 samples\n",
            "Have looked at 51200/60000 samples\n",
            "\n",
            " Epoch: 1 |Train loss: 0.5570 |Test loss: 0.5570| Test accuracy: 80.6609 \n",
            "Total time on cpu: 26.774 seconds\n",
            "Epoch: 2\n",
            "\n",
            "Have looked at 0/60000 samples\n",
            "Have looked at 12800/60000 samples\n",
            "Have looked at 25600/60000 samples\n",
            "Have looked at 38400/60000 samples\n",
            "Have looked at 51200/60000 samples\n",
            "\n",
            " Epoch: 2 |Train loss: 0.5019 |Test loss: 0.5019| Test accuracy: 81.5495 \n",
            "Total time on cpu: 39.116 seconds\n"
          ]
        }
      ]
    },
    {
      "cell_type": "markdown",
      "source": [
        "## 4. Make Predictions\n"
      ],
      "metadata": {
        "id": "da-4LtXHgm2t"
      }
    },
    {
      "cell_type": "code",
      "source": [
        "torch.manual_seed(42)\n",
        "def eval_model(model: torch.nn.Module,\n",
        "               data_loader: torch.utils.data.DataLoader,\n",
        "               loss_fn: torch.nn.Module,\n",
        "               accuracy_fn):\n",
        "  \"\"\" Returns a dictionary coontaining the results of model prediction on data_loader\"\"\"\n",
        "  loss,acc= 0,0\n",
        "\n",
        "  with torch.inference_mode():\n",
        "    for X,y in tqdm(data_loader):\n",
        "      #make predictions\n",
        "      y_pred = model(X)\n",
        "\n",
        "      # accumulate the loss and acc values per batch\n",
        "      loss+= loss_fn(y_pred,y)\n",
        "      acc+= accuracy_fn(y_true = y,\n",
        "                       y_pred=y_pred.argmax(dim=1))\n",
        "    \n",
        "    loss /= len(data_loader)\n",
        "    acc /= len(data_loader)\n",
        "\n",
        "  return {\"model_name\": model.__class__.__name__,\n",
        "          \"model_loss\": loss.item(),\n",
        "          \"model_acc\": acc}\n",
        "\n",
        "# caclualte model_0 results on the test dataset\n",
        "\n",
        "model_0_results = eval_model(model = model_0, \n",
        "                             data_loader = test_dataloader,\n",
        "                             loss_fn = loss_fn,\n",
        "                             accuracy_fn = accuracy_fn )\n",
        "\n",
        "\n",
        "print(model_0_results)"
      ],
      "metadata": {
        "id": "7zsu7eTE_1Tu",
        "colab": {
          "base_uri": "https://localhost:8080/",
          "height": 66,
          "referenced_widgets": [
            "304af78fc6624953b2525c0a27da0415",
            "3c786dcc5f384bb683ca3da53e80c126",
            "17fb2c9d37f14a61b2cd79243977d594",
            "761dd21a745c4ae7a6d43ee7145bf629",
            "c7639600fe9143debd0c0ca5f5b3c130",
            "1d07fd0f770c423ab797104a46a7ce52",
            "cc430d011d314c44bacecbdc6114d263",
            "e101e82d0cad496c9eab62311ab2ef77",
            "ee5ab38968c84aacbb6d0cd91381802e",
            "e58992d7aa174e38ba16e98e3e5de0fe",
            "7f061d234de94440966d37ef35e7c986"
          ]
        },
        "outputId": "fa9b5ddd-6037-4068-ae86-e56670845137"
      },
      "execution_count": 140,
      "outputs": [
        {
          "output_type": "display_data",
          "data": {
            "text/plain": [
              "  0%|          | 0/313 [00:00<?, ?it/s]"
            ],
            "application/vnd.jupyter.widget-view+json": {
              "version_major": 2,
              "version_minor": 0,
              "model_id": "304af78fc6624953b2525c0a27da0415"
            }
          },
          "metadata": {}
        },
        {
          "output_type": "stream",
          "name": "stdout",
          "text": [
            "{'model_name': 'FashionMNISTModelV0', 'model_loss': 0.5236040353775024, 'model_acc': 81.54952076677316}\n"
          ]
        }
      ]
    },
    {
      "cell_type": "markdown",
      "source": [
        "## 5. Set up device agnostic code\n",
        "\n"
      ],
      "metadata": {
        "id": "alPh00RgkoKW"
      }
    },
    {
      "cell_type": "markdown",
      "source": [],
      "metadata": {
        "id": "VrSGZythSi4Y"
      }
    },
    {
      "cell_type": "code",
      "source": [
        "device = \"cuda\" if torch.cuda.is_available() else \"cpu\"\n",
        "print(device)\n",
        "#!nvidia-smi"
      ],
      "metadata": {
        "id": "pRC2S4ae-ysX",
        "colab": {
          "base_uri": "https://localhost:8080/"
        },
        "outputId": "7086028f-b416-454f-866f-46a1c7aff501"
      },
      "execution_count": 141,
      "outputs": [
        {
          "output_type": "stream",
          "name": "stdout",
          "text": [
            "cpu\n"
          ]
        }
      ]
    },
    {
      "cell_type": "markdown",
      "source": [
        "## 6. Set up Model 1: Use a ReLU"
      ],
      "metadata": {
        "id": "uz5OvxavtnZz"
      }
    },
    {
      "cell_type": "code",
      "source": [
        "class FashionMNISTModelV1(nn.Module):\n",
        "  def __init__(self,\n",
        "               input_shape: int,\n",
        "               hidden_units:int,\n",
        "               output_shape: int):\n",
        "    super().__init__()\n",
        "    self.layer_stack = nn.Sequential(\n",
        "        nn.Flatten(),\n",
        "        nn.Linear(in_features = input_shape,\n",
        "                       out_features = hidden_units),\n",
        "        nn.ReLU(),\n",
        "        nn.Linear(in_features = hidden_units,\n",
        "                       out_features = output_shape),\n",
        "        #nn.ReLU()\n",
        "    )\n",
        "\n",
        "  def forward(self, x):\n",
        "    return self.layer_stack(x)"
      ],
      "metadata": {
        "id": "NF6WXxc97iwC"
      },
      "execution_count": 142,
      "outputs": []
    },
    {
      "cell_type": "code",
      "source": [
        "#train_features_batch, train_labels_batch = next(iter(train_dataloader))\n",
        "#train_features_batch.shape, train_labels_batch.shape\n",
        "train_features_batch, train_labels_batch = next(iter(train_dataloader))\n",
        "train_features_batch.shape[3]\n",
        "input_size = train_features_batch.shape[2]*train_features_batch.shape[3]"
      ],
      "metadata": {
        "id": "c9GIHz48jnex"
      },
      "execution_count": 143,
      "outputs": []
    },
    {
      "cell_type": "code",
      "source": [
        "torch.manual_seed(42)\n",
        "torch.cuda.manual_seed(42)\n",
        "model_1 = FashionMNISTModelV1(input_shape = input_size, hidden_units = 10, output_shape = len(class_names))\n",
        "loss_fn = nn.CrossEntropyLoss()\n",
        "optimizer = torch.optim.SGD(params = model_1.parameters(),\n",
        "                            lr=0.01)"
      ],
      "metadata": {
        "id": "p8hKzeQsUY5l"
      },
      "execution_count": 144,
      "outputs": []
    },
    {
      "cell_type": "code",
      "source": [
        "print(len(train_dataloader))                # number of batches\n",
        "print(len(train_dataloader.dataset))        # number of samples\n",
        "print(BATCH_SIZE)                           # number of sample per batch\n",
        "print(len(X))                               # number of sample per batch"
      ],
      "metadata": {
        "colab": {
          "base_uri": "https://localhost:8080/"
        },
        "id": "cxQBIWywpwoO",
        "outputId": "9d62c18c-b8e9-4bb0-965e-17d98060c9be"
      },
      "execution_count": 145,
      "outputs": [
        {
          "output_type": "stream",
          "name": "stdout",
          "text": [
            "1875\n",
            "60000\n",
            "32\n",
            "32\n"
          ]
        }
      ]
    },
    {
      "cell_type": "markdown",
      "source": [
        "### 6.1 Create a train step and a test step"
      ],
      "metadata": {
        "id": "MwWW-umRzLXG"
      }
    },
    {
      "cell_type": "code",
      "source": [
        "def train_step(model: torch.nn.Module,\n",
        "               dataloader: torch.utils.data.DataLoader,\n",
        "               loss_fn: torch.nn.Module,\n",
        "               optimizer: torch.optim.Optimizer,\n",
        "               accuracy_fn,\n",
        "               device: torch.device = device):\n",
        "  \n",
        "  model.train()\n",
        "  train_loss = 0\n",
        "  train_acc=0\n",
        "  for batch, (X,y) in enumerate(dataloader):\n",
        "\n",
        "    X,y = X.to(device),y.to(device)\n",
        "    \n",
        "    y_pred = model(X)\n",
        "    loss = loss_fn(y_pred,y)            # loss per batch (32 samples)\n",
        "    train_loss+=loss\n",
        "    train_acc += accuracy_fn(y_pred.argmax(dim=1),y)\n",
        "\n",
        "    optimizer.zero_grad()\n",
        "    loss.backward()\n",
        "    optimizer.step()\n",
        "\n",
        "    if batch%400 ==0:\n",
        "      #print(f'Have looked at {batch * len(X)}/{len(train_dataloader.dataset)} samples')\n",
        "      print(f\"Current sample: {batch*len(X)}/{len(train_dataloader.dataset)}\")\n",
        "  \n",
        "  \n",
        "  train_loss /= len(train_dataloader)    # average loss per batch\n",
        "  train_acc /= len(train_dataloader)\n",
        "  \n",
        "\n",
        "  return model, train_loss, train_acc\n",
        "\n",
        "\n",
        "def test_step(model: torch.nn.Module,\n",
        "               dataloader: torch.utils.data.DataLoader,\n",
        "               loss_fn: torch.nn.Module,\n",
        "               optimizer: torch.optim.Optimizer,\n",
        "               accuracy_fn,\n",
        "               device: torch.device = device\n",
        "              ):\n",
        "  test_loss = 0\n",
        "  test_acc = 0\n",
        "  model.eval()\n",
        "  with torch.inference_mode():\n",
        "    for batch, (X,y) in enumerate(test_dataloader):\n",
        "      X,y = X.to(device),y.to(device)\n",
        "      y_pred = model(X)\n",
        "      test_loss += loss_fn(y_pred,y)\n",
        "      test_acc += accuracy_fn(y_pred.argmax(dim=1),y)\n",
        "\n",
        "    test_loss /= len(test_dataloader)\n",
        "    test_acc /= len(test_dataloader)\n",
        "  \n",
        "  return model, test_loss, test_acc\n",
        "\n",
        "  \n",
        "\n"
      ],
      "metadata": {
        "id": "8xab5b-OvqNZ"
      },
      "execution_count": 146,
      "outputs": []
    },
    {
      "cell_type": "markdown",
      "source": [
        "### 6.2 Traininig loop"
      ],
      "metadata": {
        "id": "74B5l_rGFEWl"
      }
    },
    {
      "cell_type": "code",
      "source": [
        "\n",
        "train_time_start=timer()\n",
        "epochs=3\n",
        "\n",
        "for epoch in tqdm(np.arange(epochs)):\n",
        "  \n",
        "  # TRAINING LOOP\n",
        "  model_1, train_loss, train_acc = train_step(model = model_1, \n",
        "                                  dataloader = train_dataloader,\n",
        "                                  loss_fn = loss_fn,\n",
        "                                  optimizer=optimizer,\n",
        "                                  accuracy_fn = accuracy_fn,\n",
        "                                  device = device)\n",
        "  # TESTING LOOP\n",
        "  model_1, test_loss, test_acc = test_step(model = model_1, \n",
        "                                  dataloader = test_dataloader,\n",
        "                                  loss_fn = loss_fn,\n",
        "                                  optimizer=optimizer,\n",
        "                                  accuracy_fn = accuracy_fn,\n",
        "                                  device = device)\n",
        "  \n",
        "  print(f\"Epoch: {epoch} | Train loss {train_loss:.4f} | Test loss {test_loss:.4f} | Test accuracy {test_acc:.4f}\")\n",
        "\n",
        "  train_time_end = timer()\n",
        "  total_train_time_model_1 = print_train_time(train_time_start,\n",
        "                                            train_time_end,\n",
        "                                            device = str(next(model_1.parameters()).device))\n",
        "\n",
        "  \n",
        "\n",
        "\n",
        "\n",
        "\n"
      ],
      "metadata": {
        "colab": {
          "base_uri": "https://localhost:8080/",
          "height": 406,
          "referenced_widgets": [
            "c956edfad51142f7b1259dfcac68d9e2",
            "c57a9aad17404b00b0276909dde6dfe8",
            "4b3aad5ba2384d7ca62cc51a58887938",
            "cf28a4b37ad54a6bbe592f92f8661db3",
            "7fa3b5dd89fc4504b87c3b7a111a8eb3",
            "96c65189df0c43e28fb9a656c15798c6",
            "de11103be3284f36b3d60548ac51ea4c",
            "d3a06bcf4020473cb419a6540b29ff96",
            "be78acf645b34dcb9d29ab830a98e2e4",
            "b8f39e0f9ec540e7935d69409b0845b8",
            "6219a0d68e254db78603ce66e0699671"
          ]
        },
        "id": "yn4qoKC0kiCt",
        "outputId": "5fce8854-34cd-4e25-e79a-dc98023e408d"
      },
      "execution_count": 147,
      "outputs": [
        {
          "output_type": "display_data",
          "data": {
            "text/plain": [
              "  0%|          | 0/3 [00:00<?, ?it/s]"
            ],
            "application/vnd.jupyter.widget-view+json": {
              "version_major": 2,
              "version_minor": 0,
              "model_id": "c956edfad51142f7b1259dfcac68d9e2"
            }
          },
          "metadata": {}
        },
        {
          "output_type": "stream",
          "name": "stdout",
          "text": [
            "Current sample: 0/60000\n",
            "Current sample: 12800/60000\n",
            "Current sample: 25600/60000\n",
            "Current sample: 38400/60000\n",
            "Current sample: 51200/60000\n",
            "Epoch: 0 | Train loss 0.9822 | Test loss 0.7034 | Test accuracy 75.2196\n",
            "Total time on cpu: 13.364 seconds\n",
            "Current sample: 0/60000\n",
            "Current sample: 12800/60000\n",
            "Current sample: 25600/60000\n",
            "Current sample: 38400/60000\n",
            "Current sample: 51200/60000\n",
            "Epoch: 1 | Train loss 0.6044 | Test loss 0.5795 | Test accuracy 79.8922\n",
            "Total time on cpu: 22.397 seconds\n",
            "Current sample: 0/60000\n",
            "Current sample: 12800/60000\n",
            "Current sample: 25600/60000\n",
            "Current sample: 38400/60000\n",
            "Current sample: 51200/60000\n",
            "Epoch: 2 | Train loss 0.5280 | Test loss 0.5303 | Test accuracy 81.6094\n",
            "Total time on cpu: 32.989 seconds\n"
          ]
        }
      ]
    },
    {
      "cell_type": "markdown",
      "source": [
        "### Note: \n",
        "Sometimes (depending on data, hardware) a model may train faster on a cpu than on. a gpu. Possible reasons for this are:\n",
        "1. The overhead for copying data and model to and from the GPU may outweigh the compute benefits from the GPU (bandwidth cost)\n",
        "2. The hardware used ha a better CPU in terms of compute capability (rare)\n",
        "Check out https://horace.io/brrr_intro.html (excellent article)"
      ],
      "metadata": {
        "id": "UL_Q-ibiBMKP"
      }
    },
    {
      "cell_type": "markdown",
      "source": [
        "### 6.3 Get a results dictionary for model_1"
      ],
      "metadata": {
        "id": "_Q9WFqn1CBdv"
      }
    },
    {
      "cell_type": "code",
      "source": [
        "def eval_model(model: torch.nn.Module,\n",
        "               data_loader: torch.utils.data.DataLoader,\n",
        "               loss_fn: torch.nn.Module,\n",
        "               accuracy_fn,\n",
        "               device = device):\n",
        "  \"\"\" Returns a dictionary coontaining the results of model prediction on data_loader\"\"\"\n",
        "  loss,acc= 0,0\n",
        "\n",
        "  with torch.inference_mode():\n",
        "    for X,y in tqdm(data_loader):\n",
        "      X,y = X.to(device), y.to(device)\n",
        "      #make predictions\n",
        "      y_pred = model(X)\n",
        "\n",
        "      # accumulate the loss and acc values per batch\n",
        "      loss+= loss_fn(y_pred,y)\n",
        "      acc+= accuracy_fn(y_true = y,\n",
        "                       y_pred=y_pred.argmax(dim=1))\n",
        "    \n",
        "    loss /= len(data_loader)\n",
        "    acc /= len(data_loader)\n",
        "\n",
        "  return {\"model_name\": model.__class__.__name__,\n",
        "          \"model_loss\": loss.item(),\n",
        "          \"model_acc\": acc}\n",
        "\n",
        "# caclulate model results on the test dataset\n",
        "\n",
        "model_0_results = eval_model(model = model_0, \n",
        "                             data_loader = test_dataloader,\n",
        "                             loss_fn = loss_fn,\n",
        "                             accuracy_fn = accuracy_fn,\n",
        "                             device=device)\n",
        "\n",
        "\n",
        "\n",
        "\n",
        "model_1_results = eval_model(model=model_1,\n",
        "                             data_loader = test_dataloader,\n",
        "                             loss_fn = loss_fn,\n",
        "                             accuracy_fn = accuracy_fn,\n",
        "                             device=device)\n",
        "\n",
        "model_0_results,model_1_results"
      ],
      "metadata": {
        "colab": {
          "base_uri": "https://localhost:8080/",
          "height": 183,
          "referenced_widgets": [
            "f5e3ae5b908240469fdefc4ead0a65f5",
            "57d7ba5e6fcc42fbbfe9c6f648b38794",
            "9e2715fbc05440afb5e1b1c4b2a39ee9",
            "bff0db340a824c64aa3a567642ed5f79",
            "98df816ecc0443cbb66c9a9961cf78bf",
            "630425a5ffeb4a9db81b78058c575d79",
            "661b7ef333304811a7c0dff64a8641de",
            "7beb83c94fea4f7c88e72c2639320398",
            "cb41aeb9f4d0462396ad7a0e34115e73",
            "82793104ddc4429cafc29bcb7c920d76",
            "b95f8b0e69de470fac937843e2c70078",
            "12ea3bdb97f44ad48e1d660284e4938e",
            "71deb223e7554264aefd652bc33e3947",
            "8b51875a9dd54088895de07db4ae2f72",
            "e57fb64897c047e2b07f0c4af61d9083",
            "a457d692e7d34ee8b2bf64a0c7880236",
            "5aab86741a4d40778869c2b58b79e3e1",
            "03ef89b823514ce28b67479f66f980b2",
            "fa3f083b1d214d06a601a5ef0a2f8ce7",
            "4c45cfb9d8b441558a6774bc6d45e430",
            "715ee1efde2647d29232cd9bb2b04168",
            "119bd3a1eebd4eb19b133472ff07883f"
          ]
        },
        "id": "JumQTrP72XIx",
        "outputId": "1fba271d-a0b6-4a78-9edf-1a95ad0a7053"
      },
      "execution_count": 148,
      "outputs": [
        {
          "output_type": "display_data",
          "data": {
            "text/plain": [
              "  0%|          | 0/313 [00:00<?, ?it/s]"
            ],
            "application/vnd.jupyter.widget-view+json": {
              "version_major": 2,
              "version_minor": 0,
              "model_id": "f5e3ae5b908240469fdefc4ead0a65f5"
            }
          },
          "metadata": {}
        },
        {
          "output_type": "display_data",
          "data": {
            "text/plain": [
              "  0%|          | 0/313 [00:00<?, ?it/s]"
            ],
            "application/vnd.jupyter.widget-view+json": {
              "version_major": 2,
              "version_minor": 0,
              "model_id": "12ea3bdb97f44ad48e1d660284e4938e"
            }
          },
          "metadata": {}
        },
        {
          "output_type": "execute_result",
          "data": {
            "text/plain": [
              "({'model_name': 'FashionMNISTModelV0',\n",
              "  'model_loss': 0.5236040353775024,\n",
              "  'model_acc': 81.54952076677316},\n",
              " {'model_name': 'FashionMNISTModelV1',\n",
              "  'model_loss': 0.5303481817245483,\n",
              "  'model_acc': 81.6094249201278})"
            ]
          },
          "metadata": {},
          "execution_count": 148
        }
      ]
    },
    {
      "cell_type": "markdown",
      "source": [
        "## Create a CNN\n",
        "\n",
        "Need new layer types:\n",
        "* Convolutional layer\n",
        "* MaxPool Layer\n",
        "\n",
        "\n",
        "\n",
        "Check out https://poloclub.github.io/cnn-explainer/\n",
        "\n",
        "Popular CNN architectures:\n",
        "* LeNet\n",
        "* VGG\n",
        "* ResNet\n",
        "* AlexNet"
      ],
      "metadata": {
        "id": "_rHT8uEmFMgv"
      }
    },
    {
      "cell_type": "code",
      "source": [
        "\n",
        "\n",
        "class FashionMNISTModelV2(nn.Module):\n",
        "  \"\"\"\n",
        "  Model architecture that replicates the TinyVGG\n",
        "  model from the CNN explainer websiet\n",
        "  \"\"\"\n",
        "\n",
        "  def __init__(self,\n",
        "               input_shape: int,\n",
        "               hidden_units: int,\n",
        "               output_shape: int):\n",
        "  \n",
        "    super().__init__()\n",
        "    self.conv_block_1 = nn.Sequential(\n",
        "        nn.Conv2d(in_channels = input_shape,\n",
        "                  out_channels = hidden_units,\n",
        "                  kernel_size = 3,\n",
        "                  stride=1,\n",
        "                  padding=1),\n",
        "        nn.ReLU(),\n",
        "        nn.Conv2d(in_channels = hidden_units,\n",
        "                  out_channels = hidden_units,\n",
        "                  kernel_size = 3,\n",
        "                  stride=1,\n",
        "                  padding=1),\n",
        "        nn.ReLU(),\n",
        "        nn.MaxPool2d(kernel_size=2,\n",
        "                     stride=2)\n",
        "        \n",
        "    )\n",
        "\n",
        "    self.conv_block_2 = nn.Sequential(\n",
        "        nn.Conv2d(in_channels = hidden_units,\n",
        "                  out_channels = hidden_units,\n",
        "                  kernel_size = 3,\n",
        "                  stride=1,\n",
        "                  padding=1),\n",
        "        nn.ReLU(),\n",
        "        nn.Conv2d(in_channels = hidden_units,\n",
        "                  out_channels = hidden_units,\n",
        "                  kernel_size = 3,\n",
        "                  stride=1,\n",
        "                  padding=1),\n",
        "        nn.ReLU(),\n",
        "        nn.MaxPool2d(kernel_size=2)\n",
        "    )\n",
        "    self.classifier = nn.Sequential(\n",
        "          nn.Flatten(),\n",
        "          nn.Linear(in_features = hidden_units*7*7,      # trick for calculating this - replace zero\n",
        "                    out_features = output_shape)\n",
        "        \n",
        "    )\n",
        "  def forward(self, x):\n",
        "    x = self.conv_block_1(x)\n",
        "    #print(x.shape)\n",
        "    x = self.conv_block_2(x)\n",
        "    #print(x.shape)\n",
        "    x = self.classifier(x)\n",
        "    #print(x.shape)\n",
        "    return x\n"
      ],
      "metadata": {
        "id": "gfMcYKG-sqFU"
      },
      "execution_count": 149,
      "outputs": []
    },
    {
      "cell_type": "code",
      "source": [
        "torch.manual_seed(42)\n",
        "torch.cuda.manual_seed(42)\n",
        "model_2 = FashionMNISTModelV2(input_shape = 1,\n",
        "                              hidden_units=10,\n",
        "                              output_shape = len(class_names)).to(device)"
      ],
      "metadata": {
        "id": "V-_nfWxJLykT"
      },
      "execution_count": 150,
      "outputs": []
    },
    {
      "cell_type": "markdown",
      "source": [
        "### 7.1 Stepping through nn.conv2d\n",
        "\n",
        "see the documentation: https://pytorch.org/docs/stable/generated/torch.nn.Conv2d.html"
      ],
      "metadata": {
        "id": "_UKc1VQa6MPW"
      }
    },
    {
      "cell_type": "code",
      "source": [
        "# create some dummy data same size as our pics\n",
        "torch.manual_seed(42)\n",
        "images = torch.randn(size=(32,3,64,64))\n",
        "test_image = images[0]\n",
        "\n",
        "print(f\"Image Batch shape: {images.shape}\")\n",
        "print(f\"Single image shape: {test_image.shape}\")\n",
        "#print(test_image)"
      ],
      "metadata": {
        "colab": {
          "base_uri": "https://localhost:8080/"
        },
        "id": "K6a2INWCNROg",
        "outputId": "5b2bbe90-6589-449f-f492-5617a543ffb4"
      },
      "execution_count": 151,
      "outputs": [
        {
          "output_type": "stream",
          "name": "stdout",
          "text": [
            "Image Batch shape: torch.Size([32, 3, 64, 64])\n",
            "Single image shape: torch.Size([3, 64, 64])\n"
          ]
        }
      ]
    },
    {
      "cell_type": "code",
      "source": [
        "# now create a single conv2dlyer\n",
        "\n",
        "torch.manual_seed(42)\n",
        "torch.cuda.manual_seed(42)\n",
        "conv_layer = nn.Conv2d(in_channels=3,\n",
        "                       out_channels=10,\n",
        "                       kernel_size=(3,3),\n",
        "                       stride=1,\n",
        "                       padding=1)\n",
        "\n",
        "conv_out = conv_layer(test_image)\n",
        "print(conv_out.shape)"
      ],
      "metadata": {
        "colab": {
          "base_uri": "https://localhost:8080/"
        },
        "id": "YClPB_AW7Aju",
        "outputId": "f25f2905-ae7a-4050-a5aa-5b77f9580ecf"
      },
      "execution_count": 152,
      "outputs": [
        {
          "output_type": "stream",
          "name": "stdout",
          "text": [
            "torch.Size([10, 64, 64])\n"
          ]
        }
      ]
    },
    {
      "cell_type": "markdown",
      "source": [
        "### 7.3 Stepping through a nn.MaxPool2d()"
      ],
      "metadata": {
        "id": "5-Wn7vLQALQs"
      }
    },
    {
      "cell_type": "code",
      "source": [
        "# use the test image. print out shape without the unsqueezed dimension (that I do not need)\n",
        "\n",
        "print(f\"Test image shape: {test_image.shape}\")\n",
        "print(f\"Test image shape unsqueezed: {test_image.unsqueeze(0).shape}\")\n",
        "\n",
        "max_pool_layer = nn.MaxPool2d(kernel_size=4)\n",
        "\n",
        "# pass data through convlayer\n",
        "test_image_conv = conv_layer(test_image)\n",
        "print(f\"shape after conv layer: {test_image_conv.shape}\")\n",
        "\n",
        "# pass resulting data through maxpool\n",
        "test_image_conv_maxpool = max_pool_layer(test_image_conv)\n",
        "print(f\"shape after conv and maxpool layer: {test_image_conv_maxpool.shape}\")"
      ],
      "metadata": {
        "colab": {
          "base_uri": "https://localhost:8080/"
        },
        "id": "0iyaqAo38crz",
        "outputId": "26bfeddf-ce05-4d47-98ab-f202c20d3feb"
      },
      "execution_count": 153,
      "outputs": [
        {
          "output_type": "stream",
          "name": "stdout",
          "text": [
            "Test image shape: torch.Size([3, 64, 64])\n",
            "Test image shape unsqueezed: torch.Size([1, 3, 64, 64])\n",
            "shape after conv layer: torch.Size([10, 64, 64])\n",
            "shape after conv and maxpool layer: torch.Size([10, 16, 16])\n"
          ]
        }
      ]
    },
    {
      "cell_type": "code",
      "source": [
        "# now try with small image\n",
        "torch.manual_seed(42)\n",
        "random_tensor = torch.randn(size=(1,1,2,2))\n",
        "\n",
        "\n",
        "print(f\"Image Batch shape: {images.shape}\")\n"
      ],
      "metadata": {
        "colab": {
          "base_uri": "https://localhost:8080/"
        },
        "id": "KvfwywAzAdiN",
        "outputId": "7964b921-b266-42ac-ccfb-83d1ad054454"
      },
      "execution_count": 154,
      "outputs": [
        {
          "output_type": "stream",
          "name": "stdout",
          "text": [
            "Image Batch shape: torch.Size([32, 3, 64, 64])\n"
          ]
        }
      ]
    },
    {
      "cell_type": "code",
      "source": [
        "max_pool_layer = nn.MaxPool2d(kernel_size=2)\n",
        "max_pool_tensor = max_pool_layer(random_tensor)\n",
        "\n",
        "print(f\"Random Tensor: {random_tensor}\")\n",
        "print(f\"Random Tensor shape: {random_tensor.shape}\")\n",
        "\n",
        "print(f\"MaxPool Tensor: {max_pool_tensor}\")\n",
        "print(f\"Random Tensor shape: {max_pool_tensor.shape}\")"
      ],
      "metadata": {
        "colab": {
          "base_uri": "https://localhost:8080/"
        },
        "id": "uefkHOTDC4Sn",
        "outputId": "f0c33924-3da9-42a5-e2cd-677340da23ab"
      },
      "execution_count": 155,
      "outputs": [
        {
          "output_type": "stream",
          "name": "stdout",
          "text": [
            "Random Tensor: tensor([[[[0.3367, 0.1288],\n",
            "          [0.2345, 0.2303]]]])\n",
            "Random Tensor shape: torch.Size([1, 1, 2, 2])\n",
            "MaxPool Tensor: tensor([[[[0.3367]]]])\n",
            "Random Tensor shape: torch.Size([1, 1, 1, 1])\n"
          ]
        }
      ]
    },
    {
      "cell_type": "markdown",
      "source": [
        "### 7.4 Dummy tensor through the model"
      ],
      "metadata": {
        "id": "JwIzp9_LD8-F"
      }
    },
    {
      "cell_type": "code",
      "source": [
        "# \n",
        "rand_image_tensor = torch.randn(size=(1,28,28))"
      ],
      "metadata": {
        "id": "opfY9OOcDOcr"
      },
      "execution_count": 156,
      "outputs": []
    },
    {
      "cell_type": "markdown",
      "source": [
        "#### 7.4.1 Now adjust the output dimension!!"
      ],
      "metadata": {
        "id": "NMKsYMmbFp_O"
      }
    },
    {
      "cell_type": "code",
      "source": [
        "\n",
        "\n",
        "\n",
        "model_2(rand_image_tensor.unsqueeze(0))"
      ],
      "metadata": {
        "colab": {
          "base_uri": "https://localhost:8080/"
        },
        "id": "wKwtw5T7EZGR",
        "outputId": "325c5479-08fc-4a7c-b5ab-570f69b9aed4"
      },
      "execution_count": 157,
      "outputs": [
        {
          "output_type": "execute_result",
          "data": {
            "text/plain": [
              "tensor([[ 0.0424, -0.0839,  0.0839, -0.0463,  0.0053,  0.0437,  0.0025,  0.0108,\n",
              "         -0.0158, -0.0177]], grad_fn=<AddmmBackward0>)"
            ]
          },
          "metadata": {},
          "execution_count": 157
        }
      ]
    },
    {
      "cell_type": "code",
      "source": [
        "# play:\n",
        "plt.imshow(model_2(image.unsqueeze(0)).detach().numpy())"
      ],
      "metadata": {
        "colab": {
          "base_uri": "https://localhost:8080/",
          "height": 102
        },
        "id": "Wn0wrN3OEfGp",
        "outputId": "b61ba9ae-3498-42aa-a84a-bd48d6d5e9c5"
      },
      "execution_count": 158,
      "outputs": [
        {
          "output_type": "execute_result",
          "data": {
            "text/plain": [
              "<matplotlib.image.AxesImage at 0x7fbef8b23a90>"
            ]
          },
          "metadata": {},
          "execution_count": 158
        },
        {
          "output_type": "display_data",
          "data": {
            "text/plain": [
              "<Figure size 432x288 with 1 Axes>"
            ],
            "image/png": "[encoded data removed]"
          },
          "metadata": {
            "needs_background": "light"
          }
        }
      ]
    },
    {
      "cell_type": "markdown",
      "source": [
        "## 8. Training the CNN"
      ],
      "metadata": {
        "id": "420LnueLHR2u"
      }
    },
    {
      "cell_type": "code",
      "source": [
        "torch.manual_seed(42)\n",
        "model_2 = FashionMNISTModelV2(input_shape = 1,\n",
        "                              hidden_units=10,\n",
        "                              output_shape = len(class_names)).to(device)\n",
        "loss_fn = nn.CrossEntropyLoss()\n",
        "optimizer = torch.optim.SGD(params = model_2.parameters(),\n",
        "                            lr = 0.01)"
      ],
      "metadata": {
        "id": "LcBq-Vv7G_z7"
      },
      "execution_count": 159,
      "outputs": []
    },
    {
      "cell_type": "code",
      "source": [
        "epochs = 3\n",
        "\n",
        "for epoch in np.arange(epochs):\n",
        "  model_2.train()\n",
        "\n",
        "  model_2, train_loss, train_acc = train_step(model = model_2, \n",
        "                                  dataloader = train_dataloader,\n",
        "                                  loss_fn = loss_fn,\n",
        "                                  optimizer=optimizer,\n",
        "                                  accuracy_fn = accuracy_fn,\n",
        "                                  device = device)\n",
        "  # TESTING LOOP\n",
        "  model_2, test_loss, test_acc = test_step(model = model_2, \n",
        "                                  dataloader = test_dataloader,\n",
        "                                  loss_fn = loss_fn,\n",
        "                                  optimizer=optimizer,\n",
        "                                  accuracy_fn = accuracy_fn,\n",
        "                                  device = device)\n",
        "  \n",
        "  print(f\"Epoch: {epoch} \\n Train loss {train_loss:.4f} | Train accuracy: {train_acc:.4f} \\n Test loss {test_loss:.4f} | Test accuracy {test_acc:.4f}\")\n",
        "\n",
        "  train_time_end = timer()\n",
        "  total_train_time_model_2 = print_train_time(train_time_start,\n",
        "                                            train_time_end,\n",
        "                                            device = str(next(model_1.parameters()).device))\n"
      ],
      "metadata": {
        "colab": {
          "base_uri": "https://localhost:8080/"
        },
        "id": "VSxnPPZJHhhb",
        "outputId": "25315b1d-e6ac-4ae2-f40b-3234f605374c"
      },
      "execution_count": 160,
      "outputs": [
        {
          "output_type": "stream",
          "name": "stdout",
          "text": [
            "Current sample: 0/60000\n",
            "Current sample: 12800/60000\n",
            "Current sample: 25600/60000\n",
            "Current sample: 38400/60000\n",
            "Current sample: 51200/60000\n",
            "Epoch: 0 \n",
            " Train loss 1.0356 | Train accuracy: 62.3217 \n",
            " Test loss 0.6447 | Test accuracy 77.0966\n",
            "Total time on cpu: 101.587 seconds\n",
            "Current sample: 0/60000\n",
            "Current sample: 12800/60000\n",
            "Current sample: 25600/60000\n",
            "Current sample: 38400/60000\n",
            "Current sample: 51200/60000\n",
            "Epoch: 1 \n",
            " Train loss 0.5519 | Train accuracy: 79.9783 \n",
            " Test loss 0.5257 | Test accuracy 80.5012\n",
            "Total time on cpu: 157.216 seconds\n",
            "Current sample: 0/60000\n",
            "Current sample: 12800/60000\n",
            "Current sample: 25600/60000\n",
            "Current sample: 38400/60000\n",
            "Current sample: 51200/60000\n",
            "Epoch: 2 \n",
            " Train loss 0.4558 | Train accuracy: 83.5333 \n",
            " Test loss 0.4541 | Test accuracy 83.7859\n",
            "Total time on cpu: 207.465 seconds\n"
          ]
        }
      ]
    },
    {
      "cell_type": "code",
      "source": [
        "model_2_results = eval_model(model = model_2,\n",
        "                            data_loader = test_dataloader,\n",
        "                            loss_fn = loss_fn,\n",
        "                            accuracy_fn = accuracy_fn,\n",
        "                            device = device)\n",
        "\n",
        "\n",
        "model_2_results"
      ],
      "metadata": {
        "colab": {
          "base_uri": "https://localhost:8080/",
          "height": 100,
          "referenced_widgets": [
            "345f19bb090045378c07814df7b237d9",
            "9d4d2baf91324e8993b7be1f3d438cfd",
            "766ecb8f864f45dea598fd86ad614620",
            "5d07302c5e8c42c3aaa4fe4e7a52c2c2",
            "424c97e8835246b98d033fffdfa9b873",
            "7ca121138380474499cfd36e203e3b8c",
            "5d9d3d093b4c4374ab44a06acd2c0272",
            "6b67e7c1e99c45bfabb6e5a04c18e72e",
            "98f0759cbe0a407fb1171c41b8138596",
            "fc037a52cb724382beea75f6f49f706f",
            "b7e36f9cfb9f4324a3ebfc1131fa8230"
          ]
        },
        "id": "-zwTkCuqIPwl",
        "outputId": "252336c7-247e-4e15-c3b6-235192bad5d0"
      },
      "execution_count": 161,
      "outputs": [
        {
          "output_type": "display_data",
          "data": {
            "text/plain": [
              "  0%|          | 0/313 [00:00<?, ?it/s]"
            ],
            "application/vnd.jupyter.widget-view+json": {
              "version_major": 2,
              "version_minor": 0,
              "model_id": "345f19bb090045378c07814df7b237d9"
            }
          },
          "metadata": {}
        },
        {
          "output_type": "execute_result",
          "data": {
            "text/plain": [
              "{'model_name': 'FashionMNISTModelV2',\n",
              " 'model_loss': 0.4540935158729553,\n",
              " 'model_acc': 83.78594249201278}"
            ]
          },
          "metadata": {},
          "execution_count": 161
        }
      ]
    },
    {
      "cell_type": "markdown",
      "source": [
        "### 8.2 Comparing results"
      ],
      "metadata": {
        "id": "irKHCZ0lL9II"
      }
    },
    {
      "cell_type": "code",
      "source": [
        "import pandas as pd \n",
        "compare_results = pd.DataFrame([model_0_results, model_1_results, model_2_results])\n",
        "compare_results[\"training_time\"] = [total_train_time_model_0, total_train_time_model_1, total_train_time_model_2]\n",
        "compare_results.head()"
      ],
      "metadata": {
        "colab": {
          "base_uri": "https://localhost:8080/",
          "height": 142
        },
        "id": "xzfBEuDFLhOE",
        "outputId": "40d8c20e-7413-4f3e-a206-af0f9654dddf"
      },
      "execution_count": 162,
      "outputs": [
        {
          "output_type": "execute_result",
          "data": {
            "text/plain": [
              "            model_name  model_loss  model_acc  training_time\n",
              "0  FashionMNISTModelV0    0.523604  81.549521      39.115976\n",
              "1  FashionMNISTModelV1    0.530348  81.609425      32.989069\n",
              "2  FashionMNISTModelV2    0.454094  83.785942     207.464866"
            ],
            "text/html": [
              "\n",
              "  <div id=\"df-15040205-fcdf-4706-ae54-e2e69d03d2fa\">\n",
              "    <div class=\"colab-df-container\">\n",
              "      <div>\n",
              "<style scoped>\n",
              "    .dataframe tbody tr th:only-of-type {\n",
              "        vertical-align: middle;\n",
              "    }\n",
              "\n",
              "    .dataframe tbody tr th {\n",
              "        vertical-align: top;\n",
              "    }\n",
              "\n",
              "    .dataframe thead th {\n",
              "        text-align: right;\n",
              "    }\n",
              "</style>\n",
              "<table border=\"1\" class=\"dataframe\">\n",
              "  <thead>\n",
              "    <tr style=\"text-align: right;\">\n",
              "      <th></th>\n",
              "      <th>model_name</th>\n",
              "      <th>model_loss</th>\n",
              "      <th>model_acc</th>\n",
              "      <th>training_time</th>\n",
              "    </tr>\n",
              "  </thead>\n",
              "  <tbody>\n",
              "    <tr>\n",
              "      <th>0</th>\n",
              "      <td>FashionMNISTModelV0</td>\n",
              "      <td>0.523604</td>\n",
              "      <td>81.549521</td>\n",
              "      <td>39.115976</td>\n",
              "    </tr>\n",
              "    <tr>\n",
              "      <th>1</th>\n",
              "      <td>FashionMNISTModelV1</td>\n",
              "      <td>0.530348</td>\n",
              "      <td>81.609425</td>\n",
              "      <td>32.989069</td>\n",
              "    </tr>\n",
              "    <tr>\n",
              "      <th>2</th>\n",
              "      <td>FashionMNISTModelV2</td>\n",
              "      <td>0.454094</td>\n",
              "      <td>83.785942</td>\n",
              "      <td>207.464866</td>\n",
              "    </tr>\n",
              "  </tbody>\n",
              "</table>\n",
              "</div>\n",
              "      <button class=\"colab-df-convert\" onclick=\"convertToInteractive('df-15040205-fcdf-4706-ae54-e2e69d03d2fa')\"\n",
              "              title=\"Convert this dataframe to an interactive table.\"\n",
              "              style=\"display:none;\">\n",
              "        \n",
              "  <svg xmlns=\"http://www.w3.org/2000/svg\" height=\"24px\"viewBox=\"0 0 24 24\"\n",
              "       width=\"24px\">\n",
              "    <path d=\"M0 0h24v24H0V0z\" fill=\"none\"/>\n",
              "    <path d=\"M18.56 5.44l.94 2.06.94-2.06 2.06-.94-2.06-.94-.94-2.06-.94 2.06-2.06.94zm-11 1L8.5 8.5l.94-2.06 2.06-.94-2.06-.94L8.5 2.5l-.94 2.06-2.06.94zm10 10l.94 2.06.94-2.06 2.06-.94-2.06-.94-.94-2.06-.94 2.06-2.06.94z\"/><path d=\"M17.41 7.96l-1.37-1.37c-.4-.4-.92-.59-1.43-.59-.52 0-1.04.2-1.43.59L10.3 9.45l-7.72 7.72c-.78.78-.78 2.05 0 2.83L4 21.41c.39.39.9.59 1.41.59.51 0 1.02-.2 1.41-.59l7.78-7.78 2.81-2.81c.8-.78.8-2.07 0-2.86zM5.41 20L4 18.59l7.72-7.72 1.47 1.35L5.41 20z\"/>\n",
              "  </svg>\n",
              "      </button>\n",
              "      \n",
              "  <style>\n",
              "    .colab-df-container {\n",
              "      display:flex;\n",
              "      flex-wrap:wrap;\n",
              "      gap: 12px;\n",
              "    }\n",
              "\n",
              "    .colab-df-convert {\n",
              "      background-color: #E8F0FE;\n",
              "      border: none;\n",
              "      border-radius: 50%;\n",
              "      cursor: pointer;\n",
              "      display: none;\n",
              "      fill: #1967D2;\n",
              "      height: 32px;\n",
              "      padding: 0 0 0 0;\n",
              "      width: 32px;\n",
              "    }\n",
              "\n",
              "    .colab-df-convert:hover {\n",
              "      background-color: #E2EBFA;\n",
              "      box-shadow: 0px 1px 2px rgba(60, 64, 67, 0.3), 0px 1px 3px 1px rgba(60, 64, 67, 0.15);\n",
              "      fill: #174EA6;\n",
              "    }\n",
              "\n",
              "    [theme=dark] .colab-df-convert {\n",
              "      background-color: #3B4455;\n",
              "      fill: #D2E3FC;\n",
              "    }\n",
              "\n",
              "    [theme=dark] .colab-df-convert:hover {\n",
              "      background-color: #434B5C;\n",
              "      box-shadow: 0px 1px 3px 1px rgba(0, 0, 0, 0.15);\n",
              "      filter: drop-shadow(0px 1px 2px rgba(0, 0, 0, 0.3));\n",
              "      fill: #FFFFFF;\n",
              "    }\n",
              "  </style>\n",
              "\n",
              "      <script>\n",
              "        const buttonEl =\n",
              "          document.querySelector('#df-15040205-fcdf-4706-ae54-e2e69d03d2fa button.colab-df-convert');\n",
              "        buttonEl.style.display =\n",
              "          google.colab.kernel.accessAllowed ? 'block' : 'none';\n",
              "\n",
              "        async function convertToInteractive(key) {\n",
              "          const element = document.querySelector('#df-15040205-fcdf-4706-ae54-e2e69d03d2fa');\n",
              "          const dataTable =\n",
              "            await google.colab.kernel.invokeFunction('convertToInteractive',\n",
              "                                                     [key], {});\n",
              "          if (!dataTable) return;\n",
              "\n",
              "          const docLinkHtml = 'Like what you see? Visit the ' +\n",
              "            '<a target=\"_blank\" href=https://colab.research.google.com/notebooks/data_table.ipynb>data table notebook</a>'\n",
              "            + ' to learn more about interactive tables.';\n",
              "          element.innerHTML = '';\n",
              "          dataTable['output_type'] = 'display_data';\n",
              "          await google.colab.output.renderOutput(dataTable, element);\n",
              "          const docLink = document.createElement('div');\n",
              "          docLink.innerHTML = docLinkHtml;\n",
              "          element.appendChild(docLink);\n",
              "        }\n",
              "      </script>\n",
              "    </div>\n",
              "  </div>\n",
              "  "
            ]
          },
          "metadata": {},
          "execution_count": 162
        }
      ]
    },
    {
      "cell_type": "code",
      "source": [
        "# visualize results (tradeoff between accuracy adn compute time)\n",
        "compare_results.set_index(\"model_name\")[\"model_acc\"].plot(kind=\"barh\")\n",
        "plt.xlabel(\"accuracy (%)\")\n",
        "plt.ylabel(\"model\")"
      ],
      "metadata": {
        "colab": {
          "base_uri": "https://localhost:8080/",
          "height": 296
        },
        "id": "eCOG7CGTMKS_",
        "outputId": "3362edae-6f86-4cf4-e63b-6fe38e7bad5c"
      },
      "execution_count": 165,
      "outputs": [
        {
          "output_type": "execute_result",
          "data": {
            "text/plain": [
              "Text(0, 0.5, 'model')"
            ]
          },
          "metadata": {},
          "execution_count": 165
        },
        {
          "output_type": "display_data",
          "data": {
            "text/plain": [
              "<Figure size 432x288 with 1 Axes>"
            ],
            "image/png": "[encoded data removed]"
          },
          "metadata": {
            "needs_background": "light"
          }
        }
      ]
    },
    {
      "cell_type": "code",
      "source": [
        "# make a visual prediction on random sample from the test dataset\n",
        "\n",
        "image = "
      ],
      "metadata": {
        "id": "PGz2jZ8xM6b2"
      },
      "execution_count": 163,
      "outputs": []
    }
  ]
}