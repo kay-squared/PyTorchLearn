{
  "nbformat": 4,
  "nbformat_minor": 0,
  "metadata": {
    "colab": {
      "provenance": [],
      "authorship_tag": "ABX9TyNYR2OVY7cKrvoSuTKUdS35",
      "include_colab_link": true
    },
    "kernelspec": {
      "name": "python3",
      "display_name": "Python 3"
    },
    "language_info": {
      "name": "python"
    }
  },
  "cells": [
    {
      "cell_type": "markdown",
      "metadata": {
        "id": "view-in-github",
        "colab_type": "text"
      },
      "source": [
        "<a href=\"https://colab.research.google.com/github/kay-squared/PyTorchLearn/blob/main/03_PyTorch_NN_ComputerVision_Video.ipynb\" target=\"_parent\"><img src=\"https://colab.research.google.com/assets/colab-badge.svg\" alt=\"Open In Colab\"/></a>"
      ]
    },
    {
      "cell_type": "markdown",
      "source": [
        "\n",
        "# 03. Computer Vision with PyTorch\n",
        "\n",
        "Resources:\n",
        "\n",
        "https://www.learnpytorch.io/03_pytorch_computer_vision/\n",
        "\n",
        "https://github.com/mrdbourke/pytorch-deep-learning/blob/main/03_pytorch_computer_vision.ipynb\n",
        "\n",
        "Questions in https://github.com/mrdbourke/pytorch-deep-learning/discussions\n",
        "\n",
        "Computer vision can be used for \n",
        "* binary classification\n",
        "* multiclass classification (e.g. nutrify)\n",
        "* object detection\n",
        "* segmentation (apple fotos: https://machinelearning.apple.com/research/panoptic-segmentation or tesla computer vision, e.g. https://www.youtube.com/watch?v=Vz6yw7iGzZM)\n",
        "* ...\n",
        "\n",
        "What we will cov er\n",
        "* get a dataset (torchvision.datasets)\n",
        "* architecture of a CNN\n",
        "* end-to-end multiclass image classification\n",
        "\n"
      ],
      "metadata": {
        "id": "WNaNu9pdNDrz"
      }
    },
    {
      "cell_type": "markdown",
      "source": [
        "## Input Data\n",
        "\n",
        "Typical: 24-bit rgb images (3 times 8-bit)\n",
        "\n",
        "```\n",
        "[[red1,red2,...,redn],[g1,g2,...,],[b1, b2, ...,bn]]\n",
        "```\n",
        "**One Image** is often represented by the input tensor of shape **NHWC**\n",
        "\n",
        "```\n",
        "Shape_input = [batch_size, width, height, color_channels]\n",
        "```\n",
        "However, the pytorch library currently expects a different representation: **NCHW** which puts the color channels before width and height !!\n",
        "```\n",
        "Shape_input = [batch_size, color_channels, width, height]\n",
        "```\n",
        "\n",
        "\n",
        "\n",
        "## Output Data\n",
        "\n",
        "```\n",
        "[[prob_pizza_1,prob_sushi_1,...,prob_food_1],[prob_pizza_2,prob_sushi_2,...,prob_food_2],[prob_pizza_m,prob_sushi_m,...,prob_food_m]]\n",
        "```\n",
        "**One Image** is represented by a tensor of shape\n",
        "\n",
        "\n",
        "```\n",
        "Shape=[number of classes]\n",
        "```\n",
        "\n",
        "\n"
      ],
      "metadata": {
        "id": "M_qF0kWgbLsE"
      }
    },
    {
      "cell_type": "markdown",
      "source": [
        "## CNN Layers\n",
        "\n",
        "$out(N_i, C_{out_j}) = bias(C_{out_j}) + \\sum_{k=1}^{C_{in}-1} weight(C_{out,k} * input(N_i,j))$\n",
        "\n",
        "where $C_{out_j}$ and $C_{in_j}$ are the number of nodes in the input and output layers and $N_i$ seems to refer to a smaple in a batch of size 1. $*$ is the convolution operator.\n",
        "\n",
        "We will used \n",
        "* nn.Conv2d\n",
        "* nn.ReLU\n",
        "* nn.MaxPool2d\n",
        "* nn.Linear as output shape, with an activation sigmoid or softmax"
      ],
      "metadata": {
        "id": "BgOtq83QfClS"
      }
    },
    {
      "cell_type": "markdown",
      "source": [
        "## 0. Computer vision libraries in pytorch\n",
        "\n",
        "* torchvision\n",
        "* torchvision.datasets\n",
        "* torchvision.models\n",
        "* torchvision.transforms (turn image data into numbers, augmentation, ...)\n",
        "* torch.utils.data.Dataset - base dataset clsas for Pytorch\n",
        "* torch.utils.data.Dataloader - creates a python iterable over a dataset "
      ],
      "metadata": {
        "id": "mUELtOhfh2MF"
      }
    },
    {
      "cell_type": "code",
      "execution_count": 32,
      "metadata": {
        "id": "b5xoWWhhNAh3",
        "colab": {
          "base_uri": "https://localhost:8080/"
        },
        "outputId": "03a5604a-c451-4c22-fd78-71326d60a5d2"
      },
      "outputs": [
        {
          "output_type": "stream",
          "name": "stdout",
          "text": [
            "1.13.1+cu116\n",
            "0.14.1+cu116\n"
          ]
        }
      ],
      "source": [
        "import torch\n",
        "from torch import nn\n",
        "\n",
        "import torchvision\n",
        "from torchvision import datasets\n",
        "from torchvision import transforms\n",
        "from torchvision.transforms import ToTensor\n",
        "\n",
        "import matplotlib.pyplot as plt\n",
        "import numpy as np\n",
        "\n",
        "print(torch.__version__)\n",
        "print(torchvision.__version__)\n"
      ]
    },
    {
      "cell_type": "markdown",
      "source": [],
      "metadata": {
        "id": "CUNsWEsBmHCi"
      }
    },
    {
      "cell_type": "markdown",
      "source": [
        "## 1. Get a dataset\n",
        ". \n",
        "We are using Fashion MNIST. Could be downloaded from github, but we use built in stuff from torchvision (in turn: comes from imagenet). Check out https://pytorch.org/vision/stable/datasets.html#built-in-datasets and https://pytorch.org/vision/stable/generated/torchvision.datasets.FashionMNIST.html#torchvision.datasets.FashionMNIST\n",
        "\n",
        "\n"
      ],
      "metadata": {
        "id": "n_ucdB7HjGFt"
      }
    },
    {
      "cell_type": "code",
      "source": [
        "# Setup Training data\n",
        "train_data = datasets.FashionMNIST(\n",
        "    root = 'data', # where to download data to\n",
        "    train = True, # whether we want the training or the testing dataset\n",
        "    download = True, \n",
        "    transform = ToTensor(),  # or torchvision.transforms.ToTensor()\n",
        "    target_transform = None  # how do we want to transform the labels\n",
        "\n",
        ")\n",
        "\n",
        "test_data = datasets.FashionMNIST(\n",
        "    root = 'data', # where to download data to\n",
        "    train = False, # whether we want the training or the testing dataset\n",
        "    download = True, \n",
        "    transform = ToTensor(),  # or torchvision.transforms.ToTensor()\n",
        "    target_transform = None  # how do we want to transform the labels\n",
        "\n",
        ")\n",
        "len(train_data),len(test_data)"
      ],
      "metadata": {
        "colab": {
          "base_uri": "https://localhost:8080/"
        },
        "id": "HskW_vh5i4Do",
        "outputId": "4ffd85c8-1210-43bf-e5e3-edc3a4452ae1"
      },
      "execution_count": 33,
      "outputs": [
        {
          "output_type": "execute_result",
          "data": {
            "text/plain": [
              "(60000, 10000)"
            ]
          },
          "metadata": {},
          "execution_count": 33
        }
      ]
    },
    {
      "cell_type": "markdown",
      "source": [
        "### 1.1 Check input and output shapes"
      ],
      "metadata": {
        "id": "zFtKKp3wobZH"
      }
    },
    {
      "cell_type": "code",
      "source": [
        "# Image as numbers\n",
        "image, label = train_data[0]\n",
        "class_names = train_data.classes\n",
        "print(f'Image size: {image.size()}, Label: {label}')\n",
        "print(f'Image Labels: {class_names}')\n"
      ],
      "metadata": {
        "colab": {
          "base_uri": "https://localhost:8080/"
        },
        "id": "CrmjPcqOmehN",
        "outputId": "d5ea34ae-44dc-464f-d244-21174a28cd05"
      },
      "execution_count": 34,
      "outputs": [
        {
          "output_type": "stream",
          "name": "stdout",
          "text": [
            "Image size: torch.Size([1, 28, 28]), Label: 9\n",
            "Image Labels: ['T-shirt/top', 'Trouser', 'Pullover', 'Dress', 'Coat', 'Sandal', 'Shirt', 'Sneaker', 'Bag', 'Ankle boot']\n"
          ]
        }
      ]
    },
    {
      "cell_type": "markdown",
      "source": [
        "### 1.2 Visualize data"
      ],
      "metadata": {
        "id": "tb7SfpAcog4u"
      }
    },
    {
      "cell_type": "code",
      "source": [
        "# Image as image\n",
        "image, label = train_data[0]\n",
        "# not working:\n",
        "# plt.imshow(image)\n",
        "# because it is NCWH\n",
        "\n",
        "\n",
        "plt.imshow(image.squeeze(),cmap='gray')\n",
        "plt.title(class_names[label])\n",
        "\n",
        "\n"
      ],
      "metadata": {
        "colab": {
          "base_uri": "https://localhost:8080/",
          "height": 298
        },
        "id": "zGK9eEZimj4n",
        "outputId": "32bd6bf9-2261-47e0-ef1f-56595b03ae22"
      },
      "execution_count": 39,
      "outputs": [
        {
          "output_type": "execute_result",
          "data": {
            "text/plain": [
              "Text(0.5, 1.0, 'Ankle boot')"
            ]
          },
          "metadata": {},
          "execution_count": 39
        },
        {
          "output_type": "display_data",
          "data": {
            "text/plain": [
              "<Figure size 432x288 with 1 Axes>"
            ],
            "image/png": "[encoded data removed]"
          },
          "metadata": {
            "needs_background": "light"
          }
        }
      ]
    },
    {
      "cell_type": "code",
      "source": [
        "# more images (check out random samples!)\n",
        "#torch.manual_seed(42)\n",
        "fig = plt.figure(figsize=(10,10))\n",
        "rows=4\n",
        "cols=4\n",
        "for i in range(1,rows*cols+1):\n",
        "  random_idx = torch.randint(0,len(train_data),size=[1]).item()\n",
        "  img, label = train_data[random_idx]\n",
        "  fig.add_subplot(rows,cols,i)\n",
        "  plt.imshow(img.squeeze(),cmap='gray')\n",
        "  plt.title(class_names[label])"
      ],
      "metadata": {
        "colab": {
          "base_uri": "https://localhost:8080/",
          "height": 608
        },
        "id": "PgvDIeienudi",
        "outputId": "e028be9a-e065-4957-ab21-453ca98a4c2a"
      },
      "execution_count": 47,
      "outputs": [
        {
          "output_type": "display_data",
          "data": {
            "text/plain": [
              "<Figure size 720x720 with 16 Axes>"
            ],
            "image/png": "[encoded data removed]"
          },
          "metadata": {
            "needs_background": "light"
          }
        }
      ]
    },
    {
      "cell_type": "code",
      "source": [],
      "metadata": {
        "colab": {
          "base_uri": "https://localhost:8080/"
        },
        "id": "MS76UPH9qAX3",
        "outputId": "d778dfae-77a5-4f0a-ab7e-d58d451b336f"
      },
      "execution_count": 41,
      "outputs": [
        {
          "output_type": "execute_result",
          "data": {
            "text/plain": [
              "tensor([19812])"
            ]
          },
          "metadata": {},
          "execution_count": 41
        }
      ]
    },
    {
      "cell_type": "code",
      "source": [],
      "metadata": {
        "id": "Im6i0FH2qA1n"
      },
      "execution_count": null,
      "outputs": []
    }
  ]
}