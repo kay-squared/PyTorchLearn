{
  "nbformat": 4,
  "nbformat_minor": 0,
  "metadata": {
    "colab": {
      "provenance": [],
      "authorship_tag": "ABX9TyOsez6vfxGTcReuHNYtIAyz",
      "include_colab_link": true
    },
    "kernelspec": {
      "name": "python3",
      "display_name": "Python 3"
    },
    "language_info": {
      "name": "python"
    },
    "accelerator": "GPU",
    "gpuClass": "standard"
  },
  "cells": [
    {
      "cell_type": "markdown",
      "metadata": {
        "id": "view-in-github",
        "colab_type": "text"
      },
      "source": [
        "<a href=\"https://colab.research.google.com/github/kay-squared/PyTorchLearn/blob/main/01_PyTorch_Workflow_runtimeAgnostic_video.ipynb\" target=\"_parent\"><img src=\"https://colab.research.google.com/assets/colab-badge.svg\" alt=\"Open In Colab\"/></a>"
      ]
    },
    {
      "cell_type": "code",
      "execution_count": 25,
      "metadata": {
        "id": "W1FMn-KUuvFp"
      },
      "outputs": [],
      "source": []
    },
    {
      "cell_type": "markdown",
      "metadata": {
        "id": "DZ0dytTbI6Oi"
      },
      "source": [
        "### 5.1 import stuff"
      ]
    },
    {
      "cell_type": "code",
      "execution_count": 26,
      "metadata": {
        "colab": {
          "base_uri": "https://localhost:8080/",
          "height": 37
        },
        "id": "MIqnavz-ITWy",
        "outputId": "c763e71e-8057-4895-cf06-5323e2bd51f7"
      },
      "outputs": [
        {
          "output_type": "execute_result",
          "data": {
            "text/plain": [
              "'1.13.0+cu116'"
            ],
            "application/vnd.google.colaboratory.intrinsic+json": {
              "type": "string"
            }
          },
          "metadata": {},
          "execution_count": 26
        }
      ],
      "source": [
        "import torch\n",
        "from torch import nn\n",
        "import matplotlib.pyplot as plt\n",
        "torch.__version__"
      ]
    },
    {
      "cell_type": "markdown",
      "metadata": {
        "id": "KNgX6HDiI9vF"
      },
      "source": [
        "### 5.2 Device agnostic code"
      ]
    },
    {
      "cell_type": "code",
      "execution_count": 27,
      "metadata": {
        "id": "IezDnhBpI0e-",
        "colab": {
          "base_uri": "https://localhost:8080/"
        },
        "outputId": "a364dec3-37c1-4817-fae0-5fe462b3a819"
      },
      "outputs": [
        {
          "output_type": "stream",
          "name": "stdout",
          "text": [
            "cuda\n"
          ]
        }
      ],
      "source": [
        "device = \"cuda\" if torch.cuda.is_available() else \"cpu\"\n",
        "print(device)\n",
        "#!nvidia-smi"
      ]
    },
    {
      "cell_type": "markdown",
      "metadata": {
        "id": "67xob3DRYacD"
      },
      "source": [
        "### 5.3 Data\n"
      ]
    },
    {
      "cell_type": "code",
      "execution_count": 28,
      "metadata": {
        "id": "-q_C5FdlJHYw"
      },
      "outputs": [],
      "source": [
        "predictions=[]\n",
        "X=[]\n",
        "y=[]\n",
        "X_train=[]\n",
        "X_test=[]\n",
        "y_train=[]\n",
        "y_test=[]\n",
        "\n",
        "weight = 0.2\n",
        "bias = 0.1\n",
        "\n",
        "start =-1\n",
        "end=1\n",
        "step=0.02\n",
        "\n",
        "X = torch.arange(start,end+step,step).unsqueeze(dim=1)\n",
        "y = weight * X + bias\n",
        "\n",
        "train_split = int(0.8*len(X))\n",
        "X_train, y_train = X[:train_split],y[:train_split]\n",
        "X_test, y_test= X[train_split:],y[train_split:]\n",
        "\n",
        "#plot_predictions(X_train,y_train,X_test,y_test)"
      ]
    },
    {
      "cell_type": "code",
      "source": [
        "def plot_predictions(train_data=X_train,\n",
        "                     train_labels=y_train,\n",
        "                     test_data=X_test,\n",
        "                     test_labels=y_test,\n",
        "                     predictions=None):\n",
        "  \"\"\"\n",
        "  Plots training data and test data and compares predictions\n",
        "  \"\"\"\n",
        "  plt.figure(figsize=(10,7))\n",
        "  plt.scatter(train_data,train_labels,c=\"b\",s=4, label=\"Training data\")\n",
        "  plt.scatter(test_data,test_labels,c=\"orange\",s=4, label=\"Test data\")\n",
        "\n",
        "  if predictions is not None:       # for the test data!\n",
        "    plt.scatter(test_data,predictions,c=\"r\",s=4,label=\"Predictions\")\n",
        "  \n",
        "  plt.legend(prop={\"size\":14})\n",
        "\n",
        "\n",
        "def plot_learning_curve(epoch_count, loss_train_list, loss_test_list):\n",
        "  plt.figure(figsize=(10,7))\n",
        "  plt.plot(epoch_count,loss_train_list,c=\"b\", label=\"Training loss\")\n",
        "  plt.plot(epoch_count,loss_test_list,c=\"orange\", label=\"Test loss\")\n",
        "  plt.legend(prop={\"size\": 14})\n",
        "\n",
        "#plot_learning_curve(epoch_count, loss_train_list, loss_test_list)"
      ],
      "metadata": {
        "id": "Fma3ZG0ku3_Y"
      },
      "execution_count": 29,
      "outputs": []
    },
    {
      "cell_type": "code",
      "source": [
        "plot_predictions(X_train,y_train,X_test,y_test)"
      ],
      "metadata": {
        "colab": {
          "base_uri": "https://localhost:8080/",
          "height": 428
        },
        "id": "R3EKy3ncwJ2i",
        "outputId": "e967caf8-82f0-4f94-b9bf-d4e48c0a11af"
      },
      "execution_count": 30,
      "outputs": [
        {
          "output_type": "display_data",
          "data": {
            "text/plain": [
              "<Figure size 720x504 with 1 Axes>"
            ],
            "image/png": "[encoded data removed]"
          },
          "metadata": {
            "needs_background": "light"
          }
        }
      ]
    },
    {
      "cell_type": "markdown",
      "metadata": {
        "id": "0nUjvDhNk09E"
      },
      "source": [
        "### Put data on target device"
      ]
    },
    {
      "cell_type": "code",
      "execution_count": 31,
      "metadata": {
        "id": "Y20qch0rk3NX"
      },
      "outputs": [],
      "source": [
        "X_train = X_train.to(device)\n",
        "X_test = X_test.to(device)\n",
        "y_train = y_train.to(device)\n",
        "y_test = y_test.to(device)"
      ]
    },
    {
      "cell_type": "markdown",
      "metadata": {
        "id": "w_fv2wRxbSdL"
      },
      "source": [
        "### 5.4 Build model\n",
        "\n",
        "We are changing the manual initialization to a nn built in layer initialization. a linear layer create the parameters for a linear regression model in the background.\n",
        "\n",
        "\n"
      ]
    },
    {
      "cell_type": "code",
      "execution_count": 32,
      "metadata": {
        "id": "7bn0_Ht2ZbqR"
      },
      "outputs": [],
      "source": [
        "\n",
        "\n",
        "class LinearRegressionModelV2(nn.Module):\n",
        "  def __init__(self):\n",
        "    super().__init__()\n",
        "\n",
        "    '''\n",
        "    use a new method for initializing parameters\n",
        "    initialize layers that have the parameters\n",
        "    instead of iniitializing the. parameters themselves\n",
        "    self.weights = nn.Parameter(torch.randn(1,\n",
        "                                            requires_grad=True,\n",
        "                                            dtype=torch.float))\n",
        "    self.bias = nn.Parameter(torch.randn(1,\n",
        "                                         requires_grad=True,\n",
        "                                         dtype=torch.float))\n",
        "\n",
        "    def forward() is also changed\n",
        "    '''\n",
        "    self.linear_layer = nn.Linear(in_features = 1,\n",
        "                                  out_features = 1)        # R --> R; one layer only.\n",
        "\n",
        "  def forward(self,x:torch.Tensor) -> torch.Tensor: \n",
        "    return self.linear_layer(x)"
      ]
    },
    {
      "cell_type": "code",
      "execution_count": 33,
      "metadata": {
        "colab": {
          "base_uri": "https://localhost:8080/"
        },
        "id": "BaDverjKdv72",
        "outputId": "a4269c41-2deb-4cdd-ec90-cd6074911d37"
      },
      "outputs": [
        {
          "output_type": "execute_result",
          "data": {
            "text/plain": [
              "OrderedDict([('linear_layer.weight', tensor([[0.7645]])),\n",
              "             ('linear_layer.bias', tensor([0.8300]))])"
            ]
          },
          "metadata": {},
          "execution_count": 33
        }
      ],
      "source": [
        "torch.manual_seed(42)\n",
        "model_1 = LinearRegressionModelV2()\n",
        "model_1.state_dict()"
      ]
    },
    {
      "cell_type": "markdown",
      "metadata": {
        "id": "6VXF37Mwkxli"
      },
      "source": [
        "### Put model on target device"
      ]
    },
    {
      "cell_type": "code",
      "execution_count": 34,
      "metadata": {
        "colab": {
          "base_uri": "https://localhost:8080/"
        },
        "id": "jpSlGIpafj6x",
        "outputId": "4e1d1450-1d2d-4a8c-e0b9-5693cbffc505"
      },
      "outputs": [
        {
          "output_type": "stream",
          "name": "stdout",
          "text": [
            "cpu\n",
            "cuda:0\n"
          ]
        }
      ],
      "source": [
        "# set the model to use the target device\n",
        "# although the runtime might be set to gpu, the parameters of the model still live on the cpu\n",
        "print(next(model_1.parameters()).device)\n",
        "model_1.to(device)\n",
        "print(next(model_1.parameters()).device)"
      ]
    },
    {
      "cell_type": "markdown",
      "metadata": {
        "id": "J-LolRIZhrVH"
      },
      "source": [
        "### 5.5 Build training and testinig loop"
      ]
    },
    {
      "cell_type": "code",
      "execution_count": 37,
      "metadata": {
        "colab": {
          "base_uri": "https://localhost:8080/"
        },
        "id": "4c2KufAIhBVh",
        "outputId": "5f253b4d-63ba-4a32-e82a-5252a5f34ed8"
      },
      "outputs": [
        {
          "output_type": "stream",
          "name": "stdout",
          "text": [
            "Epoch: 1 | Train_loss: 0.02854679338634014 | Test_loss: 0.07342612743377686\n",
            "Epoch: 51 | Train_loss: 0.010141652077436447 | Test_loss: 0.0001001251584966667\n",
            "Epoch: 101 | Train_loss: 0.010141652077436447 | Test_loss: 0.0001001251584966667\n",
            "Epoch: 151 | Train_loss: 0.010141652077436447 | Test_loss: 0.0001001251584966667\n",
            "Epoch: 201 | Train_loss: 0.010141652077436447 | Test_loss: 0.0001001251584966667\n",
            "Epoch: 251 | Train_loss: 0.010141652077436447 | Test_loss: 0.0001001251584966667\n",
            "Epoch: 301 | Train_loss: 0.010141652077436447 | Test_loss: 0.0001001251584966667\n",
            "Epoch: 351 | Train_loss: 0.010141652077436447 | Test_loss: 0.0001001251584966667\n",
            "Epoch: 401 | Train_loss: 0.010141652077436447 | Test_loss: 0.0001001251584966667\n",
            "Epoch: 451 | Train_loss: 0.010141652077436447 | Test_loss: 0.0001001251584966667\n",
            "Epoch: 501 | Train_loss: 0.010141652077436447 | Test_loss: 0.0001001251584966667\n",
            "Epoch: 551 | Train_loss: 0.010141652077436447 | Test_loss: 0.0001001251584966667\n",
            "Epoch: 601 | Train_loss: 0.010141652077436447 | Test_loss: 0.0001001251584966667\n",
            "Epoch: 651 | Train_loss: 0.010141652077436447 | Test_loss: 0.0001001251584966667\n",
            "Epoch: 701 | Train_loss: 0.010141652077436447 | Test_loss: 0.0001001251584966667\n",
            "Epoch: 751 | Train_loss: 0.010141652077436447 | Test_loss: 0.0001001251584966667\n",
            "Epoch: 801 | Train_loss: 0.010141652077436447 | Test_loss: 0.0001001251584966667\n",
            "Epoch: 851 | Train_loss: 0.010141652077436447 | Test_loss: 0.0001001251584966667\n",
            "Epoch: 901 | Train_loss: 0.010141652077436447 | Test_loss: 0.0001001251584966667\n",
            "Epoch: 951 | Train_loss: 0.010141652077436447 | Test_loss: 0.0001001251584966667\n"
          ]
        }
      ],
      "source": [
        "loss_fn = nn.L1Loss()\n",
        "optimizer = torch.optim.SGD(params = model_1.parameters(),\n",
        "                            lr=0.01\n",
        "                            )\n",
        "\n",
        "torch.manual_seed(42)\n",
        "epochs = 1000\n",
        "\n",
        "\n",
        "\n",
        "epoch_count=[]\n",
        "train_loss_list=[]\n",
        "test_loss_list=[]\n",
        "\n",
        "for epoch in range(epochs):\n",
        "    ### Training\n",
        "    model_1.train() # train mode is on by default after construction\n",
        "\n",
        "    # 1. Forward pass\n",
        "    y_pred = model_1(X_train)\n",
        "\n",
        "    # 2. Calculate loss\n",
        "    train_loss = loss_fn(y_pred, y_train)\n",
        "\n",
        "    # 3. Zero grad optimizer\n",
        "    optimizer.zero_grad()\n",
        "\n",
        "    # 4. Loss backward\n",
        "    train_loss.backward()       # not that this has to match the variable name for the traininig loss!!!\n",
        "\n",
        "    # 5. Step the optimizer\n",
        "    optimizer.step()\n",
        "\n",
        "  \n",
        "\n",
        "\n",
        "    model_1.eval()\n",
        "    with torch.inference_mode():\n",
        "      if epoch%50==1: \n",
        "        y_pred_test = model_1(X_test)\n",
        "        test_loss = loss_fn(y_pred_test,y_test)\n",
        "        test_loss_list.append(test_loss.detach().cpu().numpy())\n",
        "        epoch_count.append(epoch)\n",
        "        train_loss_list.append(train_loss.detach().cpu().numpy())\n",
        "\n",
        "        print(f\"Epoch: {epoch} | Train_loss: {train_loss} | Test_loss: {test_loss}\")\n",
        "        \n",
        "\n",
        "\n"
      ]
    },
    {
      "cell_type": "code",
      "execution_count": 37,
      "metadata": {
        "id": "ergq0xm5iJWw"
      },
      "outputs": [],
      "source": []
    },
    {
      "cell_type": "code",
      "source": [
        "train_data = X_train.detach().cpu().numpy()\n",
        "train_labels = y_train.detach().cpu().numpy()\n",
        "test_data = X_test.detach().cpu().numpy()\n",
        "test_labels = y_test.detach().cpu().numpy()\n",
        "y_pred_test = model_1(X_test)\n",
        "\n",
        "plot_predictions(train_data=train_data,\n",
        "                 train_labels = train_labels,\n",
        "                 test_data=test_data,\n",
        "                 test_labels=test_labels,\n",
        "                 predictions = y_pred_test.detach().cpu().numpy())\n",
        "\n",
        "\n"
      ],
      "metadata": {
        "colab": {
          "base_uri": "https://localhost:8080/",
          "height": 428
        },
        "id": "bG6puG7rn9Ku",
        "outputId": "d292ea23-19d0-449c-fbed-10a04bdc6328"
      },
      "execution_count": 38,
      "outputs": [
        {
          "output_type": "display_data",
          "data": {
            "text/plain": [
              "<Figure size 720x504 with 1 Axes>"
            ],
            "image/png": "[encoded data removed]"
          },
          "metadata": {
            "needs_background": "light"
          }
        }
      ]
    },
    {
      "cell_type": "code",
      "source": [],
      "metadata": {
        "id": "8WXHzqJXqmqZ"
      },
      "execution_count": 36,
      "outputs": []
    }
  ]
}